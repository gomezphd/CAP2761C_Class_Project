{
    "metadata": {
        "kernelspec": {
            "name": "SQL",
            "display_name": "SQL",
            "language": "sql"
        },
        "language_info": {
            "name": "sql",
            "version": ""
        }
    },
    "nbformat_minor": 2,
    "nbformat": 4,
    "cells": [
        {
            "cell_type": "markdown",
            "source": [
                "<!-- Main Container -->\r\n",
                "<div style=\"background-color: #f0f8ff; padding: 20px; border-radius: 8px; margin-bottom: 20px;\">\r\n",
                "    <!-- Main Heading -->\r\n",
                "    <div style=\"background-color: #004080; padding: 20px; border-radius: 8px; border: 2px solid #004080; margin-bottom: 20px;\">\r\n",
                "        <h1 style=\"color: #ffffff; font-weight: bold; text-align: center; font-size: 24px;\">Airline On-Time Arrival Performance Analysis for Domestic Flights in March 2024</h1>\r\n",
                "    </div>\r\n",
                "    <!-- Subheading for Course Information -->\r\n",
                "    <h2 style=\"color: #000080; font-weight: bold; text-align: center;\">CAP 2761C - Intermediate Analytics</h2>\r\n",
                "    <h3 style=\"color: #000080; font-weight: bold; text-align: center;\">Professor: Pedro Vargas Garces</h3>\r\n",
                "    <!-- Student Names -->\r\n",
                "    <p style=\"color: #0047AB; font-size: 16px; text-align: center;\">Carlos C. Gomez</p>\r\n",
                "    <p style=\"color: #0047AB; font-size: 16px; text-align: center;\">Matthew Mullin</p>\r\n",
                "    <!-- Date -->\r\n",
                "    <p style=\"color: #0047AB; font-weight: bold; text-align: center; margin-top: 30px;\">Date: 6/13/2024</p>\r\n",
                "</div>\r\n",
                "\r\n",
                "\r\n",
                ""
            ],
            "metadata": {
                "azdata_cell_guid": "e3041bf3-de2d-4614-b0dc-658d051393a3"
            },
            "attachments": {}
        },
        {
            "cell_type": "markdown",
            "source": [
                "\r\n",
                "\r\n",
                "<!-- Main Container for Heading -->\r\n",
                "<div style=\"background-color: #004080; padding: 10px; border-radius: 8px; margin-bottom: 20px; text-align: center;\">\r\n",
                "<h2 style=\"color: #ffffff; font-weight: bold; font-size: 20px; margin: 0;\">1. The Dataset</h2>\r\n",
                "</div>\r\n",
                "\r\n",
                "<div style=\"background-color: #f0f8ff; padding: 20px; border-radius: 8px; margin-bottom: 20px;\">\r\n",
                "    <ol style=\"color: #000000; font-size: 16px;\">\r\n",
                "        The data used in this analysis is sourced from the Bureau of Transportation Statistics (BTS). The BTS tracks the on-time performance of domestic flights operated by large air carriers. Summary information on the number of on-time, delayed, canceled, and diverted flights appears in the monthly Air Travel Consumer Report, published about 30 days after the month’s end. For more details, please visit the Bureau of Transportation Statistics <a href=\"https://www.transtats.bts.gov/OT_Delay/OT_DelayCause1.asp\" target=\"_blank\" style=\"color: #800000; text-decoration: none;\">website</a>.\r\n",
                "    </ol>\r\n",
                "</div>"
            ],
            "metadata": {
                "azdata_cell_guid": "28f3f4f6-3e78-4434-b2c2-91ff68014bd0"
            },
            "attachments": {}
        },
        {
            "cell_type": "markdown",
            "source": [
                "\r\n",
                "<!-- Main Container for Heading -->\r\n",
                "<div style=\"background-color: #004080; padding: 10px; border-radius: 8px; margin-bottom: 20px; text-align: center;\">\r\n",
                "<h2 style=\"color: #ffffff; font-weight: bold; font-size: 20px; margin: 0;\">2. Setting Up the Environment</h2>\r\n",
                "</div>\r\n",
                "\r\n",
                "<!-- Main Container -->\r\n",
                "<div style=\"background-color: #f0f8ff; padding: 20px; border-radius: 8px; margin-bottom: 20px;\">\r\n",
                "    <p style=\"color: #800000; font-size: 16px; font-weight: bold;text-align: center;\">Step 1: Create Database in SQL Server Management Studio (SMSS)</p>\r\n",
                "    <p style=\"color: #000080; font-size: 16px;\">\r\n",
                "        Follow these sub-steps to create and set up your database:\r\n",
                "    </p>\r\n",
                "    <ol style=\"color: #000080; font-size: 16px;\">\r\n",
                "        <li>Create a database named <code>FlightDelays</code> (case sensitive) in SMSS.</li>\r\n",
                "        <li>Load the flat file <strong>[FlightsTable.csv]</strong> found in the same folder as this notebook.</li>\r\n",
                "        <li>Name the table <code>Flights</code> (case sensitive).</li>\r\n",
                "        <li>Ensure the table structure and character types are as shown below:</li>\r\n",
                "    </ol>\r\n",
                "</div>\r\n",
                "\r\n",
                "<!-- Main Container for Character Types Image -->\r\n",
                "<div style=\"background-color: #f0f8ff; padding: 20px; border-radius: 8px; margin-bottom: 20px;\">\r\n",
                "    <p style=\"color: #000000; font-size: 16px;\">Character Types:</p>\r\n",
                "\r\n",
                "  \r\n",
                "\r\n",
                "![](data:image/png;base64,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)\r\n",
                "\r\n",
                "</div>\r\n",
                "\r\n",
                "<!-- Main Container -->\r\n",
                "<div style=\"background-color: #f0f8ff; padding: 20px; border-radius: 8px; margin-bottom: 20px;\">\r\n",
                "    <p style=\"color: #800000; font-size: 16px; font-weight: bold;\">Step 2: Connect to the Database</p>\r\n",
                "    <p style=\"color: #000080; font-size: 16px;\">\r\n",
                "        Use the <code>USE</code> statement to set the context for the FlightsDelay database and connect it to the one you created in SMSS:\r\n",
                "    </p>\r\n",
                "    <pre style=\"background-color: #ffffff; padding: 10px; border: 1px solid #004080; border-radius: 8px; color: #000080; font-size: 16px;\">\r\n",
                "USE FlightDelays;\r\n",
                "    </pre>\r\n",
                "</div>\r\n",
                "\r\n",
                "\r\n",
                ""
            ],
            "metadata": {
                "azdata_cell_guid": "e5a8ceb9-3550-45ce-968d-611c2045af48"
            },
            "attachments": {}
        },
        {
            "cell_type": "code",
            "source": [
                "USE FlightDelays; \r\n",
                "\r\n",
                "-- The drop table statements are in case the user wants to recurse through the process\r\n",
                "\r\n",
                "\r\n",
                "-- Drop AirlineAssociations table if it exists\r\n",
                "IF OBJECT_ID('dbo.AirlineAssociations', 'U') IS NOT NULL \r\n",
                "    DROP TABLE dbo.AirlineAssociations;\r\n",
                "\r\n",
                "\r\n",
                "-- Drop AirlineMetrics table if it exists\r\n",
                "IF OBJECT_ID('dbo.AirlineMetrics', 'U') IS NOT NULL \r\n",
                "    DROP TABLE dbo.AirlineMetrics;\r\n",
                "\r\n",
                "\r\n",
                "\r\n",
                "\r\n",
                ""
            ],
            "metadata": {
                "azdata_cell_guid": "562ae70d-b486-4705-bddb-160b2bd4836a",
                "language": "sql",
                "tags": [
                    "hide_input"
                ]
            },
            "outputs": [
                {
                    "output_type": "display_data",
                    "data": {
                        "text/html": "Commands completed successfully."
                    },
                    "metadata": {}
                },
                {
                    "output_type": "display_data",
                    "data": {
                        "text/html": "Total execution time: 00:00:00"
                    },
                    "metadata": {}
                }
            ],
            "execution_count": 9
        },
        {
            "cell_type": "markdown",
            "source": [
                "<!-- Main Container -->\r\n",
                "<div style=\"background-color: #f0f8ff; padding: 20px; border-radius: 8px; margin-bottom: 20px;\">\r\n",
                "    <p style=\"color: #800000; font-size: 16px; font-weight: bold;\">Step 3: Create the AirlineAssociations Table</p>\r\n",
                "    <p style=\"color: #000080; font-size: 16px;\">\r\n",
                "        In the cell below, we use the following SQL statement to create the <code>AirlineAssociations</code> table with the necessary columns to store airline code, name, operating brand, and marketing airline:\r\n",
                "    </p>\r\n",
                "    <pre style=\"background-color: #ffffff; padding: 10px; border: 1px solid #004080; border-radius: 8px; color: #000080; font-size: 16px;\">\r\n",
                "CREATE TABLE FlightDelays.dbo.AirlineAssociations\r\n",
                "(\r\n",
                "    AirlineCode NVARCHAR(10),\r\n",
                "    AirCarrier NVARCHAR(100) NOT NULL,\r\n",
                "    OperatingBrand NVARCHAR(100) NOT NULL,\r\n",
                "    MarketingAirline NVARCHAR(100) NOT NULL\r\n",
                ");\r\n",
                "    </pre>\r\n",
                "    <p style=\"color: #000000; font-size: 16px;\">\r\n",
                "        The <code>AirlineAssociations</code> table is designed to consolidate airline data, reduce redundancy, and facilitate easier analysis of flight delay information. By associating various carriers with their marketing airlines, we can streamline data queries and reports.\r\n",
                "    </p>\r\n",
                "</div>\r\n",
                ""
            ],
            "metadata": {
                "language": "sql",
                "azdata_cell_guid": "71c25a75-d19a-4384-8f1d-bdf273d92617"
            },
            "attachments": {}
        },
        {
            "cell_type": "code",
            "source": [
                "CREATE TABLE FlightDelays.dbo.AirlineAssociations\r\n",
                "    (\r\n",
                "        AirlineCode NVARCHAR(3),\r\n",
                "        AirCarrier NVARCHAR(50) NOT NULL,\r\n",
                "        CarrierBrand NVARCHAR(50) NOT NULL,\r\n",
                "        MarketingAirline NVARCHAR(50) NOT NULL\r\n",
                "    );\r\n",
                "\r\n",
                "-- Insert relationship data into AirlineAssociations table\r\n",
                "INSERT INTO FlightDelays.dbo.AirlineAssociations (AirlineCode, AirCarrier, CarrierBrand, MarketingAirline)\r\n",
                "VALUES \r\n",
                "    -- American Airlines Group\r\n",
                "    ('AA', 'American Airlines', 'American Airlines', 'American Airlines Group'),\r\n",
                "    ('YX', 'Republic Airline', 'American Eagle', 'American Airlines Group'),\r\n",
                "    ('MQ', 'Envoy Air', 'American Eagle', 'American Airlines Group'),\r\n",
                "    ('OH', 'PSA Airlines', 'American Eagle', 'American Airlines Group'),\r\n",
                "    ('PT', 'Piedmont Airlines', 'American Eagle', 'American Airlines Group'),\r\n",
                "    ('YV', 'Mesa Airlines Inc.', 'American Eagle', 'American Airlines Group'),\r\n",
                "\r\n",
                "    -- United Airlines Group\r\n",
                "    ('UA', 'United Airlines', 'United Airlines', 'United Airlines Group'),\r\n",
                "    ('OO', 'SkyWest Airlines Inc.', 'United Express', 'United Airlines Group'),\r\n",
                "    ('C5', 'CommuteAir LLC', 'United Express', 'United Airlines Group'),\r\n",
                "    ('ZW', 'Air Wisconsin Airlines Corp', 'United Express', 'United Airlines Group'),\r\n",
                "    ('G7', 'GoJet Airlines LLC', 'United Express', 'United Airlines Group'),\r\n",
                "\r\n",
                "    -- Delta Air Lines Group\r\n",
                "    ('DL', 'Delta Air Lines', 'Delta Air Lines', 'Delta Air Lines Group'),\r\n",
                "    ('OO', 'SkyWest Airlines Inc.', 'Delta Connection', 'Delta Air Lines Group'),\r\n",
                "    ('9E', 'Endeavor Air Inc.', 'Delta Connection', 'Delta Air Lines Group'),\r\n",
                "\r\n",
                "    -- Southwest Airlines\r\n",
                "    ('WN', 'Southwest Airlines', 'Southwest Airlines', 'Southwest Airlines'),\r\n",
                "\r\n",
                "    -- Alaska Airlines Group\r\n",
                "    ('AS', 'Alaska Airlines', 'Alaska Airlines', 'Alaska Airlines Group'),\r\n",
                "    ('QX', 'Horizon Air', 'Alaska Airlines', 'Alaska Airlines Group'),\r\n",
                "\r\n",
                "    -- Spirit Airlines\r\n",
                "    ('NK', 'Spirit Airlines', 'Spirit Airlines', 'Spirit Airlines'),\r\n",
                "\r\n",
                "    -- JetBlue Airways\r\n",
                "    ('B6', 'JetBlue Airways', 'JetBlue Airways', 'JetBlue Airways'),\r\n",
                "\r\n",
                "    -- Frontier Airlines\r\n",
                "    ('F9', 'Frontier Airlines', 'Frontier Airlines', 'Frontier Airlines'),\r\n",
                "\r\n",
                "    -- Allegiant Air\r\n",
                "    ('G4', 'Allegiant Air', 'Allegiant Air', 'Allegiant Air'),\r\n",
                "\r\n",
                "    -- Hawaiian Airlines\r\n",
                "    ('HA', 'Hawaiian Airlines', 'Hawaiian Airlines', 'Hawaiian Airlines');\r\n",
                ""
            ],
            "metadata": {
                "language": "sql",
                "azdata_cell_guid": "ac292c2e-eda3-4577-88bb-3ee04bc76ba1",
                "tags": [
                    "hide_input"
                ]
            },
            "outputs": [
                {
                    "output_type": "display_data",
                    "data": {
                        "text/html": "(22 rows affected)"
                    },
                    "metadata": {}
                },
                {
                    "output_type": "display_data",
                    "data": {
                        "text/html": "Total execution time: 00:00:00.008"
                    },
                    "metadata": {}
                }
            ],
            "execution_count": 10
        },
        {
            "cell_type": "markdown",
            "source": [
                "<!-- Main Container -->\r\n",
                "<div style=\"background-color: #f0f8ff; padding: 20px; border-radius: 8px; margin-bottom: 20px;\">\r\n",
                "    <p style=\"color: #800000; font-size: 16px; font-weight: bold;\">Step 4: Create the AirlineMetrics Table</p>\r\n",
                "    <p style=\"color: #000080; font-size: 16px;\">\r\n",
                "        In the cell below, we use the following SQL statement to create the <code>AirlineMetrics</code> table and then polulate it:\r\n",
                "    </p>\r\n",
                "    <pre style=\"background-color: #ffffff; padding: 10px; border: 1px solid #004080; border-radius: 8px; color: #000080; font-size: 16px;\">\r\n",
                "CREATE TABLE FlightDelays.dbo.AirlineMetrics\r\n",
                "(\r\n",
                "    MarketingAirline NVARCHAR(50),\r\n",
                "    TotalFlights INT,\r\n",
                "    OnTimeFlights INT,\r\n",
                "    DelayedFlights INT,\r\n",
                "    DelayPercentage DECIMAL(5,2),\r\n",
                "    OnTimePercentage DECIMAL(5,2)\r\n",
                ");\r\n",
                "    </pre>\r\n",
                "</div>\r\n",
                ""
            ],
            "metadata": {
                "language": "sql",
                "azdata_cell_guid": "4097c45d-6cbd-4df5-99de-3383401d7577"
            },
            "attachments": {}
        },
        {
            "cell_type": "code",
            "source": [
                "CREATE TABLE FlightDelays.dbo.AirlineMetrics \r\n",
                "    (\r\n",
                "        MarketingAirline NVARCHAR(50),   -- The name of the marketing airline\r\n",
                "        TotalFlights INT,                 -- Total number of flights\r\n",
                "        OnTimeFlights INT,                -- Total number of on-time flights\r\n",
                "        DelayedFlights INT,               -- Total number of delayed flights\r\n",
                "        DelayPercentage DECIMAL(5,2),     -- Percentage of delayed flights\r\n",
                "        OnTimePercentage DECIMAL(5,2)     -- Percentage of on-time flights\r\n",
                "    );\r\n",
                "\r\n",
                "-- 2. INSERT AGGREGATED DATA INTO AIRLINE METRICS TABLE\r\n",
                "INSERT INTO FlightDelays.dbo.AirlineMetrics (MarketingAirline, TotalFlights, OnTimeFlights, DelayedFlights, DelayPercentage, OnTimePercentage)\r\n",
                "SELECT \r\n",
                "    aa.MarketingAirline,\r\n",
                "    SUM(f.Count_Arrivals) AS TotalFlights,\r\n",
                "    SUM(f.Count_Arrivals - f.Count_ArrFlights_Delayed15PlusMin) AS OnTimeFlights,\r\n",
                "    SUM(f.Count_ArrFlights_Delayed15PlusMin) AS DelayedFlights,\r\n",
                "    \r\n",
                "    -- Calculate Delay Percentage\r\n",
                "    CAST((SUM(f.Count_ArrFlights_Delayed15PlusMin) * 100.0 / SUM(f.Count_Arrivals)) AS DECIMAL(5,2)) AS DelayPercentage,\r\n",
                "    \r\n",
                "    -- Calculate On-Time Percentage\r\n",
                "    CAST((SUM(f.Count_Arrivals - f.Count_ArrFlights_Delayed15PlusMin) * 100.0 / SUM(f.Count_Arrivals)) AS DECIMAL(5,2)) AS OnTimePercentage\r\n",
                "\r\n",
                "FROM \r\n",
                "    FlightDelays.dbo.Flights f\r\n",
                "\r\n",
                "JOIN \r\n",
                "    FlightDelays.dbo.AirlineAssociations aa \r\n",
                "            ON f.AirlineCode = aa.AirlineCode\r\n",
                "GROUP BY \r\n",
                "    aa.MarketingAirline\r\n",
                "ORDER BY \r\n",
                "    TotalFlights DESC;\r\n",
                ""
            ],
            "metadata": {
                "language": "sql",
                "azdata_cell_guid": "521fdb8c-0ecf-42a2-a534-f881540f2c3d",
                "tags": [
                    "hide_input"
                ]
            },
            "outputs": [
                {
                    "output_type": "display_data",
                    "data": {
                        "text/html": "(10 rows affected)"
                    },
                    "metadata": {}
                },
                {
                    "output_type": "display_data",
                    "data": {
                        "text/html": "Total execution time: 00:00:00.013"
                    },
                    "metadata": {}
                }
            ],
            "execution_count": 11
        },
        {
            "cell_type": "markdown",
            "source": [
                "<!-- Main Container for Analysis and Visualizations Heading -->\n",
                "<div style=\"background-color: #004080; padding: 10px; border-radius: 8px; margin-bottom: 20px; text-align: center;\">\n",
                "<h2 style=\"color: #ffffff; font-weight: bold; font-size: 20px; margin: 0;\">3. Analysis and Visualizations</h2>\n",
                "</div>\n",
                "\n",
                "<!--1. Main Container for Visualization Index -->\n",
                "<div id=\"visualization1\" style=\"background-color: #f0f8ff; padding: 15px; border-radius: 8px; margin-bottom: 20px; border: 2px solid #004080;\">\n",
                "<p style=\"color: #000000; font-size: 16px;\">\n",
                "The following visualizations provide an in-depth analysis of airline on-time arrival performance for domestic flights in March 2024. The analysis is divided into three main sections:\n",
                "</p>\n",
                "\n",
                "<!-- National Airline Performance Overview -->\n",
                "<h3 style=\"color: #228B22; font-weight: bold;\">A. National Airline Performance Overview</h3>\n",
                "<p style=\"color: #000000; font-size: 16px;\">\n",
                "\n",
                "\n",
                "<h3 style=\"color: #228B22; font-weight: bold; margin-top: 20px;\">B. Miami Metropolitan Area Airports (MIA, FLL, PBI) </h3>\n",
                "<p style=\"color: #000000; font-size: 16px;\">\n",
                "\n",
                "\n",
                "<h3 style=\"color: #228B22; font-weight: bold; margin-top: 20px;\">C. Miami International Airport (MIA)</h3>\n",
                "<p style=\"color: #000000; font-size: 16px;\">\n",
                "\n",
                ""
            ],
            "metadata": {
                "language": "sql",
                "azdata_cell_guid": "07b1eca6-8145-497a-954c-3890fc9d34e8"
            },
            "attachments": {}
        },
        {
            "cell_type": "markdown",
            "source": [
                "<!-- Main Container for Analysis and Visualizations Heading -->\r\n",
                "<div style=\"background-color: #228B22; padding: 10px; border-radius: 8px; margin-bottom: 20px; text-align: center;\">\r\n",
                "<h2 style=\"color: #ffffff; font-weight: bold; font-size: 20px; margin: 0;\">A. National Airline Performance Review</h2>\r\n",
                "</div>\r\n",
                "\r\n",
                "<p style=\"color: #000000; font-size: 16px;\">\r\n",
                "This section provides visualizations for a broad overview of the domestic carriers in the United States and their \"On-Time Arrival\" statistics. The first visualization is a table showing the relationships between US domestic carriers that report to the Bureau of Transportation Statistics (BTS). This table illustrates the individual carriers, their co-branding relationships (such as regional carriers branded as American Eagle, Delta Connection, or United Express), and their associations with major airline groups. The second visualization is a pie chart depicting the percentage of on-time arrivals versus delayed flights (arrivals 15+ minutes after the scheduled time). The third visualization is a donut chart detailing the various reasons for delayed arrivals nationwide.\r\n",
                "</p>\r\n",
                "\r\n",
                ""
            ],
            "metadata": {
                "language": "sql",
                "azdata_cell_guid": "93da05fe-27a7-4108-802e-f411d36b7be0"
            },
            "attachments": {}
        },
        {
            "cell_type": "markdown",
            "source": [
                "<!-- Section Container -->\r\n",
                "<div style=\"background-color: #f0f8ff; padding: 20px; border-radius: 8px; margin-bottom: 20px;\">\r\n",
                "\r\n",
                "<!-- Main Heading -->\r\n",
                "<h1 style=\"color: #004080; font-weight: bold; \r\n",
                "text-align: center; margin-top: 20px; font-size: 24px;\">\r\n",
                "Proportions of On-Time  and Late Arrivals<br>\r\n",
                "<em style=\"font-style: italic; font-family: 'Courier New', Courier, monospace;\">All US Airports(March 2024)</em>\r\n",
                "</h1>\r\n",
                "\r\n",
                "</div>\r\n",
                "\r\n",
                ""
            ],
            "metadata": {
                "language": "sql",
                "azdata_cell_guid": "98d6f166-2e0b-4698-9b82-00489e6b2a0d"
            },
            "attachments": {}
        },
        {
            "cell_type": "code",
            "source": [
                "-- 1. Pie Chart of On-Time and Late Arrivals for March 2024\r\n",
                "\r\n",
                "/* Use WITH Clause to make the query more readable and use a top-down method */\r\n",
                "\r\n",
                "-- SUM: Calculate total flights and late flights\r\n",
                "WITH TotalFlights AS (\r\n",
                "    -- Total Arrivals: Sum of all arrivals to get the total number of flights\r\n",
                "    SELECT SUM(Count_Arrivals) AS TotalArrivals\r\n",
                "    FROM FlightDelays.dbo.Flights\r\n",
                "),\r\n",
                "LateFlights AS (\r\n",
                "    -- Late Arrivals: Sum of all arrivals that were delayed by 15 or more minutes\r\n",
                "    SELECT SUM(Count_ArrFlights_Delayed15PlusMin) AS LateArrivals\r\n",
                "    FROM FlightDelays.dbo.Flights\r\n",
                ")\r\n",
                "\r\n",
                "-- PERCENTAGES: Select the percentage of on-time and late flights\r\n",
                "SELECT\r\n",
                "    'On Time Arrival' AS Status, \r\n",
                "    -- Calculate the percentage of on-time flights\r\n",
                "    FORMAT((TotalArrivals - LateArrivals) * 100.0 / TotalArrivals, 'N1') AS Percentage\r\n",
                "FROM \r\n",
                "    TotalFlights, \r\n",
                "    LateFlights\r\n",
                "UNION ALL -- Combine the results of on-time and late percentages in one result set\r\n",
                "\r\n",
                "SELECT \r\n",
                "    'Late Arrival (15+ Minutes After Scheduled)' AS Status, \r\n",
                "    -- Calculate the percentage of late flights\r\n",
                "    FORMAT(LateArrivals * 100.0 / TotalArrivals, 'N1') AS Percentage\r\n",
                "FROM \r\n",
                "    TotalFlights, \r\n",
                "    LateFlights;\r\n",
                ""
            ],
            "metadata": {
                "language": "sql",
                "azdata_cell_guid": "10840c89-ab43-4617-9834-d1be9bbec8c7",
                "tags": [
                    "hide_input"
                ]
            },
            "outputs": [
                {
                    "output_type": "display_data",
                    "data": {
                        "text/html": "(2 rows affected)"
                    },
                    "metadata": {}
                },
                {
                    "output_type": "display_data",
                    "data": {
                        "text/html": "Total execution time: 00:00:00.228"
                    },
                    "metadata": {}
                },
                {
                    "output_type": "execute_result",
                    "execution_count": 12,
                    "data": {
                        "application/vnd.dataresource+json": {
                            "schema": {
                                "fields": [
                                    {
                                        "name": "Status"
                                    },
                                    {
                                        "name": "Percentage"
                                    }
                                ]
                            },
                            "data": [
                                {
                                    "Status": "On Time Arrival",
                                    "Percentage": "79.8"
                                },
                                {
                                    "Status": "Late Arrival (15+ Minutes After Scheduled)",
                                    "Percentage": "20.2"
                                }
                            ]
                        },
                        "text/html": "<table><tr><th>Status</th><th>Percentage</th></tr><tr><td>On Time Arrival</td><td>79.8</td></tr><tr><td>Late Arrival (15+ Minutes After Scheduled)</td><td>20.2</td></tr></table>"
                    },
                    "metadata": {
                        "azdata_chartOptions": {
                            "type": "pie",
                            "dataDirection": "vertical",
                            "columnsAsLabels": true,
                            "labelFirstColumn": false,
                            "legendPosition": "bottom"
                        }
                    }
                }
            ],
            "execution_count": 12
        },
        {
            "cell_type": "markdown",
            "source": [
                "<!-- Section Container -->\r\n",
                "<div style=\"background-color: #f0f8ff; padding: 20px; border-radius: 8px; margin-bottom: 20px;\">\r\n",
                "\r\n",
                "<!-- Main Heading -->\r\n",
                "<h1 style=\"color: #004080; font-weight: bold; \r\n",
                "text-align: center; margin-top: 20px; font-size: 24px;\">\r\n",
                "Proportions For Main Causes of Domestic Flight Delayed Arrivals<br>\r\n",
                "<em style=\"font-style: italic; font-family: 'Courier New', Courier, monospace;\">All US Airports(March 2024)</em>\r\n",
                "</h1>\r\n",
                "\r\n",
                "</div>\r\n",
                "\r\n",
                "\r\n",
                "\r\n",
                ""
            ],
            "metadata": {
                "azdata_cell_guid": "c35bdaf8-b22b-4f2f-9b0c-eecb6910db0b"
            },
            "attachments": {}
        },
        {
            "cell_type": "code",
            "source": [
                "-- 2. Donut Chart: Distribution of \"Causes for Delays\" with Counts and Percentages (All US Aiport, March 2024)\r\n",
                "\r\n",
                "-- STEP 1: WITH Clause - Create the Common Table Expession\r\n",
                "\r\n",
                "WITH DelayCauses AS (\r\n",
                "\r\n",
                "-- Circumstances Within The Control of the Airline (e.g., Maintenance, Late Crew, Aircraft Cleaning, Baggage, Fueling, etc.)\r\n",
                "    SELECT \r\n",
                "        'Circumstances Within The Control of the Airline (i.e Maintenance, Late Crew, Aircraft Cleaning, Baggage, Fueling, etc.)' AS Cause, \r\n",
                "        SUM(FlightDelays.dbo.Flights.Count_Airline_Delay) AS DelayCount \r\n",
                "    FROM \r\n",
                "        FlightDelays.dbo.Flights\r\n",
                "    UNION ALL\r\n",
                "\r\n",
                "\r\n",
                " -- Extreme Weather (Actual or Forecasted)\r\n",
                "    SELECT \r\n",
                "        'Extreme Weather (Actual or Forecasted)' AS Cause, \r\n",
                "        SUM(FlightDelays.dbo.Flights.Count_Weather_Delay) AS DelayCount \r\n",
                "    FROM \r\n",
                "        FlightDelays.dbo.Flights\r\n",
                "    UNION ALL\r\n",
                "\r\n",
                "\r\n",
                " -- National Aviation System Delay (e.g., heavy volume, airport operations, air traffic control)\r\n",
                "    SELECT \r\n",
                "        'National Aviation System Delay, such as heavy volume, airport operations, and air traffic control' AS Cause, \r\n",
                "        SUM(FlightDelays.dbo.Flights.Count_NAS_Delay) AS DelayCount \r\n",
                "    FROM \r\n",
                "        FlightDelays.dbo.Flights\r\n",
                "    UNION ALL\r\n",
                "\r\n",
                "\r\n",
                " -- Security Delays (e.g., security breaches, inoperative screening equipment, long lines in screening areas)\r\n",
                "    SELECT \r\n",
                "        'Security (Security breaches, inoperative screening equipment, lines >29 minutes in screening areas)' AS Cause, \r\n",
                "        SUM(FlightDelays.dbo.Flights.Count_Security_Delay) AS DelayCount \r\n",
                "    FROM \r\n",
                "        FlightDelays.dbo.Flights\r\n",
                "    UNION ALL\r\n",
                "\r\n",
                "\r\n",
                " -- Previous Flight on Same Aircraft Arrived Late\r\n",
                "    SELECT \r\n",
                "        'Previous Flight on Same Aircraft Arrived Late' AS Cause, \r\n",
                "        SUM(FlightDelays.dbo.Flights.Count_LateAircraft_Delay) AS DelayCount \r\n",
                "    FROM \r\n",
                "        FlightDelays.dbo.Flights\r\n",
                "    UNION ALL\r\n",
                "\r\n",
                "\r\n",
                " -- Cancelled Flights\r\n",
                "    SELECT \r\n",
                "        'Cancelled' AS Cause, \r\n",
                "        SUM(FlightDelays.dbo.Flights.Count_Arrivals_Cancelled) AS DelayCount \r\n",
                "    FROM \r\n",
                "        FlightDelays.dbo.Flights\r\n",
                "    UNION ALL\r\n",
                "\r\n",
                "\r\n",
                " -- Diverted Flights\r\n",
                "    SELECT \r\n",
                "        'Diverted' AS Cause, \r\n",
                "        SUM(FlightDelays.dbo.Flights.Count_Arrivals_Diverted) AS DelayCount \r\n",
                "    FROM \r\n",
                "        FlightDelays.dbo.Flights\r\n",
                ")\r\n",
                "\r\n",
                "\r\n",
                "--STEP 2:  MAIN SELECT STATEMENT \r\n",
                "\r\n",
                "-- Select and calculate the percentage of each delay cause\r\n",
                "SELECT \r\n",
                "    Cause, -- Description of the cause for each delay\r\n",
                "    DelayCount, -- Total number of delays per cause category\r\n",
                "\r\n",
                "    /* \r\n",
                "    Calculate the percentage of each delay cause:\r\n",
                "    Divide DelayCount by the total delays (SUM(DelayCount)) and multiply by 100\r\n",
                "    */\r\n",
                "    CAST(\r\n",
                "        (DelayCount * 100.0 / SUM(DelayCount) OVER ()) \r\n",
                "        AS DECIMAL(5, 2)\r\n",
                "    ) AS Percentage\r\n",
                "FROM \r\n",
                "    DelayCauses\r\n",
                "ORDER BY \r\n",
                "    DelayCount DESC; -- Order by the number of delays in descending order\r\n",
                ""
            ],
            "metadata": {
                "language": "sql",
                "azdata_cell_guid": "fa051955-d976-484f-ad97-62a5b024adfe",
                "tags": [
                    "hide_input"
                ]
            },
            "outputs": [
                {
                    "output_type": "display_data",
                    "data": {
                        "text/html": "(7 rows affected)"
                    },
                    "metadata": {}
                },
                {
                    "output_type": "display_data",
                    "data": {
                        "text/html": "Total execution time: 00:00:00.015"
                    },
                    "metadata": {}
                },
                {
                    "output_type": "execute_result",
                    "execution_count": 13,
                    "data": {
                        "application/vnd.dataresource+json": {
                            "schema": {
                                "fields": [
                                    {
                                        "name": "Cause"
                                    },
                                    {
                                        "name": "DelayCount"
                                    },
                                    {
                                        "name": "Percentage"
                                    }
                                ]
                            },
                            "data": [
                                {
                                    "Cause": "Previous Flight on Same Aircraft Arrived Late",
                                    "DelayCount": "48092.5900516063",
                                    "Percentage": "35.90"
                                },
                                {
                                    "Cause": "Circumstances Within The Control of the Airline (i.e Maintenance, Late Crew, Aircraft Cleaning, Baggage, Fueling, etc.)",
                                    "DelayCount": "37666.5899305027",
                                    "Percentage": "28.12"
                                },
                                {
                                    "Cause": "National Aviation System Delay, such as heavy volume, airport operations, and air traffic control",
                                    "DelayCount": "37595.8900164254",
                                    "Percentage": "28.07"
                                },
                                {
                                    "Cause": "Cancelled",
                                    "DelayCount": "5377",
                                    "Percentage": "4.01"
                                },
                                {
                                    "Cause": "Extreme Weather (Actual or Forecasted)",
                                    "DelayCount": "3502.089995443821",
                                    "Percentage": "2.61"
                                },
                                {
                                    "Cause": "Diverted",
                                    "DelayCount": "1329",
                                    "Percentage": "0.99"
                                },
                                {
                                    "Cause": "Security (Security breaches, inoperative screening equipment, lines >29 minutes in screening areas)",
                                    "DelayCount": "391.31000011600554",
                                    "Percentage": "0.29"
                                }
                            ]
                        },
                        "text/html": "<table><tr><th>Cause</th><th>DelayCount</th><th>Percentage</th></tr><tr><td>Previous Flight on Same Aircraft Arrived Late</td><td>48092.5900516063</td><td>35.90</td></tr><tr><td>Circumstances Within The Control of the Airline (i.e Maintenance, Late Crew, Aircraft Cleaning, Baggage, Fueling, etc.)</td><td>37666.5899305027</td><td>28.12</td></tr><tr><td>National Aviation System Delay, such as heavy volume, airport operations, and air traffic control</td><td>37595.8900164254</td><td>28.07</td></tr><tr><td>Cancelled</td><td>5377</td><td>4.01</td></tr><tr><td>Extreme Weather (Actual or Forecasted)</td><td>3502.089995443821</td><td>2.61</td></tr><tr><td>Diverted</td><td>1329</td><td>0.99</td></tr><tr><td>Security (Security breaches, inoperative screening equipment, lines &gt;29 minutes in screening areas)</td><td>391.31000011600554</td><td>0.29</td></tr></table>"
                    },
                    "metadata": {
                        "azdata_chartOptions": {
                            "type": "doughnut",
                            "dataDirection": "vertical",
                            "columnsAsLabels": true,
                            "labelFirstColumn": false,
                            "legendPosition": "left"
                        }
                    }
                }
            ],
            "execution_count": 13
        },
        {
            "cell_type": "markdown",
            "source": [
                "\r\n",
                "<!-- Section Container -->\r\n",
                "<div style=\"background-color: #f0f8ff; padding: 20px; border-radius: 8px; margin-bottom: 20px;\">\r\n",
                "\r\n",
                "<!-- Main Heading -->\r\n",
                "<h1 style=\"color: #004080; font-weight: bold; \r\n",
                "text-align: center; margin-top: 20px; font-size: 24px;\">\r\n",
                "Relationships between US Domestic AirCarriers and Airline Groups<br>\r\n",
                "<em style=\"font-style: italic; font-family: 'Courier New', Courier, monospace;\">(March 2024)</em>\r\n",
                "</h1>\r\n",
                ""
            ],
            "metadata": {
                "language": "sql",
                "azdata_cell_guid": "54d3e2ee-7100-4258-bfb4-72f2052884f6"
            },
            "attachments": {}
        },
        {
            "cell_type": "code",
            "source": [
                "-- 3. Table of Relationships betweeen Airline Carriers, Carrier Brands, and Marketing Airlne\r\n",
                "\r\n",
                "SELECT      \r\n",
                "    AirCarrier,  \r\n",
                "    CarrierBrand,\r\n",
                "    MarketingAirline                    \r\n",
                "FROM FlightDelays.dbo.AirlineAssociations\r\n",
                "ORDER BY CarrierBrand; "
            ],
            "metadata": {
                "language": "sql",
                "azdata_cell_guid": "e608c2f7-1875-49c5-987c-4778ecdd073d",
                "tags": [
                    "hide_input"
                ]
            },
            "outputs": [
                {
                    "output_type": "display_data",
                    "data": {
                        "text/html": "(22 rows affected)"
                    },
                    "metadata": {}
                },
                {
                    "output_type": "display_data",
                    "data": {
                        "text/html": "Total execution time: 00:00:00.009"
                    },
                    "metadata": {}
                },
                {
                    "output_type": "execute_result",
                    "execution_count": 14,
                    "data": {
                        "application/vnd.dataresource+json": {
                            "schema": {
                                "fields": [
                                    {
                                        "name": "AirCarrier"
                                    },
                                    {
                                        "name": "CarrierBrand"
                                    },
                                    {
                                        "name": "MarketingAirline"
                                    }
                                ]
                            },
                            "data": [
                                {
                                    "AirCarrier": "Alaska Airlines",
                                    "CarrierBrand": "Alaska Airlines",
                                    "MarketingAirline": "Alaska Airlines Group"
                                },
                                {
                                    "AirCarrier": "Horizon Air",
                                    "CarrierBrand": "Alaska Airlines",
                                    "MarketingAirline": "Alaska Airlines Group"
                                },
                                {
                                    "AirCarrier": "Allegiant Air",
                                    "CarrierBrand": "Allegiant Air",
                                    "MarketingAirline": "Allegiant Air"
                                },
                                {
                                    "AirCarrier": "American Airlines",
                                    "CarrierBrand": "American Airlines",
                                    "MarketingAirline": "American Airlines Group"
                                },
                                {
                                    "AirCarrier": "Republic Airline",
                                    "CarrierBrand": "American Eagle",
                                    "MarketingAirline": "American Airlines Group"
                                },
                                {
                                    "AirCarrier": "Envoy Air",
                                    "CarrierBrand": "American Eagle",
                                    "MarketingAirline": "American Airlines Group"
                                },
                                {
                                    "AirCarrier": "PSA Airlines",
                                    "CarrierBrand": "American Eagle",
                                    "MarketingAirline": "American Airlines Group"
                                },
                                {
                                    "AirCarrier": "Piedmont Airlines",
                                    "CarrierBrand": "American Eagle",
                                    "MarketingAirline": "American Airlines Group"
                                },
                                {
                                    "AirCarrier": "Mesa Airlines Inc.",
                                    "CarrierBrand": "American Eagle",
                                    "MarketingAirline": "American Airlines Group"
                                },
                                {
                                    "AirCarrier": "Delta Air Lines",
                                    "CarrierBrand": "Delta Air Lines",
                                    "MarketingAirline": "Delta Air Lines Group"
                                },
                                {
                                    "AirCarrier": "SkyWest Airlines Inc.",
                                    "CarrierBrand": "Delta Connection",
                                    "MarketingAirline": "Delta Air Lines Group"
                                },
                                {
                                    "AirCarrier": "Endeavor Air Inc.",
                                    "CarrierBrand": "Delta Connection",
                                    "MarketingAirline": "Delta Air Lines Group"
                                },
                                {
                                    "AirCarrier": "Frontier Airlines",
                                    "CarrierBrand": "Frontier Airlines",
                                    "MarketingAirline": "Frontier Airlines"
                                },
                                {
                                    "AirCarrier": "Hawaiian Airlines",
                                    "CarrierBrand": "Hawaiian Airlines",
                                    "MarketingAirline": "Hawaiian Airlines"
                                },
                                {
                                    "AirCarrier": "JetBlue Airways",
                                    "CarrierBrand": "JetBlue Airways",
                                    "MarketingAirline": "JetBlue Airways"
                                },
                                {
                                    "AirCarrier": "Southwest Airlines",
                                    "CarrierBrand": "Southwest Airlines",
                                    "MarketingAirline": "Southwest Airlines"
                                },
                                {
                                    "AirCarrier": "Spirit Airlines",
                                    "CarrierBrand": "Spirit Airlines",
                                    "MarketingAirline": "Spirit Airlines"
                                },
                                {
                                    "AirCarrier": "United Airlines",
                                    "CarrierBrand": "United Airlines",
                                    "MarketingAirline": "United Airlines Group"
                                },
                                {
                                    "AirCarrier": "SkyWest Airlines Inc.",
                                    "CarrierBrand": "United Express",
                                    "MarketingAirline": "United Airlines Group"
                                },
                                {
                                    "AirCarrier": "CommuteAir LLC",
                                    "CarrierBrand": "United Express",
                                    "MarketingAirline": "United Airlines Group"
                                },
                                {
                                    "AirCarrier": "Air Wisconsin Airlines Corp",
                                    "CarrierBrand": "United Express",
                                    "MarketingAirline": "United Airlines Group"
                                },
                                {
                                    "AirCarrier": "GoJet Airlines LLC",
                                    "CarrierBrand": "United Express",
                                    "MarketingAirline": "United Airlines Group"
                                }
                            ]
                        },
                        "text/html": "<table><tr><th>AirCarrier</th><th>CarrierBrand</th><th>MarketingAirline</th></tr><tr><td>Alaska Airlines</td><td>Alaska Airlines</td><td>Alaska Airlines Group</td></tr><tr><td>Horizon Air</td><td>Alaska Airlines</td><td>Alaska Airlines Group</td></tr><tr><td>Allegiant Air</td><td>Allegiant Air</td><td>Allegiant Air</td></tr><tr><td>American Airlines</td><td>American Airlines</td><td>American Airlines Group</td></tr><tr><td>Republic Airline</td><td>American Eagle</td><td>American Airlines Group</td></tr><tr><td>Envoy Air</td><td>American Eagle</td><td>American Airlines Group</td></tr><tr><td>PSA Airlines</td><td>American Eagle</td><td>American Airlines Group</td></tr><tr><td>Piedmont Airlines</td><td>American Eagle</td><td>American Airlines Group</td></tr><tr><td>Mesa Airlines Inc.</td><td>American Eagle</td><td>American Airlines Group</td></tr><tr><td>Delta Air Lines</td><td>Delta Air Lines</td><td>Delta Air Lines Group</td></tr><tr><td>SkyWest Airlines Inc.</td><td>Delta Connection</td><td>Delta Air Lines Group</td></tr><tr><td>Endeavor Air Inc.</td><td>Delta Connection</td><td>Delta Air Lines Group</td></tr><tr><td>Frontier Airlines</td><td>Frontier Airlines</td><td>Frontier Airlines</td></tr><tr><td>Hawaiian Airlines</td><td>Hawaiian Airlines</td><td>Hawaiian Airlines</td></tr><tr><td>JetBlue Airways</td><td>JetBlue Airways</td><td>JetBlue Airways</td></tr><tr><td>Southwest Airlines</td><td>Southwest Airlines</td><td>Southwest Airlines</td></tr><tr><td>Spirit Airlines</td><td>Spirit Airlines</td><td>Spirit Airlines</td></tr><tr><td>United Airlines</td><td>United Airlines</td><td>United Airlines Group</td></tr><tr><td>SkyWest Airlines Inc.</td><td>United Express</td><td>United Airlines Group</td></tr><tr><td>CommuteAir LLC</td><td>United Express</td><td>United Airlines Group</td></tr><tr><td>Air Wisconsin Airlines Corp</td><td>United Express</td><td>United Airlines Group</td></tr><tr><td>GoJet Airlines LLC</td><td>United Express</td><td>United Airlines Group</td></tr></table>"
                    },
                    "metadata": {}
                }
            ],
            "execution_count": 14
        },
        {
            "cell_type": "markdown",
            "source": [
                "\r\n",
                "\r\n",
                ""
            ],
            "metadata": {
                "language": "sql",
                "azdata_cell_guid": "e25cc780-fa09-4187-b3e8-65ebe3ea122c"
            },
            "attachments": {}
        },
        {
            "cell_type": "markdown",
            "source": [
                "\r\n",
                "<!-- Section Container -->\r\n",
                "<div style=\"background-color: #f0f8ff; padding: 20px; border-radius: 8px; margin-bottom: 20px;\">\r\n",
                "\r\n",
                "<!-- Main Heading -->\r\n",
                "<h1 style=\"color: #004080; font-weight: bold; \r\n",
                "text-align: center; margin-top: 20px; font-size: 24px;\">\r\n",
                " On-Time Arrival Percentages by Airline Group<br>\r\n",
                "<em style=\"font-style: italic; font-family: 'Courier New', Courier, monospace;\">All US Airports(March 2024)</em>\r\n",
                "</h1>\r\n",
                ""
            ],
            "metadata": {
                "language": "sql",
                "azdata_cell_guid": "ba92da83-adce-4b4e-9f3e-89ff8d48da66"
            },
            "attachments": {}
        },
        {
            "cell_type": "code",
            "source": [
                "-- 4.  Bar Graph of Percentage of Average OnTime Arrivals to All US Airports by Marketing Airline Group\r\n",
                "\r\n",
                "\r\n",
                "-- QUERRY THE `AIRLINE METRICS` TABLE\r\n",
                "SELECT \r\n",
                "    MarketingAirline AS \"OnTime Flight Arrivals (%)\", \r\n",
                "    OnTimePercentage AS \"Marketing Airline Group\"\r\n",
                "FROM \r\n",
                "    FlightDelays.dbo.AirlineMetrics\r\n",
                "ORDER BY \r\n",
                "    OnTimePercentage DESC;\r\n",
                ""
            ],
            "metadata": {
                "language": "sql",
                "azdata_cell_guid": "06d28698-70c9-4386-8018-f97b65b0c5d4",
                "tags": [
                    "hide_input"
                ]
            },
            "outputs": [
                {
                    "output_type": "display_data",
                    "data": {
                        "text/html": "(10 rows affected)"
                    },
                    "metadata": {}
                },
                {
                    "output_type": "display_data",
                    "data": {
                        "text/html": "Total execution time: 00:00:00.007"
                    },
                    "metadata": {}
                },
                {
                    "output_type": "execute_result",
                    "execution_count": 15,
                    "data": {
                        "application/vnd.dataresource+json": {
                            "schema": {
                                "fields": [
                                    {
                                        "name": "OnTime Flight Arrivals (%)"
                                    },
                                    {
                                        "name": "Marketing Airline Group"
                                    }
                                ]
                            },
                            "data": [
                                {
                                    "OnTime Flight Arrivals (%)": "Hawaiian Airlines",
                                    "Marketing Airline Group": "87.84"
                                },
                                {
                                    "OnTime Flight Arrivals (%)": "Delta Air Lines Group",
                                    "Marketing Airline Group": "84.15"
                                },
                                {
                                    "OnTime Flight Arrivals (%)": "United Airlines Group",
                                    "Marketing Airline Group": "82.92"
                                },
                                {
                                    "OnTime Flight Arrivals (%)": "Alaska Airlines Group",
                                    "Marketing Airline Group": "79.96"
                                },
                                {
                                    "OnTime Flight Arrivals (%)": "American Airlines Group",
                                    "Marketing Airline Group": "79.36"
                                },
                                {
                                    "OnTime Flight Arrivals (%)": "Southwest Airlines",
                                    "Marketing Airline Group": "77.67"
                                },
                                {
                                    "OnTime Flight Arrivals (%)": "Allegiant Air",
                                    "Marketing Airline Group": "76.67"
                                },
                                {
                                    "OnTime Flight Arrivals (%)": "Spirit Airlines",
                                    "Marketing Airline Group": "71.47"
                                },
                                {
                                    "OnTime Flight Arrivals (%)": "JetBlue Airways",
                                    "Marketing Airline Group": "70.11"
                                },
                                {
                                    "OnTime Flight Arrivals (%)": "Frontier Airlines",
                                    "Marketing Airline Group": "69.22"
                                }
                            ]
                        },
                        "text/html": "<table><tr><th>OnTime Flight Arrivals (%)</th><th>Marketing Airline Group</th></tr><tr><td>Hawaiian Airlines</td><td>87.84</td></tr><tr><td>Delta Air Lines Group</td><td>84.15</td></tr><tr><td>United Airlines Group</td><td>82.92</td></tr><tr><td>Alaska Airlines Group</td><td>79.96</td></tr><tr><td>American Airlines Group</td><td>79.36</td></tr><tr><td>Southwest Airlines</td><td>77.67</td></tr><tr><td>Allegiant Air</td><td>76.67</td></tr><tr><td>Spirit Airlines</td><td>71.47</td></tr><tr><td>JetBlue Airways</td><td>70.11</td></tr><tr><td>Frontier Airlines</td><td>69.22</td></tr></table>"
                    },
                    "metadata": {
                        "azdata_chartOptions": {
                            "type": "horizontalBar",
                            "dataDirection": "horizontal",
                            "columnsAsLabels": true,
                            "labelFirstColumn": true,
                            "legendPosition": "left",
                            "yAxisLabel": "",
                            "xAxisLabel": "Percentage OnTime Arrivals (March 2024)",
                            "xAxisMin": 60,
                            "xAxisMax": 90
                        }
                    }
                }
            ],
            "execution_count": 15
        },
        {
            "cell_type": "markdown",
            "source": [
                "<!-- Main Container for Analysis and Visualizations Heading -->\r\n",
                "<div style=\"background-color: #228B22; padding: 10px; border-radius: 8px; margin-bottom: 20px; text-align: center;\">\r\n",
                "<h2 style=\"color: #ffffff; font-weight: bold; font-size: 20px; margin: 0;\">B. Miami Metropolitan Area Airports (MIA, FLL, PBI)</h2>\r\n",
                "</div>\r\n",
                "\r\n",
                "<p style=\"color: #000000; font-size: 16px;\">\r\n",
                "This section focuses on the on-time performance of airlines operating in the Miami Metropolitan Area, comparing performance across major airports:\r\n",
                "</p>\r\n",
                "<ul style=\"color: #000000; font-size: 16px; list-style-type: disc; margin-left: 20px;\">\r\n",
                "<li>Fort Lauderdale-Hollywood International Airport (FLL)</li>\r\n",
                "<li>Miami International Airport (MIA)</li>\r\n",
                "<li>Palm Beach International Airport (PBI)</li>\r\n",
                "</ul>"
            ],
            "metadata": {
                "language": "sql",
                "azdata_cell_guid": "a83eb53e-6002-4aee-8f93-f3fde230503f"
            },
            "attachments": {}
        },
        {
            "cell_type": "markdown",
            "source": [
                "<!-- Section Container -->\r\n",
                "<div style=\"background-color: #f0f8ff; padding: 20px; border-radius: 8px; margin-bottom: 20px;\">\r\n",
                "\r\n",
                "<!-- Main Heading -->\r\n",
                "<h1 style=\"color: #004080; font-weight: bold; text-align: center; margin-top: 20px; font-size: 24px;\">\r\n",
                "    Total Flights, OnTime Flights, and Late Arrival Flights <br>  \r\n",
                "    <em style=\"font-style: italic; font-family: 'Courier New', Courier, monospace;\">By Miami Metropolitan Airports (MIA, FLL, PBI) <br>\r\n",
                "    <em style=\"font-style: italic; font-family: 'Courier New', Courier, monospace;\">\r\n",
                "       (March 2024)\r\n",
                "    </em>\r\n",
                "</h1>\r\n",
                "</div>\r\n",
                ""
            ],
            "metadata": {
                "language": "sql",
                "azdata_cell_guid": "2337e27c-2aba-4c79-8d7c-8508401411dc"
            },
            "attachments": {}
        },
        {
            "cell_type": "code",
            "source": [
                "-- 6.  Bar Graph Total,  OnTime, and Late Arrivals to Miami Metropolitan  Airports by Marketing Airline Group\r\n",
                "\r\n",
                "-- CALCULATE ON-TIME AND DELAYED FLIGHTS BY AIRPORT FOR THE MIAMI METROPOLITAN AREA'\r\n",
                "\r\n",
                "SELECT \r\n",
                "    -- Select the airport code\r\n",
                "    f.AirportCode AS Airport,\r\n",
                "\r\n",
                "    -- Calculate total flights\r\n",
                "    SUM(f.Count_Arrivals) AS TotalFlights,\r\n",
                "\r\n",
                "    -- Calculate on-time flights\r\n",
                "    SUM(f.Count_Arrivals - f.Count_ArrFlights_Delayed15PlusMin) AS OnTimeFlights,\r\n",
                "\r\n",
                "    -- Calculate delayed flights\r\n",
                "    SUM(f.Count_ArrFlights_Delayed15PlusMin) AS DelayedFlights\r\n",
                "FROM \r\n",
                "    FlightDelays.dbo.Flights f\r\n",
                "\r\n",
                "WHERE \r\n",
                "    -- Filter for Miami metropolitan area airports\r\n",
                "    f.AirportCode IN ('MIA', 'FLL', 'PBI') -- Miami, Fort Lauderdale, Palm Beach\r\n",
                "\r\n",
                "GROUP BY \r\n",
                "    -- Group by airport code (('MIA', 'FLL', 'PBI')\r\n",
                "    f.AirportCode\r\n",
                "\r\n",
                "ORDER BY \r\n",
                "    -- Order by total flights in descending order\r\n",
                "    SUM(f.Count_Arrivals) DESC;\r\n",
                ""
            ],
            "metadata": {
                "azdata_cell_guid": "f671085b-a802-497c-98e6-dc905b5f995b",
                "language": "sql",
                "tags": [
                    "hide_input"
                ]
            },
            "outputs": [
                {
                    "output_type": "display_data",
                    "data": {
                        "text/html": "(3 rows affected)"
                    },
                    "metadata": {}
                },
                {
                    "output_type": "display_data",
                    "data": {
                        "text/html": "Total execution time: 00:00:00.009"
                    },
                    "metadata": {}
                },
                {
                    "output_type": "execute_result",
                    "execution_count": 16,
                    "data": {
                        "application/vnd.dataresource+json": {
                            "schema": {
                                "fields": [
                                    {
                                        "name": "Airport"
                                    },
                                    {
                                        "name": "TotalFlights"
                                    },
                                    {
                                        "name": "OnTimeFlights"
                                    },
                                    {
                                        "name": "DelayedFlights"
                                    }
                                ]
                            },
                            "data": [
                                {
                                    "Airport": "MIA",
                                    "TotalFlights": "10524",
                                    "OnTimeFlights": "7558",
                                    "DelayedFlights": "2966"
                                },
                                {
                                    "Airport": "FLL",
                                    "TotalFlights": "9232",
                                    "OnTimeFlights": "6268",
                                    "DelayedFlights": "2964"
                                },
                                {
                                    "Airport": "PBI",
                                    "TotalFlights": "3164",
                                    "OnTimeFlights": "2240",
                                    "DelayedFlights": "924"
                                }
                            ]
                        },
                        "text/html": "<table><tr><th>Airport</th><th>TotalFlights</th><th>OnTimeFlights</th><th>DelayedFlights</th></tr><tr><td>MIA</td><td>10524</td><td>7558</td><td>2966</td></tr><tr><td>FLL</td><td>9232</td><td>6268</td><td>2964</td></tr><tr><td>PBI</td><td>3164</td><td>2240</td><td>924</td></tr></table>"
                    },
                    "metadata": {
                        "azdata_chartOptions": {
                            "type": "bar",
                            "dataDirection": "horizontal",
                            "columnsAsLabels": true,
                            "labelFirstColumn": true,
                            "legendPosition": "top",
                            "yAxisLabel": "Flights in March 2024"
                        }
                    }
                }
            ],
            "execution_count": 16
        },
        {
            "cell_type": "markdown",
            "source": [
                "\r\n",
                "<!-- Section Container -->\r\n",
                "<div style=\"background-color: #f0f8ff; padding: 20px; border-radius: 8px; margin-bottom: 20px;\">\r\n",
                "\r\n",
                "<!-- Main Heading -->\r\n",
                "<h1 style=\"color: #004080; font-weight: bold; \r\n",
                "text-align: center; margin-top: 20px; font-size: 24px;\">\r\n",
                " On-Time Arrival Percentages by Airline Group<br>\r\n",
                "<em style=\"font-style: italic; font-family: 'Courier New', Courier, monospace;\">Miami Metropolitan Airports (MIA, FLL, PBI) <br> \r\n",
                "(March 2024)</em>\r\n",
                "</h1>\r\n",
                "\r\n",
                ""
            ],
            "metadata": {
                "azdata_cell_guid": "4f58de46-678f-4029-b202-b7a5be01f9b8"
            },
            "attachments": {}
        },
        {
            "cell_type": "code",
            "source": [
                "-- 7.  Bar Graph of Percentage of Average OnTime Arrivals to Miami Metropolitan  Airports by Marketing Airline Group\r\n",
                "\r\n",
                "SELECT \r\n",
                "    aa.MarketingAirline AS \"Marketing Airline Group\", \r\n",
                "    am.OnTimePercentage AS \"OnTime Flight Arrivals (%)\"\r\n",
                "\r\n",
                "-- Join the three tables as AirlineMetrics does not have a common key with Flights (for airport code)\r\n",
                "FROM \r\n",
                "    FlightDelays.dbo.AirlineMetrics am\r\n",
                "JOIN \r\n",
                "    FlightDelays.dbo.AirlineAssociations aa \r\n",
                "        ON am.MarketingAirline = aa.MarketingAirline\r\n",
                "JOIN \r\n",
                "    FlightDelays.dbo.Flights f \r\n",
                "        ON aa.AirlineCode = f.AirlineCode\r\n",
                "-- Filter \r\n",
                "WHERE \r\n",
                "    f.AirportCode IN ('MIA', 'FLL', 'PBI') -- Miami, Fort Lauderdale, Palm Beach\r\n",
                "    \r\n",
                "-- Group by marketing airline from Airline Associations and ontime percentage from Calculations Table\r\n",
                "GROUP BY \r\n",
                "    aa.MarketingAirline, \r\n",
                "    am.OnTimePercentage\r\n",
                "-- Order results by percentage of Arrival Performance descending\r\n",
                "ORDER BY \r\n",
                "    am.OnTimePercentage DESC;\r\n",
                "\r\n",
                ""
            ],
            "metadata": {
                "azdata_cell_guid": "2821a885-4198-4afe-ac54-89c2f69f85b9",
                "language": "sql",
                "tags": [
                    "hide_input"
                ]
            },
            "outputs": [
                {
                    "output_type": "display_data",
                    "data": {
                        "text/html": "(9 rows affected)"
                    },
                    "metadata": {}
                },
                {
                    "output_type": "display_data",
                    "data": {
                        "text/html": "Total execution time: 00:00:00.020"
                    },
                    "metadata": {}
                },
                {
                    "output_type": "execute_result",
                    "execution_count": 17,
                    "data": {
                        "application/vnd.dataresource+json": {
                            "schema": {
                                "fields": [
                                    {
                                        "name": "Marketing Airline Group"
                                    },
                                    {
                                        "name": "OnTime Flight Arrivals (%)"
                                    }
                                ]
                            },
                            "data": [
                                {
                                    "Marketing Airline Group": "Delta Air Lines Group",
                                    "OnTime Flight Arrivals (%)": "84.15"
                                },
                                {
                                    "Marketing Airline Group": "United Airlines Group",
                                    "OnTime Flight Arrivals (%)": "82.92"
                                },
                                {
                                    "Marketing Airline Group": "Alaska Airlines Group",
                                    "OnTime Flight Arrivals (%)": "79.96"
                                },
                                {
                                    "Marketing Airline Group": "American Airlines Group",
                                    "OnTime Flight Arrivals (%)": "79.36"
                                },
                                {
                                    "Marketing Airline Group": "Southwest Airlines",
                                    "OnTime Flight Arrivals (%)": "77.67"
                                },
                                {
                                    "Marketing Airline Group": "Allegiant Air",
                                    "OnTime Flight Arrivals (%)": "76.67"
                                },
                                {
                                    "Marketing Airline Group": "Spirit Airlines",
                                    "OnTime Flight Arrivals (%)": "71.47"
                                },
                                {
                                    "Marketing Airline Group": "JetBlue Airways",
                                    "OnTime Flight Arrivals (%)": "70.11"
                                },
                                {
                                    "Marketing Airline Group": "Frontier Airlines",
                                    "OnTime Flight Arrivals (%)": "69.22"
                                }
                            ]
                        },
                        "text/html": "<table><tr><th>Marketing Airline Group</th><th>OnTime Flight Arrivals (%)</th></tr><tr><td>Delta Air Lines Group</td><td>84.15</td></tr><tr><td>United Airlines Group</td><td>82.92</td></tr><tr><td>Alaska Airlines Group</td><td>79.96</td></tr><tr><td>American Airlines Group</td><td>79.36</td></tr><tr><td>Southwest Airlines</td><td>77.67</td></tr><tr><td>Allegiant Air</td><td>76.67</td></tr><tr><td>Spirit Airlines</td><td>71.47</td></tr><tr><td>JetBlue Airways</td><td>70.11</td></tr><tr><td>Frontier Airlines</td><td>69.22</td></tr></table>"
                    },
                    "metadata": {
                        "azdata_chartOptions": {
                            "type": "horizontalBar",
                            "dataDirection": "horizontal",
                            "columnsAsLabels": true,
                            "labelFirstColumn": true,
                            "legendPosition": "left",
                            "xAxisLabel": "Percentage OnTime Arrivals (March 2024)",
                            "xAxisMin": 60,
                            "xAxisMax": 90
                        }
                    }
                }
            ],
            "execution_count": 17
        },
        {
            "cell_type": "markdown",
            "source": [
                "<!-- Main Container for Analysis and Visualizations Heading -->\r\n",
                "<div style=\"background-color: #228B22; padding: 10px; border-radius: 8px; margin-bottom: 20px; text-align: center;\">\r\n",
                "<h2 style=\"color: #ffffff; font-weight: bold; font-size: 20px; margin: 0;\">C.  Miami International Airport (MIA)</h2>\r\n",
                "</div>\r\n",
                "\r\n",
                "\r\n",
                "<p style=\"color: #000000; font-size: 16px;\">\r\n",
                "This section focuses on the on-time performance of airlines operating specifically at Miami International Airport.\r\n",
                "</p>\r\n",
                "\r\n",
                ""
            ],
            "metadata": {
                "azdata_cell_guid": "4b99cd6a-719c-4423-b12c-a6887eecc1fe"
            },
            "attachments": {}
        },
        {
            "cell_type": "markdown",
            "source": [
                "`\r\n",
                "<!-- Section Container -->\r\n",
                "<div style=\"background-color: #f0f8ff; padding: 20px; border-radius: 8px; margin-bottom: 20px;\">\r\n",
                "\r\n",
                "<!-- Main Heading -->\r\n",
                "<h1 style=\"color: #004080; font-weight: bold; \r\n",
                "text-align: center; margin-top: 20px; font-size: 24px;\">\r\n",
                "Arriving Flights into Miami International Airport By Individual Air Carrier <br>\r\n",
                " <em style=\"font-style: italic; font-family: 'Courier New', Courier, monospace;\">Total &  Average Per Day <br> (March 2024)</em>\r\n",
                "</h1>\r\n",
                "`\r\n",
                "`"
            ],
            "metadata": {
                "language": "sql",
                "azdata_cell_guid": "b74c8d66-9063-4210-9295-c65b245418cf"
            },
            "attachments": {}
        },
        {
            "cell_type": "code",
            "source": [
                "-- 9.  Table of Total Flights by Air Carrier (March 2024)\r\n",
                "\r\n",
                "WITH CarrierTotals AS (\r\n",
                "    SELECT \r\n",
                "        aa.MarketingAirline AS Airline,\r\n",
                "        aa.CarrierBrand AS 'Carrier Brand',\r\n",
                "        f.AirlineName AS 'Air Carrier',\r\n",
                "        SUM(f.Count_Arrivals) AS 'Total Arrivals',\r\n",
                "        ROUND(SUM(f.Count_Arrivals) / 31.0, 0) AS 'Average Per Day'\r\n",
                "    FROM \r\n",
                "        FlightDelays.dbo.Flights f\r\n",
                "    JOIN \r\n",
                "        FlightDelays.dbo.AirlineAssociations aa \r\n",
                "        ON f.AirlineCode = aa.AirlineCode\r\n",
                "    WHERE \r\n",
                "        f.AirportCode = 'MIA'\r\n",
                "    GROUP BY \r\n",
                "        aa.MarketingAirline, \r\n",
                "        aa.CarrierBrand, \r\n",
                "        f.AirlineName\r\n",
                ")\r\n",
                "SELECT \r\n",
                "    Airline,\r\n",
                "    [Carrier Brand],\r\n",
                "    [Air Carrier],\r\n",
                "    FORMAT([Total Arrivals], 'N0') AS [Total Arrivals],\r\n",
                "    FORMAT([Average Per Day], 'N0') AS [Average Per Day]\r\n",
                "FROM \r\n",
                "    CarrierTotals\r\n",
                "ORDER BY \r\n",
                "     Airline,\r\n",
                "    [Total Arrivals] DESC,\r\n",
                "    [Carrier Brand];\r\n",
                ""
            ],
            "metadata": {
                "language": "sql",
                "azdata_cell_guid": "6354b226-cf3a-4136-8cb2-cfc331cca885",
                "tags": [
                    "hide_input"
                ]
            },
            "outputs": [
                {
                    "output_type": "display_data",
                    "data": {
                        "text/html": "(10 rows affected)"
                    },
                    "metadata": {}
                },
                {
                    "output_type": "display_data",
                    "data": {
                        "text/html": "Total execution time: 00:00:00.015"
                    },
                    "metadata": {}
                },
                {
                    "output_type": "execute_result",
                    "execution_count": 18,
                    "data": {
                        "application/vnd.dataresource+json": {
                            "schema": {
                                "fields": [
                                    {
                                        "name": "Airline"
                                    },
                                    {
                                        "name": "Carrier Brand"
                                    },
                                    {
                                        "name": "Air Carrier"
                                    },
                                    {
                                        "name": "Total Arrivals"
                                    },
                                    {
                                        "name": "Average Per Day"
                                    }
                                ]
                            },
                            "data": [
                                {
                                    "Airline": "Alaska Airlines Group",
                                    "Carrier Brand": "Alaska Airlines",
                                    "Air Carrier": "Alaska Airlines",
                                    "Total Arrivals": "62",
                                    "Average Per Day": "2"
                                },
                                {
                                    "Airline": "American Airlines Group",
                                    "Carrier Brand": "American Eagle",
                                    "Air Carrier": "Republic Airline (American Airlines)",
                                    "Total Arrivals": "93",
                                    "Average Per Day": "3"
                                },
                                {
                                    "Airline": "American Airlines Group",
                                    "Carrier Brand": "American Airlines",
                                    "Air Carrier": "American Airlines",
                                    "Total Arrivals": "5,235",
                                    "Average Per Day": "169"
                                },
                                {
                                    "Airline": "American Airlines Group",
                                    "Carrier Brand": "American Eagle",
                                    "Air Carrier": "Envoy Air (American Airlines)",
                                    "Total Arrivals": "1,386",
                                    "Average Per Day": "45"
                                },
                                {
                                    "Airline": "Delta Air Lines Group",
                                    "Carrier Brand": "Delta Air Lines",
                                    "Air Carrier": "Delta Air Lines",
                                    "Total Arrivals": "1,036",
                                    "Average Per Day": "33"
                                },
                                {
                                    "Airline": "Frontier Airlines",
                                    "Carrier Brand": "Frontier Airlines",
                                    "Air Carrier": "Frontier Airlines",
                                    "Total Arrivals": "394",
                                    "Average Per Day": "13"
                                },
                                {
                                    "Airline": "JetBlue Airways",
                                    "Carrier Brand": "JetBlue Airways",
                                    "Air Carrier": "JetBlue Airways",
                                    "Total Arrivals": "253",
                                    "Average Per Day": "8"
                                },
                                {
                                    "Airline": "Southwest Airlines",
                                    "Carrier Brand": "Southwest Airlines",
                                    "Air Carrier": "Southwest Airlines",
                                    "Total Arrivals": "690",
                                    "Average Per Day": "22"
                                },
                                {
                                    "Airline": "Spirit Airlines",
                                    "Carrier Brand": "Spirit Airlines",
                                    "Air Carrier": "Spirit Airlines",
                                    "Total Arrivals": "667",
                                    "Average Per Day": "22"
                                },
                                {
                                    "Airline": "United Airlines Group",
                                    "Carrier Brand": "United Airlines",
                                    "Air Carrier": "United Air Lines",
                                    "Total Arrivals": "708",
                                    "Average Per Day": "23"
                                }
                            ]
                        },
                        "text/html": "<table><tr><th>Airline</th><th>Carrier Brand</th><th>Air Carrier</th><th>Total Arrivals</th><th>Average Per Day</th></tr><tr><td>Alaska Airlines Group</td><td>Alaska Airlines</td><td>Alaska Airlines</td><td>62</td><td>2</td></tr><tr><td>American Airlines Group</td><td>American Eagle</td><td>Republic Airline (American Airlines)</td><td>93</td><td>3</td></tr><tr><td>American Airlines Group</td><td>American Airlines</td><td>American Airlines</td><td>5,235</td><td>169</td></tr><tr><td>American Airlines Group</td><td>American Eagle</td><td>Envoy Air (American Airlines)</td><td>1,386</td><td>45</td></tr><tr><td>Delta Air Lines Group</td><td>Delta Air Lines</td><td>Delta Air Lines</td><td>1,036</td><td>33</td></tr><tr><td>Frontier Airlines</td><td>Frontier Airlines</td><td>Frontier Airlines</td><td>394</td><td>13</td></tr><tr><td>JetBlue Airways</td><td>JetBlue Airways</td><td>JetBlue Airways</td><td>253</td><td>8</td></tr><tr><td>Southwest Airlines</td><td>Southwest Airlines</td><td>Southwest Airlines</td><td>690</td><td>22</td></tr><tr><td>Spirit Airlines</td><td>Spirit Airlines</td><td>Spirit Airlines</td><td>667</td><td>22</td></tr><tr><td>United Airlines Group</td><td>United Airlines</td><td>United Air Lines</td><td>708</td><td>23</td></tr></table>"
                    },
                    "metadata": {}
                }
            ],
            "execution_count": 18
        },
        {
            "cell_type": "markdown",
            "source": [
                "`\r\n",
                "<!-- Section Container -->\r\n",
                "<div style=\"background-color: #f0f8ff; padding: 20px; border-radius: 8px; margin-bottom: 20px;\">\r\n",
                "\r\n",
                "<!-- Main Heading -->\r\n",
                "<h1 style=\"color: #004080; font-weight: bold; \r\n",
                "text-align: center; margin-top: 20px; font-size: 24px;\">\r\n",
                "Volume Proportons of Arriving Flights into MIA By Airline Group <br>\r\n",
                " <em style=\"font-style: italic; font-family: 'Courier New', Courier, monospace;\">Total, Average Per Day, Proportion of Total Flights <br> (March 2024)</em>\r\n",
                "</h1>\r\n",
                "`"
            ],
            "metadata": {
                "language": "sql",
                "azdata_cell_guid": "e4656530-e9ef-423e-9107-c0bf643402be"
            },
            "attachments": {}
        },
        {
            "cell_type": "code",
            "source": [
                "--8.  Donut Chart of Total Arrival Flights to MIA with Average Per Day and Proportion by Major Carrier (March 2024)\r\n",
                "\r\n",
                "WITH TotalFlights AS (\r\n",
                "    SELECT \r\n",
                "        -- Select major carrier\r\n",
                "        aa.MarketingAirline AS MajorCarrier,\r\n",
                "        \r\n",
                "        -- Calculate total flights to MIA for each major carrier\r\n",
                "        SUM(f.Count_Arrivals) AS TotalFlights,\r\n",
                "        \r\n",
                "        -- Calculate the proportion of total flights to MIA for each major carrier\r\n",
                "        ROUND((SUM(f.Count_Arrivals) * 100.0 / (SELECT SUM(Count_Arrivals) FROM FlightDelays.dbo.Flights WHERE AirportCode = 'MIA')), 2) AS Proportion,\r\n",
                "        \r\n",
                "        -- Calculate the average per day for each major carrier\r\n",
                "        ROUND(SUM(f.Count_Arrivals) / 31.0, 0) AS AveragePerDay\r\n",
                "    FROM \r\n",
                "        FlightDelays.dbo.Flights f\r\n",
                "    JOIN \r\n",
                "        FlightDelays.dbo.AirlineAssociations aa \r\n",
                "        ON f.AirlineCode = aa.AirlineCode\r\n",
                "    WHERE \r\n",
                "        -- Filter for Miami International Airport (MIA)\r\n",
                "        f.AirportCode = 'MIA'\r\n",
                "    GROUP BY \r\n",
                "        -- Group by major carrier\r\n",
                "        aa.MarketingAirline\r\n",
                ")\r\n",
                "SELECT \r\n",
                "    MajorCarrier,\r\n",
                "    TotalFlights,\r\n",
                "    AveragePerDay,\r\n",
                "    Proportion\r\n",
                "\r\n",
                "FROM \r\n",
                "    TotalFlights\r\n",
                "ORDER BY \r\n",
                "    -- Order by total flights in descending order\r\n",
                "    TotalFlights DESC;\r\n",
                ""
            ],
            "metadata": {
                "language": "sql",
                "azdata_cell_guid": "cb32952f-703c-461d-b844-91158bd53bb3",
                "tags": [
                    "hide_input"
                ]
            },
            "outputs": [
                {
                    "output_type": "display_data",
                    "data": {
                        "text/html": "(8 rows affected)"
                    },
                    "metadata": {}
                },
                {
                    "output_type": "display_data",
                    "data": {
                        "text/html": "Total execution time: 00:00:00.012"
                    },
                    "metadata": {}
                },
                {
                    "output_type": "execute_result",
                    "execution_count": 19,
                    "data": {
                        "application/vnd.dataresource+json": {
                            "schema": {
                                "fields": [
                                    {
                                        "name": "MajorCarrier"
                                    },
                                    {
                                        "name": "TotalFlights"
                                    },
                                    {
                                        "name": "AveragePerDay"
                                    },
                                    {
                                        "name": "Proportion"
                                    }
                                ]
                            },
                            "data": [
                                {
                                    "MajorCarrier": "American Airlines Group",
                                    "TotalFlights": "6714",
                                    "AveragePerDay": "217",
                                    "Proportion": "63.8"
                                },
                                {
                                    "MajorCarrier": "Delta Air Lines Group",
                                    "TotalFlights": "1036",
                                    "AveragePerDay": "33",
                                    "Proportion": "9.84"
                                },
                                {
                                    "MajorCarrier": "United Airlines Group",
                                    "TotalFlights": "708",
                                    "AveragePerDay": "23",
                                    "Proportion": "6.73"
                                },
                                {
                                    "MajorCarrier": "Southwest Airlines",
                                    "TotalFlights": "690",
                                    "AveragePerDay": "22",
                                    "Proportion": "6.56"
                                },
                                {
                                    "MajorCarrier": "Spirit Airlines",
                                    "TotalFlights": "667",
                                    "AveragePerDay": "22",
                                    "Proportion": "6.34"
                                },
                                {
                                    "MajorCarrier": "Frontier Airlines",
                                    "TotalFlights": "394",
                                    "AveragePerDay": "13",
                                    "Proportion": "3.74"
                                },
                                {
                                    "MajorCarrier": "JetBlue Airways",
                                    "TotalFlights": "253",
                                    "AveragePerDay": "8",
                                    "Proportion": "2.4"
                                },
                                {
                                    "MajorCarrier": "Alaska Airlines Group",
                                    "TotalFlights": "62",
                                    "AveragePerDay": "2",
                                    "Proportion": "0.59"
                                }
                            ]
                        },
                        "text/html": "<table><tr><th>MajorCarrier</th><th>TotalFlights</th><th>AveragePerDay</th><th>Proportion</th></tr><tr><td>American Airlines Group</td><td>6714</td><td>217</td><td>63.8</td></tr><tr><td>Delta Air Lines Group</td><td>1036</td><td>33</td><td>9.84</td></tr><tr><td>United Airlines Group</td><td>708</td><td>23</td><td>6.73</td></tr><tr><td>Southwest Airlines</td><td>690</td><td>22</td><td>6.56</td></tr><tr><td>Spirit Airlines</td><td>667</td><td>22</td><td>6.34</td></tr><tr><td>Frontier Airlines</td><td>394</td><td>13</td><td>3.74</td></tr><tr><td>JetBlue Airways</td><td>253</td><td>8</td><td>2.4</td></tr><tr><td>Alaska Airlines Group</td><td>62</td><td>2</td><td>0.59</td></tr></table>"
                    },
                    "metadata": {
                        "azdata_chartOptions": {
                            "type": "doughnut",
                            "dataDirection": "vertical",
                            "columnsAsLabels": true,
                            "labelFirstColumn": true,
                            "legendPosition": "left"
                        }
                    }
                }
            ],
            "execution_count": 19
        },
        {
            "cell_type": "markdown",
            "source": [
                "`<!-- Section Container -->\r\n",
                "<div style=\"background-color: #f0f8ff; padding: 20px; border-radius: 8px; margin-bottom: 20px;\">\r\n",
                "\r\n",
                "<!-- Main Heading -->\r\n",
                "<h1 style=\"color: #004080; font-weight: bold; text-align: center; margin-top: 20px; font-size: 24px;\">\r\n",
                "    On-Time Arrival Percentages by Airline<br>\r\n",
                "    <em style=\"font-style: italic; font-family: 'Courier New', Courier, monospace;\">\r\n",
                "        MIA - Miami International Airport<br>(March 2024)\r\n",
                "    </em>\r\n",
                "</h1>\r\n",
                "</div>\r\n",
                ""
            ],
            "metadata": {
                "language": "sql",
                "azdata_cell_guid": "6ed9e69d-a5a1-4d3f-ace4-c20b08dc21e3"
            },
            "attachments": {}
        },
        {
            "cell_type": "code",
            "source": [
                "-- 10. Bar Graph of OnTime Arrivals by Airlines to MIA (March 2024)\r\n",
                "\r\n",
                "-- CALCULATE ON-TIME PERCENTAGE BY MARKETING AIRLINE FOR MIAMI INTERNATIONAL AIRPORT\r\n",
                "\r\n",
                "SELECT \r\n",
                "    -- Select marketing airline\r\n",
                "    aa.MarketingAirline,\r\n",
                "\r\n",
                "    -- Calculate and format the on-time percentage\r\n",
                "    CAST(\r\n",
                "        (\r\n",
                "            /* Calculate on-time flights percentage */\r\n",
                "            SUM(f.Count_Arrivals - f.Count_ArrFlights_Delayed15PlusMin) * 100.0 \r\n",
                "            / \r\n",
                "            /* Calculate total arrivals */\r\n",
                "            SUM(f.Count_Arrivals)\r\n",
                "        ) \r\n",
                "        /* Convert to a decimal with 5 total digits and 2 decimal places */\r\n",
                "        AS DECIMAL(5, 2)\r\n",
                "    ) AS \"Airline\"\r\n",
                "FROM \r\n",
                "    FlightDelays.dbo.Flights f\r\n",
                "\r\n",
                "JOIN \r\n",
                "    FlightDelays.dbo.AirlineAssociations aa \r\n",
                "    ON f.AirlineCode = aa.AirlineCode\r\n",
                "\r\n",
                "WHERE \r\n",
                "    -- Filter for Miami International Airport (MIA)\r\n",
                "    f.AirportCode = 'MIA'\r\n",
                "\r\n",
                "GROUP BY \r\n",
                "    -- Group by marketing airline\r\n",
                "    aa.MarketingAirline\r\n",
                "\r\n",
                "ORDER BY \r\n",
                "    -- Order by on-time percentage in descending order\r\n",
                "    \"Airline\" DESC;\r\n",
                "\r\n",
                ""
            ],
            "metadata": {
                "azdata_cell_guid": "15031771-f21c-4b5b-b760-98f42bbe4765",
                "language": "sql",
                "tags": [
                    "hide_input"
                ]
            },
            "outputs": [
                {
                    "output_type": "display_data",
                    "data": {
                        "text/html": "(8 rows affected)"
                    },
                    "metadata": {}
                },
                {
                    "output_type": "display_data",
                    "data": {
                        "text/html": "Total execution time: 00:00:00.010"
                    },
                    "metadata": {}
                },
                {
                    "output_type": "execute_result",
                    "execution_count": 20,
                    "data": {
                        "application/vnd.dataresource+json": {
                            "schema": {
                                "fields": [
                                    {
                                        "name": "MarketingAirline"
                                    },
                                    {
                                        "name": "Airline"
                                    }
                                ]
                            },
                            "data": [
                                {
                                    "MarketingAirline": "American Airlines Group",
                                    "Airline": "74.07"
                                },
                                {
                                    "MarketingAirline": "Delta Air Lines Group",
                                    "Airline": "70.27"
                                },
                                {
                                    "MarketingAirline": "Southwest Airlines",
                                    "Airline": "68.84"
                                },
                                {
                                    "MarketingAirline": "United Airlines Group",
                                    "Airline": "68.08"
                                },
                                {
                                    "MarketingAirline": "Spirit Airlines",
                                    "Airline": "67.17"
                                },
                                {
                                    "MarketingAirline": "JetBlue Airways",
                                    "Airline": "66.01"
                                },
                                {
                                    "MarketingAirline": "Frontier Airlines",
                                    "Airline": "62.69"
                                },
                                {
                                    "MarketingAirline": "Alaska Airlines Group",
                                    "Airline": "61.29"
                                }
                            ]
                        },
                        "text/html": "<table><tr><th>MarketingAirline</th><th>Airline</th></tr><tr><td>American Airlines Group</td><td>74.07</td></tr><tr><td>Delta Air Lines Group</td><td>70.27</td></tr><tr><td>Southwest Airlines</td><td>68.84</td></tr><tr><td>United Airlines Group</td><td>68.08</td></tr><tr><td>Spirit Airlines</td><td>67.17</td></tr><tr><td>JetBlue Airways</td><td>66.01</td></tr><tr><td>Frontier Airlines</td><td>62.69</td></tr><tr><td>Alaska Airlines Group</td><td>61.29</td></tr></table>"
                    },
                    "metadata": {
                        "azdata_chartOptions": {
                            "type": "horizontalBar",
                            "dataDirection": "horizontal",
                            "columnsAsLabels": true,
                            "labelFirstColumn": true,
                            "legendPosition": "left",
                            "xAxisMin": 60,
                            "xAxisMax": 80
                        }
                    }
                }
            ],
            "execution_count": 20
        },
        {
            "cell_type": "markdown",
            "source": [
                "`<!-- Section Container -->\r\n",
                "<div style=\"background-color: #f0f8ff; padding: 20px; border-radius: 8px; margin-bottom: 20px;\">\r\n",
                "\r\n",
                "<!-- Main Heading -->\r\n",
                "<h1 style=\"color: #004080; font-weight: bold; text-align: center; margin-top: 20px; font-size: 24px;\">\r\n",
                "    On-Time Arrival Percentages by Air Carrier<br>\r\n",
                "    <em style=\"font-style: italic; font-family: 'Courier New', Courier, monospace;\">\r\n",
                "        MIA - Miami International Airport<br>(March 2024)\r\n",
                "    </em>\r\n",
                "</h1>\r\n",
                "</div>\r\n",
                ""
            ],
            "metadata": {
                "language": "sql",
                "azdata_cell_guid": "d2cbdb29-a1ff-4af7-9eb7-29f3a320f2d1"
            },
            "attachments": {}
        },
        {
            "cell_type": "code",
            "source": [
                "-- Table of Total Flights Miami Airport and Average Per Day by Air Carrier (March 2024)\r\n",
                "\r\n",
                "-- CALCULATE ON-TIME PERCENTAGE BY CARRIER FOR MIAMI INTERNATIONAL AIRPORT\r\n",
                "\r\n",
                "SELECT \r\n",
                "    -- Select air carrier\r\n",
                "    f.AirlineName AS 'Air Carrier',\r\n",
                "\r\n",
                "    -- Calculate and format the on-time percentage\r\n",
                "    CAST(\r\n",
                "        (\r\n",
                "            /* Calculate on-time flights percentage */\r\n",
                "            SUM(f.Count_Arrivals - f.Count_ArrFlights_Delayed15PlusMin) * 100.0 \r\n",
                "            / \r\n",
                "            /* Calculate total arrivals */\r\n",
                "            SUM(f.Count_Arrivals)\r\n",
                "        ) \r\n",
                "        /* Convert to a decimal with 5 total digits and 2 decimal places */\r\n",
                "        AS DECIMAL(5, 2)\r\n",
                "    ) AS \"Individual Air Carrier\"\r\n",
                "FROM \r\n",
                "    FlightDelays.dbo.Flights f\r\n",
                "\r\n",
                "JOIN \r\n",
                "    FlightDelays.dbo.AirlineAssociations aa \r\n",
                "    ON f.AirlineCode = aa.AirlineCode\r\n",
                "\r\n",
                "WHERE \r\n",
                "    -- Filter for Miami International Airport (MIA)\r\n",
                "    f.AirportCode = 'MIA'\r\n",
                "\r\n",
                "GROUP BY \r\n",
                "    -- Group by marketing airline and air carrier\r\n",
                "    aa.MarketingAirline, f.AirlineName\r\n",
                "\r\n",
                "ORDER BY \r\n",
                "    -- Order by marketing airline and on-time percentage in descending order\r\n",
                "    aa.MarketingAirline, \"Individual Air Carrier\" DESC;\r\n",
                "\r\n",
                ""
            ],
            "metadata": {
                "language": "sql",
                "azdata_cell_guid": "4e271d6f-b6e3-4746-a01a-721bb2aad427",
                "tags": []
            },
            "outputs": [
                {
                    "output_type": "display_data",
                    "data": {
                        "text/html": "(10 rows affected)"
                    },
                    "metadata": {}
                },
                {
                    "output_type": "display_data",
                    "data": {
                        "text/html": "Total execution time: 00:00:00.007"
                    },
                    "metadata": {}
                },
                {
                    "output_type": "execute_result",
                    "execution_count": 24,
                    "data": {
                        "application/vnd.dataresource+json": {
                            "schema": {
                                "fields": [
                                    {
                                        "name": "Air Carrier"
                                    },
                                    {
                                        "name": "Individual Air Carrier"
                                    }
                                ]
                            },
                            "data": [
                                {
                                    "Air Carrier": "Alaska Airlines",
                                    "Individual Air Carrier": "61.29"
                                },
                                {
                                    "Air Carrier": "Envoy Air (American Airlines)",
                                    "Individual Air Carrier": "76.98"
                                },
                                {
                                    "Air Carrier": "American Airlines",
                                    "Individual Air Carrier": "73.39"
                                },
                                {
                                    "Air Carrier": "Republic Airline (American Airlines)",
                                    "Individual Air Carrier": "68.82"
                                },
                                {
                                    "Air Carrier": "Delta Air Lines",
                                    "Individual Air Carrier": "70.27"
                                },
                                {
                                    "Air Carrier": "Frontier Airlines",
                                    "Individual Air Carrier": "62.69"
                                },
                                {
                                    "Air Carrier": "JetBlue Airways",
                                    "Individual Air Carrier": "66.01"
                                },
                                {
                                    "Air Carrier": "Southwest Airlines",
                                    "Individual Air Carrier": "68.84"
                                },
                                {
                                    "Air Carrier": "Spirit Airlines",
                                    "Individual Air Carrier": "67.17"
                                },
                                {
                                    "Air Carrier": "United Air Lines",
                                    "Individual Air Carrier": "68.08"
                                }
                            ]
                        },
                        "text/html": "<table><tr><th>Air Carrier</th><th>Individual Air Carrier</th></tr><tr><td>Alaska Airlines</td><td>61.29</td></tr><tr><td>Envoy Air (American Airlines)</td><td>76.98</td></tr><tr><td>American Airlines</td><td>73.39</td></tr><tr><td>Republic Airline (American Airlines)</td><td>68.82</td></tr><tr><td>Delta Air Lines</td><td>70.27</td></tr><tr><td>Frontier Airlines</td><td>62.69</td></tr><tr><td>JetBlue Airways</td><td>66.01</td></tr><tr><td>Southwest Airlines</td><td>68.84</td></tr><tr><td>Spirit Airlines</td><td>67.17</td></tr><tr><td>United Air Lines</td><td>68.08</td></tr></table>"
                    },
                    "metadata": {
                        "azdata_chartOptions": {
                            "type": "horizontalBar",
                            "dataDirection": "horizontal",
                            "columnsAsLabels": true,
                            "labelFirstColumn": true,
                            "legendPosition": "left",
                            "xAxisMin": 60
                        }
                    }
                }
            ],
            "execution_count": 24
        }
    ]
}