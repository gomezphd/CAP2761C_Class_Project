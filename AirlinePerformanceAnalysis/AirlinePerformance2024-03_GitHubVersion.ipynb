{
    "metadata": {
        "kernelspec": {
            "name": "SQL",
            "display_name": "SQL",
            "language": "sql"
        },
        "language_info": {
            "name": "sql",
            "version": ""
        }
    },
    "nbformat_minor": 2,
    "nbformat": 4,
    "cells": [
        {
            "cell_type": "markdown",
            "source": [
                "<!-- Main Container -->\r\n",
                "<div style=\"background-color: #f0f8ff; padding: 20px; border-radius: 8px; margin-bottom: 20px;\">\r\n",
                "    <!-- Main Heading -->\r\n",
                "    <div style=\"background-color: #004080; padding: 20px; border-radius: 8px; border: 2px solid #004080; margin-bottom: 20px;\">\r\n",
                "        <h1 style=\"color: #ffffff; font-weight: bold; text-align: center; font-size: 24px;\">Airline On-Time Arrival Performance Analysis for Domestic Flights in March 2024</h1>\r\n",
                "    </div>\r\n",
                "    <!-- Subheading for Course Information -->\r\n",
                "    <h2 style=\"color: #000080; font-weight: bold; text-align: center;\">CAP 2761C - Intermediate Analytics</h2>\r\n",
                "    <h3 style=\"color: #000080; font-weight: bold; text-align: center;\">Professor: Pedro Vargas Garces</h3>\r\n",
                "    <!-- Student Names -->\r\n",
                "    <p style=\"color: #0047AB; font-size: 16px; text-align: center;\">Carlos C. Gomez</p>\r\n",
                "    <p style=\"color: #0047AB; font-size: 16px; text-align: center;\">Matthew Mullin</p>\r\n",
                "    <!-- Date -->\r\n",
                "    <p style=\"color: #0047AB; font-weight: bold; text-align: center; margin-top: 30px;\">Date: 6/13/2024</p>\r\n",
                "</div>\r\n",
                "\r\n",
                "\r\n",
                ""
            ],
            "metadata": {
                "azdata_cell_guid": "e3041bf3-de2d-4614-b0dc-658d051393a3"
            },
            "attachments": {}
        },
        {
            "cell_type": "markdown",
            "source": [
                "\r\n",
                "\r\n",
                "<!-- Main Container for Heading -->\r\n",
                "<div style=\"background-color: #004080; padding: 10px; border-radius: 8px; margin-bottom: 20px; text-align: center;\">\r\n",
                "<h2 style=\"color: #ffffff; font-weight: bold; font-size: 20px; margin: 0;\">1. The Dataset</h2>\r\n",
                "</div>\r\n",
                "\r\n",
                "<div style=\"background-color: #f0f8ff; padding: 20px; border-radius: 8px; margin-bottom: 20px;\">\r\n",
                "    <ol style=\"color: #000000; font-size: 16px;\">\r\n",
                "        The data used in this analysis is sourced from the Bureau of Transportation Statistics (BTS). The BTS tracks the on-time performance of domestic flights operated by large air carriers. Summary information on the number of on-time, delayed, canceled, and diverted flights appears in the monthly Air Travel Consumer Report, published about 30 days after the month’s end. For more details, please visit the Bureau of Transportation Statistics <a href=\"https://www.transtats.bts.gov/OT_Delay/OT_DelayCause1.asp\" target=\"_blank\" style=\"color: #800000; text-decoration: none;\">website</a>.\r\n",
                "    </ol>\r\n",
                "</div>"
            ],
            "metadata": {
                "azdata_cell_guid": "28f3f4f6-3e78-4434-b2c2-91ff68014bd0"
            },
            "attachments": {}
        },
        {
            "cell_type": "markdown",
            "source": [
                "<!-- Main Container for Heading -->\r\n",
                "<div style=\"background-color: #004080; padding: 10px; border-radius: 8px; margin-bottom: 20px; text-align: center;\">\r\n",
                "    <h2 style=\"color: #ffffff; font-weight: bold; font-size: 20px; margin: 0;\">2. Setting Up the Environment</h2>\r\n",
                "</div>\r\n",
                "\r\n",
                "\r\n",
                "<!-- Main Container -->\r\n",
                "<div style=\"background-color: #f0f8ff; padding: 20px; border-radius: 8px; margin-bottom: 20px;\">\r\n",
                "    <p style=\"color: #800000; font-size: 16px; font-weight: bold;\">Step 2.1: Prerequisite Steps (Please see the <code>README</code> file)</p>\r\n",
                "    <p style=\"color: #000080; font-size: 16px;\">\r\n",
                "        Follow these steps to set up your environment:\r\n",
                "    </p>\r\n",
                "    <ol style=\"color: #000080; font-size: 16px;\">\r\n",
                "        <li>Read the <code>README.md</code> file located in the <strong>[AirlinePerformanceAnalysis]</strong> subfolder for detailed instructions.</li>\r\n",
                "        <li>Ensure that you have the required software installed. Links to download the necessary packages are provided in the <code>README.md</code> file:\r\n",
                "            <ul>\r\n",
                "                <li><a href=\"https://docs.microsoft.com/en-us/sql/ssms/download-sql-server-management-studio-ssms?view=sql-server-ver15\" style=\"color: #800000;\">SQL Server Management Studio (SMSS)</a></li>\r\n",
                "                <li><a href=\"https://docs.microsoft.com/en-us/sql/tools/sqlcmd-utility?view=sql-server-ver15\" style=\"color: #800000;\">SQLCMD Utility</a></li>\r\n",
                "                <li><a href=\"https://docs.microsoft.com/en-us/sql/azure-data-studio/download-azure-data-studio\" style=\"color: #800000;\">Azure Data Studio</a> or Jupyter Notebook with T-SQL Kernel</li>\r\n",
                "            </ul>\r\n",
                "        </li>\r\n",
                "        <li>Clone the <strong>[AirlinePerformanceAnalysis]</strong> repository using the following command:\r\n",
                "            <pre style=\"background-color: #ffffff; padding: 10px; border: 1px solid #004080; border-radius: 8px; color: #000080; font-size: 16px;\">\r\n",
                "git clone https://github.com/your-username/tech-portfolio.git\r\n",
                "cd tech-portfolio/AirlinePerformanceAnalysis\r\n",
                "            </pre>\r\n",
                "        </li>\r\n",
                "        <li>Install the dependencies as described in the <code>README.md</code> file.</li>\r\n",
                "        <li>Open the notebook file <code>AirlinePerformance2024-03.ipynb</code> in Jupyter Notebook or Azure Data Studio.</li>\r\n",
                "        <li>Run the Notebook: All at once or cell by cell.</li>\r\n",
                "    </ol>\r\n",
                "</div>\r\n",
                "\r\n",
                "\r\n",
                "<!-- Main Container -->\r\n",
                "<div style=\"background-color: #f0f8ff; padding: 20px; border-radius: 8px; margin-bottom: 20px;\">\r\n",
                "    <p style=\"color: #800000; font-size: 16px; font-weight: bold;\">Step 2.2: Connect to the Database</p>\r\n",
                "    <p style=\"color: #000080; font-size: 16px;\">\r\n",
                "        Follow these steps to connect to the database:\r\n",
                "    </p>\r\n",
                "    <ol style=\"color: #000080; font-size: 16px;\">\r\n",
                "        <li>Ensure you have SQL Server installed locally and the SQL Server Command Line Tools (<code>sqlcmd</code>) available. You can download and install <code>sqlcmd</code> from <a href=\"https://docs.microsoft.com/en-us/sql/tools/sqlcmd-utility?view=sql-server-ver15\" style=\"color: #800000;\">here</a>.</li>\r\n",
                "        <li>Open SQL Server Management Studio (SMSS) and connect to your local SQL Server instance.</li>\r\n",
                "        <li>Run the following SQL statement to set the context for the <code>FlightDelays</code> database:\r\n",
                "            <pre style=\"background-color: #ffffff; padding: 10px; border: 1px solid #004080; border-radius: 8px; color: #000080; font-size: 16px;\">\r\n",
                "USE FlightDelays;\r\n",
                "            </pre>\r\n",
                "        </li>\r\n",
                "    </ol>\r\n",
                "</div>\r\n",
                "\r\n",
                "\r\n",
                "\r\n",
                ""
            ],
            "metadata": {
                "azdata_cell_guid": "e5a8ceb9-3550-45ce-968d-611c2045af48"
            },
            "attachments": {}
        },
        {
            "cell_type": "code",
            "source": [
                "USE FlightDelays; \r\n",
                "\r\n",
                "-- The drop table statements are in case the user wants to recurse through the process\r\n",
                "\r\n",
                "\r\n",
                "-- Drop tables if they exist\r\n",
                "IF OBJECT_ID('dbo.AirlineAssociations', 'U') IS NOT NULL \r\n",
                "    DROP TABLE dbo.AirlineAssociations;\r\n",
                "\r\n",
                "IF OBJECT_ID('dbo.AirlineMetrics', 'U') IS NOT NULL \r\n",
                "    DROP TABLE dbo.AirlineMetrics;\r\n",
                "\r\n",
                "\r\n",
                "\r\n",
                "\r\n",
                ""
            ],
            "metadata": {
                "azdata_cell_guid": "562ae70d-b486-4705-bddb-160b2bd4836a",
                "language": "sql",
                "tags": [
                    "hide_input"
                ]
            },
            "outputs": [
                {
                    "output_type": "display_data",
                    "data": {
                        "text/html": "Commands completed successfully."
                    },
                    "metadata": {}
                },
                {
                    "output_type": "display_data",
                    "data": {
                        "text/html": "Total execution time: 00:00:00.002"
                    },
                    "metadata": {}
                }
            ],
            "execution_count": 3
        },
        {
            "cell_type": "markdown",
            "source": [
                "<!-- Main Container -->\r\n",
                "<div style=\"background-color: #f0f8ff; padding: 20px; border-radius: 8px; margin-bottom: 20px;\">\r\n",
                "    <p style=\"color: #800000; font-size: 16px; font-weight: bold;\">Step 2.3: Create the AirlineAssociations Table</p>\r\n",
                "    <p style=\"color: #000080; font-size: 16px;\">\r\n",
                "        In the cell below, we use the following SQL statement to create the <code>AirlineAssociations</code> table with the necessary columns to store airline code, name, operating brand, and marketing airline:\r\n",
                "    </p>\r\n",
                "    <pre style=\"background-color: #ffffff; padding: 10px; border: 1px solid #004080; border-radius: 8px; color: #000080; font-size: 16px;\">\r\n",
                "CREATE TABLE FlightDelays.dbo.AirlineAssociations\r\n",
                "(\r\n",
                "    AirlineCode NVARCHAR(10),\r\n",
                "    AirCarrier NVARCHAR(100) NOT NULL,\r\n",
                "    OperatingBrand NVARCHAR(100) NOT NULL,\r\n",
                "    MarketingAirline NVARCHAR(100) NOT NULL\r\n",
                ");\r\n",
                "    </pre>\r\n",
                "    <p style=\"color: #000000; font-size: 16px;\">\r\n",
                "        The <code>AirlineAssociations</code> table is designed to consolidate airline data, reduce redundancy, and facilitate easier analysis of flight delay information. By associating various carriers with their marketing airlines, we can streamline data queries and reports.\r\n",
                "    </p>\r\n",
                "</div>\r\n",
                ""
            ],
            "metadata": {
                "language": "sql",
                "azdata_cell_guid": "71c25a75-d19a-4384-8f1d-bdf273d92617"
            },
            "attachments": {}
        },
        {
            "cell_type": "code",
            "source": [
                "CREATE TABLE FlightDelays.dbo.AirlineAssociations\r\n",
                "    (\r\n",
                "        AirlineCode NVARCHAR(3),\r\n",
                "        AirCarrier NVARCHAR(50) NOT NULL,\r\n",
                "        CarrierBrand NVARCHAR(50) NOT NULL,\r\n",
                "        MarketingAirline NVARCHAR(50) NOT NULL\r\n",
                "    );\r\n",
                "\r\n",
                "-- Insert relationship data into AirlineAssociations table\r\n",
                "INSERT INTO FlightDelays.dbo.AirlineAssociations (AirlineCode, AirCarrier, CarrierBrand, MarketingAirline)\r\n",
                "VALUES \r\n",
                "    -- American Airlines Group\r\n",
                "    ('AA', 'American Airlines', 'American Airlines', 'American Airlines Group'),\r\n",
                "    ('YX', 'Republic Airline', 'American Eagle', 'American Airlines Group'),\r\n",
                "    ('MQ', 'Envoy Air', 'American Eagle', 'American Airlines Group'),\r\n",
                "    ('OH', 'PSA Airlines', 'American Eagle', 'American Airlines Group'),\r\n",
                "    ('PT', 'Piedmont Airlines', 'American Eagle', 'American Airlines Group'),\r\n",
                "    ('YV', 'Mesa Airlines Inc.', 'American Eagle', 'American Airlines Group'),\r\n",
                "\r\n",
                "    -- United Airlines Group\r\n",
                "    ('UA', 'United Airlines', 'United Airlines', 'United Airlines Group'),\r\n",
                "    ('OO', 'SkyWest Airlines Inc.', 'United Express', 'United Airlines Group'),\r\n",
                "    ('C5', 'CommuteAir LLC', 'United Express', 'United Airlines Group'),\r\n",
                "    ('ZW', 'Air Wisconsin Airlines Corp', 'United Express', 'United Airlines Group'),\r\n",
                "    ('G7', 'GoJet Airlines LLC', 'United Express', 'United Airlines Group'),\r\n",
                "\r\n",
                "    -- Delta Air Lines Group\r\n",
                "    ('DL', 'Delta Air Lines', 'Delta Air Lines', 'Delta Air Lines Group'),\r\n",
                "    ('OO', 'SkyWest Airlines Inc.', 'Delta Connection', 'Delta Air Lines Group'),\r\n",
                "    ('9E', 'Endeavor Air Inc.', 'Delta Connection', 'Delta Air Lines Group'),\r\n",
                "\r\n",
                "    -- Southwest Airlines\r\n",
                "    ('WN', 'Southwest Airlines', 'Southwest Airlines', 'Southwest Airlines'),\r\n",
                "\r\n",
                "    -- Alaska Airlines Group\r\n",
                "    ('AS', 'Alaska Airlines', 'Alaska Airlines', 'Alaska Airlines Group'),\r\n",
                "    ('QX', 'Horizon Air', 'Alaska Airlines', 'Alaska Airlines Group'),\r\n",
                "\r\n",
                "    -- Spirit Airlines\r\n",
                "    ('NK', 'Spirit Airlines', 'Spirit Airlines', 'Spirit Airlines'),\r\n",
                "\r\n",
                "    -- JetBlue Airways\r\n",
                "    ('B6', 'JetBlue Airways', 'JetBlue Airways', 'JetBlue Airways'),\r\n",
                "\r\n",
                "    -- Frontier Airlines\r\n",
                "    ('F9', 'Frontier Airlines', 'Frontier Airlines', 'Frontier Airlines'),\r\n",
                "\r\n",
                "    -- Allegiant Air\r\n",
                "    ('G4', 'Allegiant Air', 'Allegiant Air', 'Allegiant Air'),\r\n",
                "\r\n",
                "    -- Hawaiian Airlines\r\n",
                "    ('HA', 'Hawaiian Airlines', 'Hawaiian Airlines', 'Hawaiian Airlines');\r\n",
                ""
            ],
            "metadata": {
                "language": "sql",
                "azdata_cell_guid": "ac292c2e-eda3-4577-88bb-3ee04bc76ba1",
                "tags": [
                    "hide_input"
                ]
            },
            "outputs": [
                {
                    "output_type": "display_data",
                    "data": {
                        "text/html": "(22 rows affected)"
                    },
                    "metadata": {}
                },
                {
                    "output_type": "display_data",
                    "data": {
                        "text/html": "Total execution time: 00:00:00.017"
                    },
                    "metadata": {}
                }
            ],
            "execution_count": 4
        },
        {
            "cell_type": "markdown",
            "source": [
                "<!-- Main Container -->\r\n",
                "<div style=\"background-color: #f0f8ff; padding: 20px; border-radius: 8px; margin-bottom: 20px;\">\r\n",
                "    <p style=\"color: #800000; font-size: 16px; font-weight: bold;\">Step 2.4: Create the AirlineMetrics Table</p>\r\n",
                "    <p style=\"color: #000080; font-size: 16px;\">\r\n",
                "        In the cell below, we use the following SQL statement to create the <code>AirlineMetrics</code> table and then polulate it:\r\n",
                "    </p>\r\n",
                "    <pre style=\"background-color: #ffffff; padding: 10px; border: 1px solid #004080; border-radius: 8px; color: #000080; font-size: 16px;\">\r\n",
                "CREATE TABLE FlightDelays.dbo.AirlineMetrics\r\n",
                "(\r\n",
                "    MarketingAirline NVARCHAR(50),\r\n",
                "    TotalFlights INT,\r\n",
                "    OnTimeFlights INT,\r\n",
                "    DelayedFlights INT,\r\n",
                "    DelayPercentage DECIMAL(5,2),\r\n",
                "    OnTimePercentage DECIMAL(5,2)\r\n",
                ");\r\n",
                "    </pre>\r\n",
                "</div>\r\n",
                ""
            ],
            "metadata": {
                "language": "sql",
                "azdata_cell_guid": "4097c45d-6cbd-4df5-99de-3383401d7577"
            },
            "attachments": {}
        },
        {
            "cell_type": "code",
            "source": [
                "CREATE TABLE FlightDelays.dbo.AirlineMetrics \r\n",
                "    (\r\n",
                "        MarketingAirline NVARCHAR(50),   -- The name of the marketing airline\r\n",
                "        TotalFlights INT,                 -- Total number of flights\r\n",
                "        OnTimeFlights INT,                -- Total number of on-time flights\r\n",
                "        DelayedFlights INT,               -- Total number of delayed flights\r\n",
                "        DelayPercentage DECIMAL(5,2),     -- Percentage of delayed flights\r\n",
                "        OnTimePercentage DECIMAL(5,2)     -- Percentage of on-time flights\r\n",
                "    );\r\n",
                "\r\n",
                "-- 2. INSERT AGGREGATED DATA INTO AIRLINE METRICS TABLE\r\n",
                "INSERT INTO FlightDelays.dbo.AirlineMetrics (MarketingAirline, TotalFlights, OnTimeFlights, DelayedFlights, DelayPercentage, OnTimePercentage)\r\n",
                "SELECT \r\n",
                "    aa.MarketingAirline,\r\n",
                "    SUM(f.Count_Arrivals) AS TotalFlights,\r\n",
                "    SUM(f.Count_Arrivals - f.Count_ArrFlights_Delayed15PlusMin) AS OnTimeFlights,\r\n",
                "    SUM(f.Count_ArrFlights_Delayed15PlusMin) AS DelayedFlights,\r\n",
                "    \r\n",
                "    -- Calculate Delay Percentage\r\n",
                "    CAST((SUM(f.Count_ArrFlights_Delayed15PlusMin) * 100.0 / SUM(f.Count_Arrivals)) AS DECIMAL(5,2)) AS DelayPercentage,\r\n",
                "    \r\n",
                "    -- Calculate On-Time Percentage\r\n",
                "    CAST((SUM(f.Count_Arrivals - f.Count_ArrFlights_Delayed15PlusMin) * 100.0 / SUM(f.Count_Arrivals)) AS DECIMAL(5,2)) AS OnTimePercentage\r\n",
                "\r\n",
                "FROM \r\n",
                "    FlightDelays.dbo.Flights f\r\n",
                "\r\n",
                "JOIN \r\n",
                "    FlightDelays.dbo.AirlineAssociations aa \r\n",
                "            ON f.AirlineCode = aa.AirlineCode\r\n",
                "GROUP BY \r\n",
                "    aa.MarketingAirline\r\n",
                "ORDER BY \r\n",
                "    TotalFlights DESC;\r\n",
                ""
            ],
            "metadata": {
                "language": "sql",
                "azdata_cell_guid": "521fdb8c-0ecf-42a2-a534-f881540f2c3d",
                "tags": [
                    "hide_input"
                ]
            },
            "outputs": [
                {
                    "output_type": "display_data",
                    "data": {
                        "text/html": "(10 rows affected)"
                    },
                    "metadata": {}
                },
                {
                    "output_type": "display_data",
                    "data": {
                        "text/html": "Total execution time: 00:00:00.013"
                    },
                    "metadata": {}
                }
            ],
            "execution_count": 5
        },
        {
            "cell_type": "markdown",
            "source": [
                "<!-- Main Container -->\n",
                "<div style=\"background-color: #f0f8ff; padding: 20px; border-radius: 8px; margin-bottom: 20px;\">\n",
                "    <p style=\"color: #800000; font-size: 16px; font-weight: bold;\">Step 2,5: Verify the Setup</p>\n",
                "    <p style=\"color: #000080; font-size: 16px;\">\n",
                "        Follow these steps to verify that the setup is correct:\n",
                "    </p>\n",
                "    <ol style=\"color: #000080; font-size: 16px;\">\n",
                "        <li>Open SQL Server Management Studio (SSMS) and connect to your local SQL Server instance.</li>\n",
                "        <li>Navigate to the <code>FlightDelays</code> database.</li>\n",
                "        <li>Verify that the <code>Flights</code> table has been created and populated with data.</li>\n",
                "        <li>Verify that the <code>AirlineAssociations</code> table has been created and populated with data.</li>\n",
                "        <li>Verify that the <code>AirlineMetrics</code> table has been created and populated with data.</li>\n",
                "    </ol>\n",
                "</div>\n",
                ""
            ],
            "metadata": {
                "language": "sql",
                "azdata_cell_guid": "b01c2837-2ada-4ff9-9fcf-73b3e35bd00e"
            },
            "attachments": {}
        },
        {
            "cell_type": "code",
            "source": [
                "SELECT TOP 10 * FROM FlightDelays.dbo.Flights; \r\n",
                "SELECT TOP 10 * FROM FlightDelays.dbo.AirlineAssociations; \r\n",
                "SELECT TOP 10 * FROM FlightDelays.dbo.AirlineMetrics; "
            ],
            "metadata": {
                "language": "sql",
                "azdata_cell_guid": "2e259bb9-a80d-42e1-93eb-9387fd3912d1"
            },
            "outputs": [
                {
                    "output_type": "display_data",
                    "data": {
                        "text/html": "(10 rows affected)"
                    },
                    "metadata": {}
                },
                {
                    "output_type": "display_data",
                    "data": {
                        "text/html": "(10 rows affected)"
                    },
                    "metadata": {}
                },
                {
                    "output_type": "display_data",
                    "data": {
                        "text/html": "(10 rows affected)"
                    },
                    "metadata": {}
                },
                {
                    "output_type": "display_data",
                    "data": {
                        "text/html": "Total execution time: 00:00:00.019"
                    },
                    "metadata": {}
                },
                {
                    "output_type": "execute_result",
                    "metadata": {},
                    "execution_count": 18,
                    "data": {
                        "application/vnd.dataresource+json": {
                            "schema": {
                                "fields": [
                                    {
                                        "name": "AirlineCode"
                                    },
                                    {
                                        "name": "AirlineName"
                                    },
                                    {
                                        "name": "AirportCode"
                                    },
                                    {
                                        "name": "AirportName"
                                    },
                                    {
                                        "name": "Count_Arrivals"
                                    },
                                    {
                                        "name": "Count_ArrFlights_Delayed15PlusMin"
                                    },
                                    {
                                        "name": "Count_Airline_Delay"
                                    },
                                    {
                                        "name": "Count_Weather_Delay"
                                    },
                                    {
                                        "name": "Count_NAS_Delay"
                                    },
                                    {
                                        "name": "Count_Security_Delay"
                                    },
                                    {
                                        "name": "Count_LateAircraft_Delay"
                                    },
                                    {
                                        "name": "Count_Arrivals_Cancelled"
                                    },
                                    {
                                        "name": "Count_Arrivals_Diverted"
                                    },
                                    {
                                        "name": "TotalMinutes_Arrivals_Delay"
                                    },
                                    {
                                        "name": "TotalMinutes_Airline_Delay"
                                    },
                                    {
                                        "name": "TotalMinutes_Weather_Delay"
                                    },
                                    {
                                        "name": "TotalMinutes_NAS_Delay"
                                    },
                                    {
                                        "name": "TotalMinutes_Security_Delay"
                                    },
                                    {
                                        "name": "TotalMinutes_LateAircraft_Delay"
                                    }
                                ]
                            },
                            "data": [
                                {
                                    "AirlineCode": "9E",
                                    "AirlineName": "Endeavor Air Inc. (Delta Air Lines)",
                                    "AirportCode": "ABE",
                                    "AirportName": "Allentown/Bethlehem/Easton, PA: Lehigh Valley International",
                                    "Count_Arrivals": "88",
                                    "Count_ArrFlights_Delayed15PlusMin": "5",
                                    "Count_Airline_Delay": "1.7799999713897705",
                                    "Count_Weather_Delay": "0",
                                    "Count_NAS_Delay": "0.8600000143051147",
                                    "Count_Security_Delay": "0",
                                    "Count_LateAircraft_Delay": "2.359999895095825",
                                    "Count_Arrivals_Cancelled": "0",
                                    "Count_Arrivals_Diverted": "0",
                                    "TotalMinutes_Arrivals_Delay": "424",
                                    "TotalMinutes_Airline_Delay": "212",
                                    "TotalMinutes_Weather_Delay": "0",
                                    "TotalMinutes_NAS_Delay": "81",
                                    "TotalMinutes_Security_Delay": "0",
                                    "TotalMinutes_LateAircraft_Delay": "131"
                                },
                                {
                                    "AirlineCode": "9E",
                                    "AirlineName": "Endeavor Air Inc. (Delta Air Lines)",
                                    "AirportCode": "ABY",
                                    "AirportName": "Albany, GA: Southwest Georgia Regional",
                                    "Count_Arrivals": "1",
                                    "Count_ArrFlights_Delayed15PlusMin": "0",
                                    "Count_Airline_Delay": "0",
                                    "Count_Weather_Delay": "0",
                                    "Count_NAS_Delay": "0",
                                    "Count_Security_Delay": "0",
                                    "Count_LateAircraft_Delay": "0",
                                    "Count_Arrivals_Cancelled": "0",
                                    "Count_Arrivals_Diverted": "0",
                                    "TotalMinutes_Arrivals_Delay": "0",
                                    "TotalMinutes_Airline_Delay": "0",
                                    "TotalMinutes_Weather_Delay": "0",
                                    "TotalMinutes_NAS_Delay": "0",
                                    "TotalMinutes_Security_Delay": "0",
                                    "TotalMinutes_LateAircraft_Delay": "0"
                                },
                                {
                                    "AirlineCode": "9E",
                                    "AirlineName": "Endeavor Air Inc. (Delta Air Lines)",
                                    "AirportCode": "AEX",
                                    "AirportName": "Alexandria, LA: Alexandria International",
                                    "Count_Arrivals": "62",
                                    "Count_ArrFlights_Delayed15PlusMin": "6",
                                    "Count_Airline_Delay": "2.680000066757202",
                                    "Count_Weather_Delay": "0",
                                    "Count_NAS_Delay": "2.690000057220459",
                                    "Count_Security_Delay": "0",
                                    "Count_LateAircraft_Delay": "0.6299999952316284",
                                    "Count_Arrivals_Cancelled": "0",
                                    "Count_Arrivals_Diverted": "0",
                                    "TotalMinutes_Arrivals_Delay": "218",
                                    "TotalMinutes_Airline_Delay": "121",
                                    "TotalMinutes_Weather_Delay": "0",
                                    "TotalMinutes_NAS_Delay": "66",
                                    "TotalMinutes_Security_Delay": "0",
                                    "TotalMinutes_LateAircraft_Delay": "31"
                                },
                                {
                                    "AirlineCode": "9E",
                                    "AirlineName": "Endeavor Air Inc. (Delta Air Lines)",
                                    "AirportCode": "AGS",
                                    "AirportName": "Augusta, GA: Augusta Regional at Bush Field",
                                    "Count_Arrivals": "129",
                                    "Count_ArrFlights_Delayed15PlusMin": "11",
                                    "Count_Airline_Delay": "5.489999771118164",
                                    "Count_Weather_Delay": "0",
                                    "Count_NAS_Delay": "2.700000047683716",
                                    "Count_Security_Delay": "0",
                                    "Count_LateAircraft_Delay": "2.809999942779541",
                                    "Count_Arrivals_Cancelled": "0",
                                    "Count_Arrivals_Diverted": "0",
                                    "TotalMinutes_Arrivals_Delay": "546",
                                    "TotalMinutes_Airline_Delay": "341",
                                    "TotalMinutes_Weather_Delay": "0",
                                    "TotalMinutes_NAS_Delay": "93",
                                    "TotalMinutes_Security_Delay": "0",
                                    "TotalMinutes_LateAircraft_Delay": "112"
                                },
                                {
                                    "AirlineCode": "9E",
                                    "AirlineName": "Endeavor Air Inc. (Delta Air Lines)",
                                    "AirportCode": "ALB",
                                    "AirportName": "Albany, NY: Albany International",
                                    "Count_Arrivals": "111",
                                    "Count_ArrFlights_Delayed15PlusMin": "16",
                                    "Count_Airline_Delay": "3.2699999809265137",
                                    "Count_Weather_Delay": "1",
                                    "Count_NAS_Delay": "4.630000114440918",
                                    "Count_Security_Delay": "0.20000000298023224",
                                    "Count_LateAircraft_Delay": "6.909999847412109",
                                    "Count_Arrivals_Cancelled": "0",
                                    "Count_Arrivals_Diverted": "1",
                                    "TotalMinutes_Arrivals_Delay": "626",
                                    "TotalMinutes_Airline_Delay": "156",
                                    "TotalMinutes_Weather_Delay": "37",
                                    "TotalMinutes_NAS_Delay": "108",
                                    "TotalMinutes_Security_Delay": "12",
                                    "TotalMinutes_LateAircraft_Delay": "313"
                                },
                                {
                                    "AirlineCode": "9E",
                                    "AirlineName": "Endeavor Air Inc. (Delta Air Lines)",
                                    "AirportCode": "ATL",
                                    "AirportName": "Atlanta, GA: Hartsfield-Jackson Atlanta International",
                                    "Count_Arrivals": "2153",
                                    "Count_ArrFlights_Delayed15PlusMin": "235",
                                    "Count_Airline_Delay": "58.13999938964844",
                                    "Count_Weather_Delay": "5.329999923706055",
                                    "Count_NAS_Delay": "68.91000366210938",
                                    "Count_Security_Delay": "0",
                                    "Count_LateAircraft_Delay": "102.61000061035156",
                                    "Count_Arrivals_Cancelled": "0",
                                    "Count_Arrivals_Diverted": "0",
                                    "TotalMinutes_Arrivals_Delay": "14986",
                                    "TotalMinutes_Airline_Delay": "5929",
                                    "TotalMinutes_Weather_Delay": "697",
                                    "TotalMinutes_NAS_Delay": "2016",
                                    "TotalMinutes_Security_Delay": "0",
                                    "TotalMinutes_LateAircraft_Delay": "6344"
                                },
                                {
                                    "AirlineCode": "9E",
                                    "AirlineName": "Endeavor Air Inc. (Delta Air Lines)",
                                    "AirportCode": "AUS",
                                    "AirportName": "Austin, TX: Austin - Bergstrom International",
                                    "Count_Arrivals": "78",
                                    "Count_ArrFlights_Delayed15PlusMin": "12",
                                    "Count_Airline_Delay": "5.170000076293945",
                                    "Count_Weather_Delay": "0",
                                    "Count_NAS_Delay": "4.409999847412109",
                                    "Count_Security_Delay": "0",
                                    "Count_LateAircraft_Delay": "2.4200000762939453",
                                    "Count_Arrivals_Cancelled": "0",
                                    "Count_Arrivals_Diverted": "0",
                                    "TotalMinutes_Arrivals_Delay": "613",
                                    "TotalMinutes_Airline_Delay": "374",
                                    "TotalMinutes_Weather_Delay": "0",
                                    "TotalMinutes_NAS_Delay": "149",
                                    "TotalMinutes_Security_Delay": "0",
                                    "TotalMinutes_LateAircraft_Delay": "90"
                                },
                                {
                                    "AirlineCode": "9E",
                                    "AirlineName": "Endeavor Air Inc. (Delta Air Lines)",
                                    "AirportCode": "AVL",
                                    "AirportName": "Asheville, NC: Asheville Regional",
                                    "Count_Arrivals": "31",
                                    "Count_ArrFlights_Delayed15PlusMin": "1",
                                    "Count_Airline_Delay": "0",
                                    "Count_Weather_Delay": "0",
                                    "Count_NAS_Delay": "1",
                                    "Count_Security_Delay": "0",
                                    "Count_LateAircraft_Delay": "0",
                                    "Count_Arrivals_Cancelled": "0",
                                    "Count_Arrivals_Diverted": "0",
                                    "TotalMinutes_Arrivals_Delay": "30",
                                    "TotalMinutes_Airline_Delay": "0",
                                    "TotalMinutes_Weather_Delay": "0",
                                    "TotalMinutes_NAS_Delay": "30",
                                    "TotalMinutes_Security_Delay": "0",
                                    "TotalMinutes_LateAircraft_Delay": "0"
                                },
                                {
                                    "AirlineCode": "9E",
                                    "AirlineName": "Endeavor Air Inc. (Delta Air Lines)",
                                    "AirportCode": "BDL",
                                    "AirportName": "Hartford, CT: Bradley International",
                                    "Count_Arrivals": "55",
                                    "Count_ArrFlights_Delayed15PlusMin": "5",
                                    "Count_Airline_Delay": "1.0499999523162842",
                                    "Count_Weather_Delay": "0",
                                    "Count_NAS_Delay": "1.559999942779541",
                                    "Count_Security_Delay": "0",
                                    "Count_LateAircraft_Delay": "2.390000104904175",
                                    "Count_Arrivals_Cancelled": "0",
                                    "Count_Arrivals_Diverted": "0",
                                    "TotalMinutes_Arrivals_Delay": "260",
                                    "TotalMinutes_Airline_Delay": "26",
                                    "TotalMinutes_Weather_Delay": "0",
                                    "TotalMinutes_NAS_Delay": "61",
                                    "TotalMinutes_Security_Delay": "0",
                                    "TotalMinutes_LateAircraft_Delay": "173"
                                },
                                {
                                    "AirlineCode": "9E",
                                    "AirlineName": "Endeavor Air Inc. (Delta Air Lines)",
                                    "AirportCode": "BGM",
                                    "AirportName": "Binghamton, NY: Greater Binghamton/Edwin A. Link Field",
                                    "Count_Arrivals": "31",
                                    "Count_ArrFlights_Delayed15PlusMin": "3",
                                    "Count_Airline_Delay": "2",
                                    "Count_Weather_Delay": "0",
                                    "Count_NAS_Delay": "1",
                                    "Count_Security_Delay": "0",
                                    "Count_LateAircraft_Delay": "0",
                                    "Count_Arrivals_Cancelled": "0",
                                    "Count_Arrivals_Diverted": "2",
                                    "TotalMinutes_Arrivals_Delay": "45",
                                    "TotalMinutes_Airline_Delay": "30",
                                    "TotalMinutes_Weather_Delay": "0",
                                    "TotalMinutes_NAS_Delay": "15",
                                    "TotalMinutes_Security_Delay": "0",
                                    "TotalMinutes_LateAircraft_Delay": "0"
                                }
                            ]
                        },
                        "text/html": [
                            "<table>",
                            "<tr><th>AirlineCode</th><th>AirlineName</th><th>AirportCode</th><th>AirportName</th><th>Count_Arrivals</th><th>Count_ArrFlights_Delayed15PlusMin</th><th>Count_Airline_Delay</th><th>Count_Weather_Delay</th><th>Count_NAS_Delay</th><th>Count_Security_Delay</th><th>Count_LateAircraft_Delay</th><th>Count_Arrivals_Cancelled</th><th>Count_Arrivals_Diverted</th><th>TotalMinutes_Arrivals_Delay</th><th>TotalMinutes_Airline_Delay</th><th>TotalMinutes_Weather_Delay</th><th>TotalMinutes_NAS_Delay</th><th>TotalMinutes_Security_Delay</th><th>TotalMinutes_LateAircraft_Delay</th></tr>",
                            "<tr><td>9E</td><td>Endeavor Air Inc. (Delta Air Lines)</td><td>ABE</td><td>Allentown/Bethlehem/Easton, PA: Lehigh Valley International</td><td>88</td><td>5</td><td>1.7799999713897705</td><td>0</td><td>0.8600000143051147</td><td>0</td><td>2.359999895095825</td><td>0</td><td>0</td><td>424</td><td>212</td><td>0</td><td>81</td><td>0</td><td>131</td></tr>",
                            "<tr><td>9E</td><td>Endeavor Air Inc. (Delta Air Lines)</td><td>ABY</td><td>Albany, GA: Southwest Georgia Regional</td><td>1</td><td>0</td><td>0</td><td>0</td><td>0</td><td>0</td><td>0</td><td>0</td><td>0</td><td>0</td><td>0</td><td>0</td><td>0</td><td>0</td><td>0</td></tr>",
                            "<tr><td>9E</td><td>Endeavor Air Inc. (Delta Air Lines)</td><td>AEX</td><td>Alexandria, LA: Alexandria International</td><td>62</td><td>6</td><td>2.680000066757202</td><td>0</td><td>2.690000057220459</td><td>0</td><td>0.6299999952316284</td><td>0</td><td>0</td><td>218</td><td>121</td><td>0</td><td>66</td><td>0</td><td>31</td></tr>",
                            "<tr><td>9E</td><td>Endeavor Air Inc. (Delta Air Lines)</td><td>AGS</td><td>Augusta, GA: Augusta Regional at Bush Field</td><td>129</td><td>11</td><td>5.489999771118164</td><td>0</td><td>2.700000047683716</td><td>0</td><td>2.809999942779541</td><td>0</td><td>0</td><td>546</td><td>341</td><td>0</td><td>93</td><td>0</td><td>112</td></tr>",
                            "<tr><td>9E</td><td>Endeavor Air Inc. (Delta Air Lines)</td><td>ALB</td><td>Albany, NY: Albany International</td><td>111</td><td>16</td><td>3.2699999809265137</td><td>1</td><td>4.630000114440918</td><td>0.20000000298023224</td><td>6.909999847412109</td><td>0</td><td>1</td><td>626</td><td>156</td><td>37</td><td>108</td><td>12</td><td>313</td></tr>",
                            "<tr><td>9E</td><td>Endeavor Air Inc. (Delta Air Lines)</td><td>ATL</td><td>Atlanta, GA: Hartsfield-Jackson Atlanta International</td><td>2153</td><td>235</td><td>58.13999938964844</td><td>5.329999923706055</td><td>68.91000366210938</td><td>0</td><td>102.61000061035156</td><td>0</td><td>0</td><td>14986</td><td>5929</td><td>697</td><td>2016</td><td>0</td><td>6344</td></tr>",
                            "<tr><td>9E</td><td>Endeavor Air Inc. (Delta Air Lines)</td><td>AUS</td><td>Austin, TX: Austin - Bergstrom International</td><td>78</td><td>12</td><td>5.170000076293945</td><td>0</td><td>4.409999847412109</td><td>0</td><td>2.4200000762939453</td><td>0</td><td>0</td><td>613</td><td>374</td><td>0</td><td>149</td><td>0</td><td>90</td></tr>",
                            "<tr><td>9E</td><td>Endeavor Air Inc. (Delta Air Lines)</td><td>AVL</td><td>Asheville, NC: Asheville Regional</td><td>31</td><td>1</td><td>0</td><td>0</td><td>1</td><td>0</td><td>0</td><td>0</td><td>0</td><td>30</td><td>0</td><td>0</td><td>30</td><td>0</td><td>0</td></tr>",
                            "<tr><td>9E</td><td>Endeavor Air Inc. (Delta Air Lines)</td><td>BDL</td><td>Hartford, CT: Bradley International</td><td>55</td><td>5</td><td>1.0499999523162842</td><td>0</td><td>1.559999942779541</td><td>0</td><td>2.390000104904175</td><td>0</td><td>0</td><td>260</td><td>26</td><td>0</td><td>61</td><td>0</td><td>173</td></tr>",
                            "<tr><td>9E</td><td>Endeavor Air Inc. (Delta Air Lines)</td><td>BGM</td><td>Binghamton, NY: Greater Binghamton/Edwin A. Link Field</td><td>31</td><td>3</td><td>2</td><td>0</td><td>1</td><td>0</td><td>0</td><td>0</td><td>2</td><td>45</td><td>30</td><td>0</td><td>15</td><td>0</td><td>0</td></tr>",
                            "</table>"
                        ]
                    }
                },
                {
                    "output_type": "execute_result",
                    "metadata": {},
                    "execution_count": 18,
                    "data": {
                        "application/vnd.dataresource+json": {
                            "schema": {
                                "fields": [
                                    {
                                        "name": "AirlineCode"
                                    },
                                    {
                                        "name": "AirCarrier"
                                    },
                                    {
                                        "name": "CarrierBrand"
                                    },
                                    {
                                        "name": "MarketingAirline"
                                    }
                                ]
                            },
                            "data": [
                                {
                                    "AirlineCode": "AA",
                                    "AirCarrier": "American Airlines",
                                    "CarrierBrand": "American Airlines",
                                    "MarketingAirline": "American Airlines Group"
                                },
                                {
                                    "AirlineCode": "YX",
                                    "AirCarrier": "Republic Airline",
                                    "CarrierBrand": "American Eagle",
                                    "MarketingAirline": "American Airlines Group"
                                },
                                {
                                    "AirlineCode": "MQ",
                                    "AirCarrier": "Envoy Air",
                                    "CarrierBrand": "American Eagle",
                                    "MarketingAirline": "American Airlines Group"
                                },
                                {
                                    "AirlineCode": "OH",
                                    "AirCarrier": "PSA Airlines",
                                    "CarrierBrand": "American Eagle",
                                    "MarketingAirline": "American Airlines Group"
                                },
                                {
                                    "AirlineCode": "PT",
                                    "AirCarrier": "Piedmont Airlines",
                                    "CarrierBrand": "American Eagle",
                                    "MarketingAirline": "American Airlines Group"
                                },
                                {
                                    "AirlineCode": "YV",
                                    "AirCarrier": "Mesa Airlines Inc.",
                                    "CarrierBrand": "American Eagle",
                                    "MarketingAirline": "American Airlines Group"
                                },
                                {
                                    "AirlineCode": "UA",
                                    "AirCarrier": "United Airlines",
                                    "CarrierBrand": "United Airlines",
                                    "MarketingAirline": "United Airlines Group"
                                },
                                {
                                    "AirlineCode": "OO",
                                    "AirCarrier": "SkyWest Airlines Inc.",
                                    "CarrierBrand": "United Express",
                                    "MarketingAirline": "United Airlines Group"
                                },
                                {
                                    "AirlineCode": "C5",
                                    "AirCarrier": "CommuteAir LLC",
                                    "CarrierBrand": "United Express",
                                    "MarketingAirline": "United Airlines Group"
                                },
                                {
                                    "AirlineCode": "ZW",
                                    "AirCarrier": "Air Wisconsin Airlines Corp",
                                    "CarrierBrand": "United Express",
                                    "MarketingAirline": "United Airlines Group"
                                }
                            ]
                        },
                        "text/html": [
                            "<table>",
                            "<tr><th>AirlineCode</th><th>AirCarrier</th><th>CarrierBrand</th><th>MarketingAirline</th></tr>",
                            "<tr><td>AA</td><td>American Airlines</td><td>American Airlines</td><td>American Airlines Group</td></tr>",
                            "<tr><td>YX</td><td>Republic Airline</td><td>American Eagle</td><td>American Airlines Group</td></tr>",
                            "<tr><td>MQ</td><td>Envoy Air</td><td>American Eagle</td><td>American Airlines Group</td></tr>",
                            "<tr><td>OH</td><td>PSA Airlines</td><td>American Eagle</td><td>American Airlines Group</td></tr>",
                            "<tr><td>PT</td><td>Piedmont Airlines</td><td>American Eagle</td><td>American Airlines Group</td></tr>",
                            "<tr><td>YV</td><td>Mesa Airlines Inc.</td><td>American Eagle</td><td>American Airlines Group</td></tr>",
                            "<tr><td>UA</td><td>United Airlines</td><td>United Airlines</td><td>United Airlines Group</td></tr>",
                            "<tr><td>OO</td><td>SkyWest Airlines Inc.</td><td>United Express</td><td>United Airlines Group</td></tr>",
                            "<tr><td>C5</td><td>CommuteAir LLC</td><td>United Express</td><td>United Airlines Group</td></tr>",
                            "<tr><td>ZW</td><td>Air Wisconsin Airlines Corp</td><td>United Express</td><td>United Airlines Group</td></tr>",
                            "</table>"
                        ]
                    }
                },
                {
                    "output_type": "execute_result",
                    "metadata": {},
                    "execution_count": 18,
                    "data": {
                        "application/vnd.dataresource+json": {
                            "schema": {
                                "fields": [
                                    {
                                        "name": "MarketingAirline"
                                    },
                                    {
                                        "name": "TotalFlights"
                                    },
                                    {
                                        "name": "OnTimeFlights"
                                    },
                                    {
                                        "name": "DelayedFlights"
                                    },
                                    {
                                        "name": "DelayPercentage"
                                    },
                                    {
                                        "name": "OnTimePercentage"
                                    }
                                ]
                            },
                            "data": [
                                {
                                    "MarketingAirline": "Alaska Airlines Group",
                                    "TotalFlights": "26212",
                                    "OnTimeFlights": "20960",
                                    "DelayedFlights": "5252",
                                    "DelayPercentage": "20.04",
                                    "OnTimePercentage": "79.96"
                                },
                                {
                                    "MarketingAirline": "Allegiant Air",
                                    "TotalFlights": "11031",
                                    "OnTimeFlights": "8457",
                                    "DelayedFlights": "2574",
                                    "DelayPercentage": "23.33",
                                    "OnTimePercentage": "76.67"
                                },
                                {
                                    "MarketingAirline": "American Airlines Group",
                                    "TotalFlights": "163482",
                                    "OnTimeFlights": "129735",
                                    "DelayedFlights": "33747",
                                    "DelayPercentage": "20.64",
                                    "OnTimePercentage": "79.36"
                                },
                                {
                                    "MarketingAirline": "Delta Air Lines Group",
                                    "TotalFlights": "155976",
                                    "OnTimeFlights": "131258",
                                    "DelayedFlights": "24718",
                                    "DelayPercentage": "15.85",
                                    "OnTimePercentage": "84.15"
                                },
                                {
                                    "MarketingAirline": "Frontier Airlines",
                                    "TotalFlights": "17324",
                                    "OnTimeFlights": "11991",
                                    "DelayedFlights": "5333",
                                    "DelayPercentage": "30.78",
                                    "OnTimePercentage": "69.22"
                                },
                                {
                                    "MarketingAirline": "Hawaiian Airlines",
                                    "TotalFlights": "6455",
                                    "OnTimeFlights": "5670",
                                    "DelayedFlights": "785",
                                    "DelayPercentage": "12.16",
                                    "OnTimePercentage": "87.84"
                                },
                                {
                                    "MarketingAirline": "JetBlue Airways",
                                    "TotalFlights": "21565",
                                    "OnTimeFlights": "15120",
                                    "DelayedFlights": "6445",
                                    "DelayPercentage": "29.89",
                                    "OnTimePercentage": "70.11"
                                },
                                {
                                    "MarketingAirline": "Southwest Airlines",
                                    "TotalFlights": "125272",
                                    "OnTimeFlights": "97296",
                                    "DelayedFlights": "27976",
                                    "DelayPercentage": "22.33",
                                    "OnTimePercentage": "77.67"
                                },
                                {
                                    "MarketingAirline": "Spirit Airlines",
                                    "TotalFlights": "22885",
                                    "OnTimeFlights": "16357",
                                    "DelayedFlights": "6528",
                                    "DelayPercentage": "28.53",
                                    "OnTimePercentage": "71.47"
                                },
                                {
                                    "MarketingAirline": "United Airlines Group",
                                    "TotalFlights": "134828",
                                    "OnTimeFlights": "111800",
                                    "DelayedFlights": "23028",
                                    "DelayPercentage": "17.08",
                                    "OnTimePercentage": "82.92"
                                }
                            ]
                        },
                        "text/html": [
                            "<table>",
                            "<tr><th>MarketingAirline</th><th>TotalFlights</th><th>OnTimeFlights</th><th>DelayedFlights</th><th>DelayPercentage</th><th>OnTimePercentage</th></tr>",
                            "<tr><td>Alaska Airlines Group</td><td>26212</td><td>20960</td><td>5252</td><td>20.04</td><td>79.96</td></tr>",
                            "<tr><td>Allegiant Air</td><td>11031</td><td>8457</td><td>2574</td><td>23.33</td><td>76.67</td></tr>",
                            "<tr><td>American Airlines Group</td><td>163482</td><td>129735</td><td>33747</td><td>20.64</td><td>79.36</td></tr>",
                            "<tr><td>Delta Air Lines Group</td><td>155976</td><td>131258</td><td>24718</td><td>15.85</td><td>84.15</td></tr>",
                            "<tr><td>Frontier Airlines</td><td>17324</td><td>11991</td><td>5333</td><td>30.78</td><td>69.22</td></tr>",
                            "<tr><td>Hawaiian Airlines</td><td>6455</td><td>5670</td><td>785</td><td>12.16</td><td>87.84</td></tr>",
                            "<tr><td>JetBlue Airways</td><td>21565</td><td>15120</td><td>6445</td><td>29.89</td><td>70.11</td></tr>",
                            "<tr><td>Southwest Airlines</td><td>125272</td><td>97296</td><td>27976</td><td>22.33</td><td>77.67</td></tr>",
                            "<tr><td>Spirit Airlines</td><td>22885</td><td>16357</td><td>6528</td><td>28.53</td><td>71.47</td></tr>",
                            "<tr><td>United Airlines Group</td><td>134828</td><td>111800</td><td>23028</td><td>17.08</td><td>82.92</td></tr>",
                            "</table>"
                        ]
                    }
                }
            ],
            "execution_count": 18
        },
        {
            "cell_type": "markdown",
            "source": [
                "<!-- Main Container for Analysis and Visualizations Heading -->\n",
                "<div style=\"background-color: #004080; padding: 10px; border-radius: 8px; margin-bottom: 20px; text-align: center;\">\n",
                "<h2 style=\"color: #ffffff; font-weight: bold; font-size: 20px; margin: 0;\">3. Analysis and Visualizations</h2>\n",
                "</div>\n",
                "\n",
                "<!--1. Main Container for Visualization Index -->\n",
                "<div id=\"visualization1\" style=\"background-color: #f0f8ff; padding: 15px; border-radius: 8px; margin-bottom: 20px; border: 2px solid #004080;\">\n",
                "<p style=\"color: #000000; font-size: 16px;\">\n",
                "The following visualizations provide an in-depth analysis of airline on-time arrival performance for domestic flights in March 2024. The analysis is divided into three main sections:\n",
                "</p>\n",
                "\n",
                "<!-- National Airline Performance Overview -->\n",
                "<h3 style=\"color: #228B22; font-weight: bold;\">A. National Airline Performance Overview</h3>\n",
                "<p style=\"color: #000000; font-size: 16px;\">\n",
                "\n",
                "\n",
                "<h3 style=\"color: #228B22; font-weight: bold; margin-top: 20px;\">B. Miami Metropolitan Area Airports (MIA, FLL, PBI) </h3>\n",
                "<p style=\"color: #000000; font-size: 16px;\">\n",
                "\n",
                "\n",
                "<h3 style=\"color: #228B22; font-weight: bold; margin-top: 20px;\">C. Miami International Airport (MIA)</h3>\n",
                "<p style=\"color: #000000; font-size: 16px;\">\n",
                "\n",
                ""
            ],
            "metadata": {
                "language": "sql",
                "azdata_cell_guid": "07b1eca6-8145-497a-954c-3890fc9d34e8"
            },
            "attachments": {}
        },
        {
            "cell_type": "markdown",
            "source": [
                "<!-- Main Container for Analysis and Visualizations Heading -->\r\n",
                "<div style=\"background-color: #228B22; padding: 10px; border-radius: 8px; margin-bottom: 20px; text-align: center;\">\r\n",
                "<h2 style=\"color: #ffffff; font-weight: bold; font-size: 20px; margin: 0;\">A. National Airline Performance Review</h2>\r\n",
                "</div>\r\n",
                "\r\n",
                "<p style=\"color: #000000; font-size: 16px;\">\r\n",
                "This section provides visualizations for a broad overview of the domestic carriers in the United States and their \"On-Time Arrival\" statistics. The first visualization is a table showing the relationships between US domestic carriers that report to the Bureau of Transportation Statistics (BTS). This table illustrates the individual carriers, their co-branding relationships (such as regional carriers branded as American Eagle, Delta Connection, or United Express), and their associations with major airline groups. The second visualization is a pie chart depicting the percentage of on-time arrivals versus delayed flights (arrivals 15+ minutes after the scheduled time). The third visualization is a donut chart detailing the various reasons for delayed arrivals nationwide.\r\n",
                "</p>\r\n",
                "\r\n",
                ""
            ],
            "metadata": {
                "language": "sql",
                "azdata_cell_guid": "93da05fe-27a7-4108-802e-f411d36b7be0"
            },
            "attachments": {}
        },
        {
            "cell_type": "markdown",
            "source": [
                "<!-- Section Container -->\r\n",
                "<div style=\"background-color: #f0f8ff; padding: 20px; border-radius: 8px; margin-bottom: 20px;\">\r\n",
                "\r\n",
                "<!-- Main Heading -->\r\n",
                "<h1 style=\"color: #004080; font-weight: bold; \r\n",
                "text-align: center; margin-top: 20px; font-size: 24px;\">\r\n",
                "Proportions of On-Time  and Late Arrivals<br>\r\n",
                "<em style=\"font-style: italic; font-family: 'Courier New', Courier, monospace;\">All US Airports(March 2024)</em>\r\n",
                "</h1>\r\n",
                "\r\n",
                "</div>\r\n",
                "\r\n",
                ""
            ],
            "metadata": {
                "language": "sql",
                "azdata_cell_guid": "98d6f166-2e0b-4698-9b82-00489e6b2a0d"
            },
            "attachments": {}
        },
        {
            "cell_type": "code",
            "source": [
                "-- 1. Pie Chart of On-Time and Late Arrivals for March 2024\r\n",
                "\r\n",
                "/* Use WITH Clause to make the query more readable and use a top-down method */\r\n",
                "\r\n",
                "-- SUM: Calculate total flights and late flights\r\n",
                "WITH TotalFlights AS (\r\n",
                "    -- Total Arrivals: Sum of all arrivals to get the total number of flights\r\n",
                "    SELECT SUM(Count_Arrivals) AS TotalArrivals\r\n",
                "    FROM FlightDelays.dbo.Flights\r\n",
                "),\r\n",
                "LateFlights AS (\r\n",
                "    -- Late Arrivals: Sum of all arrivals that were delayed by 15 or more minutes\r\n",
                "    SELECT SUM(Count_ArrFlights_Delayed15PlusMin) AS LateArrivals\r\n",
                "    FROM FlightDelays.dbo.Flights\r\n",
                ")\r\n",
                "\r\n",
                "-- PERCENTAGES: Select the percentage of on-time and late flights\r\n",
                "SELECT\r\n",
                "    'On Time Arrival' AS Status, \r\n",
                "    -- Calculate the percentage of on-time flights\r\n",
                "    FORMAT((TotalArrivals - LateArrivals) * 100.0 / TotalArrivals, 'N1') AS Percentage\r\n",
                "FROM \r\n",
                "    TotalFlights, \r\n",
                "    LateFlights\r\n",
                "UNION ALL -- Combine the results of on-time and late percentages in one result set\r\n",
                "\r\n",
                "SELECT \r\n",
                "    'Late Arrival (15+ Minutes After Scheduled)' AS Status, \r\n",
                "    -- Calculate the percentage of late flights\r\n",
                "    FORMAT(LateArrivals * 100.0 / TotalArrivals, 'N1') AS Percentage\r\n",
                "FROM \r\n",
                "    TotalFlights, \r\n",
                "    LateFlights;\r\n",
                ""
            ],
            "metadata": {
                "language": "sql",
                "azdata_cell_guid": "10840c89-ab43-4617-9834-d1be9bbec8c7",
                "tags": [
                    "hide_input"
                ]
            },
            "outputs": [
                {
                    "output_type": "display_data",
                    "data": {
                        "text/html": "(2 rows affected)"
                    },
                    "metadata": {}
                },
                {
                    "output_type": "display_data",
                    "data": {
                        "text/html": "Total execution time: 00:00:00.014"
                    },
                    "metadata": {}
                },
                {
                    "output_type": "execute_result",
                    "metadata": {
                        "azdata_chartOptions": {
                            "type": "pie",
                            "dataDirection": "vertical",
                            "columnsAsLabels": true,
                            "labelFirstColumn": false,
                            "legendPosition": "bottom"
                        }
                    },
                    "execution_count": 7,
                    "data": {
                        "application/vnd.dataresource+json": {
                            "schema": {
                                "fields": [
                                    {
                                        "name": "Status"
                                    },
                                    {
                                        "name": "Percentage"
                                    }
                                ]
                            },
                            "data": [
                                {
                                    "Status": "On Time Arrival",
                                    "Percentage": "79.8"
                                },
                                {
                                    "Status": "Late Arrival (15+ Minutes After Scheduled)",
                                    "Percentage": "20.2"
                                }
                            ]
                        },
                        "text/html": [
                            "<table>",
                            "<tr><th>Status</th><th>Percentage</th></tr>",
                            "<tr><td>On Time Arrival</td><td>79.8</td></tr>",
                            "<tr><td>Late Arrival (15+ Minutes After Scheduled)</td><td>20.2</td></tr>",
                            "</table>"
                        ]
                    }
                }
            ],
            "execution_count": 7
        },
        {
            "cell_type": "markdown",
            "source": [
                "<!-- Section Container -->\r\n",
                "<div style=\"background-color: #f0f8ff; padding: 20px; border-radius: 8px; margin-bottom: 20px;\">\r\n",
                "\r\n",
                "<!-- Main Heading -->\r\n",
                "<h1 style=\"color: #004080; font-weight: bold; \r\n",
                "text-align: center; margin-top: 20px; font-size: 24px;\">\r\n",
                "Proportions For Main Causes of Domestic Flight Delayed Arrivals<br>\r\n",
                "<em style=\"font-style: italic; font-family: 'Courier New', Courier, monospace;\">All US Airports(March 2024)</em>\r\n",
                "</h1>\r\n",
                "\r\n",
                "</div>\r\n",
                "\r\n",
                "\r\n",
                "\r\n",
                ""
            ],
            "metadata": {
                "azdata_cell_guid": "c35bdaf8-b22b-4f2f-9b0c-eecb6910db0b"
            },
            "attachments": {}
        },
        {
            "cell_type": "code",
            "source": [
                "-- 2. Donut Chart: Distribution of \"Causes for Delays\" with Counts and Percentages (All US Aiport, March 2024)\r\n",
                "\r\n",
                "-- STEP 1: WITH Clause - Create the Common Table Expession\r\n",
                "\r\n",
                "WITH DelayCauses AS (\r\n",
                "\r\n",
                "-- Circumstances Within The Control of the Airline (e.g., Maintenance, Late Crew, Aircraft Cleaning, Baggage, Fueling, etc.)\r\n",
                "    SELECT \r\n",
                "        'Circumstances Within The Control of the Airline (i.e Maintenance, Late Crew, Aircraft Cleaning, Baggage, Fueling, etc.)' AS Cause, \r\n",
                "        SUM(FlightDelays.dbo.Flights.Count_Airline_Delay) AS DelayCount \r\n",
                "    FROM \r\n",
                "        FlightDelays.dbo.Flights\r\n",
                "    UNION ALL\r\n",
                "\r\n",
                "\r\n",
                " -- Extreme Weather (Actual or Forecasted)\r\n",
                "    SELECT \r\n",
                "        'Extreme Weather (Actual or Forecasted)' AS Cause, \r\n",
                "        SUM(FlightDelays.dbo.Flights.Count_Weather_Delay) AS DelayCount \r\n",
                "    FROM \r\n",
                "        FlightDelays.dbo.Flights\r\n",
                "    UNION ALL\r\n",
                "\r\n",
                "\r\n",
                " -- National Aviation System Delay (e.g., heavy volume, airport operations, air traffic control)\r\n",
                "    SELECT \r\n",
                "        'National Aviation System Delay, such as heavy volume, airport operations, and air traffic control' AS Cause, \r\n",
                "        SUM(FlightDelays.dbo.Flights.Count_NAS_Delay) AS DelayCount \r\n",
                "    FROM \r\n",
                "        FlightDelays.dbo.Flights\r\n",
                "    UNION ALL\r\n",
                "\r\n",
                "\r\n",
                " -- Security Delays (e.g., security breaches, inoperative screening equipment, long lines in screening areas)\r\n",
                "    SELECT \r\n",
                "        'Security (Security breaches, inoperative screening equipment, lines >29 minutes in screening areas)' AS Cause, \r\n",
                "        SUM(FlightDelays.dbo.Flights.Count_Security_Delay) AS DelayCount \r\n",
                "    FROM \r\n",
                "        FlightDelays.dbo.Flights\r\n",
                "    UNION ALL\r\n",
                "\r\n",
                "\r\n",
                " -- Previous Flight on Same Aircraft Arrived Late\r\n",
                "    SELECT \r\n",
                "        'Previous Flight on Same Aircraft Arrived Late' AS Cause, \r\n",
                "        SUM(FlightDelays.dbo.Flights.Count_LateAircraft_Delay) AS DelayCount \r\n",
                "    FROM \r\n",
                "        FlightDelays.dbo.Flights\r\n",
                "    UNION ALL\r\n",
                "\r\n",
                "\r\n",
                " -- Cancelled Flights\r\n",
                "    SELECT \r\n",
                "        'Cancelled' AS Cause, \r\n",
                "        SUM(FlightDelays.dbo.Flights.Count_Arrivals_Cancelled) AS DelayCount \r\n",
                "    FROM \r\n",
                "        FlightDelays.dbo.Flights\r\n",
                "    UNION ALL\r\n",
                "\r\n",
                "\r\n",
                " -- Diverted Flights\r\n",
                "    SELECT \r\n",
                "        'Diverted' AS Cause, \r\n",
                "        SUM(FlightDelays.dbo.Flights.Count_Arrivals_Diverted) AS DelayCount \r\n",
                "    FROM \r\n",
                "        FlightDelays.dbo.Flights\r\n",
                ")\r\n",
                "\r\n",
                "\r\n",
                "--STEP 2:  MAIN SELECT STATEMENT \r\n",
                "\r\n",
                "-- Select and calculate the percentage of each delay cause\r\n",
                "SELECT \r\n",
                "    Cause, -- Description of the cause for each delay\r\n",
                "    DelayCount, -- Total number of delays per cause category\r\n",
                "\r\n",
                "    /* \r\n",
                "    Calculate the percentage of each delay cause:\r\n",
                "    Divide DelayCount by the total delays (SUM(DelayCount)) and multiply by 100\r\n",
                "    */\r\n",
                "    CAST(\r\n",
                "        (DelayCount * 100.0 / SUM(DelayCount) OVER ()) \r\n",
                "        AS DECIMAL(5, 2)\r\n",
                "    ) AS Percentage\r\n",
                "FROM \r\n",
                "    DelayCauses\r\n",
                "ORDER BY \r\n",
                "    DelayCount DESC; -- Order by the number of delays in descending order\r\n",
                ""
            ],
            "metadata": {
                "language": "sql",
                "azdata_cell_guid": "fa051955-d976-484f-ad97-62a5b024adfe",
                "tags": [
                    "hide_input"
                ]
            },
            "outputs": [
                {
                    "output_type": "display_data",
                    "data": {
                        "text/html": "(7 rows affected)"
                    },
                    "metadata": {}
                },
                {
                    "output_type": "display_data",
                    "data": {
                        "text/html": "Total execution time: 00:00:00.023"
                    },
                    "metadata": {}
                },
                {
                    "output_type": "execute_result",
                    "metadata": {
                        "azdata_chartOptions": {
                            "type": "doughnut",
                            "dataDirection": "vertical",
                            "columnsAsLabels": true,
                            "labelFirstColumn": false,
                            "legendPosition": "left"
                        }
                    },
                    "execution_count": 8,
                    "data": {
                        "application/vnd.dataresource+json": {
                            "schema": {
                                "fields": [
                                    {
                                        "name": "Cause"
                                    },
                                    {
                                        "name": "DelayCount"
                                    },
                                    {
                                        "name": "Percentage"
                                    }
                                ]
                            },
                            "data": [
                                {
                                    "Cause": "Previous Flight on Same Aircraft Arrived Late",
                                    "DelayCount": "48092.5900516063",
                                    "Percentage": "35.90"
                                },
                                {
                                    "Cause": "Circumstances Within The Control of the Airline (i.e Maintenance, Late Crew, Aircraft Cleaning, Baggage, Fueling, etc.)",
                                    "DelayCount": "37666.5899305027",
                                    "Percentage": "28.12"
                                },
                                {
                                    "Cause": "National Aviation System Delay, such as heavy volume, airport operations, and air traffic control",
                                    "DelayCount": "37595.8900164254",
                                    "Percentage": "28.07"
                                },
                                {
                                    "Cause": "Cancelled",
                                    "DelayCount": "5377",
                                    "Percentage": "4.01"
                                },
                                {
                                    "Cause": "Extreme Weather (Actual or Forecasted)",
                                    "DelayCount": "3502.089995443821",
                                    "Percentage": "2.61"
                                },
                                {
                                    "Cause": "Diverted",
                                    "DelayCount": "1329",
                                    "Percentage": "0.99"
                                },
                                {
                                    "Cause": "Security (Security breaches, inoperative screening equipment, lines >29 minutes in screening areas)",
                                    "DelayCount": "391.31000011600554",
                                    "Percentage": "0.29"
                                }
                            ]
                        },
                        "text/html": [
                            "<table>",
                            "<tr><th>Cause</th><th>DelayCount</th><th>Percentage</th></tr>",
                            "<tr><td>Previous Flight on Same Aircraft Arrived Late</td><td>48092.5900516063</td><td>35.90</td></tr>",
                            "<tr><td>Circumstances Within The Control of the Airline (i.e Maintenance, Late Crew, Aircraft Cleaning, Baggage, Fueling, etc.)</td><td>37666.5899305027</td><td>28.12</td></tr>",
                            "<tr><td>National Aviation System Delay, such as heavy volume, airport operations, and air traffic control</td><td>37595.8900164254</td><td>28.07</td></tr>",
                            "<tr><td>Cancelled</td><td>5377</td><td>4.01</td></tr>",
                            "<tr><td>Extreme Weather (Actual or Forecasted)</td><td>3502.089995443821</td><td>2.61</td></tr>",
                            "<tr><td>Diverted</td><td>1329</td><td>0.99</td></tr>",
                            "<tr><td>Security (Security breaches, inoperative screening equipment, lines &gt;29 minutes in screening areas)</td><td>391.31000011600554</td><td>0.29</td></tr>",
                            "</table>"
                        ]
                    }
                }
            ],
            "execution_count": 8
        },
        {
            "cell_type": "markdown",
            "source": [
                "\r\n",
                "<!-- Section Container -->\r\n",
                "<div style=\"background-color: #f0f8ff; padding: 20px; border-radius: 8px; margin-bottom: 20px;\">\r\n",
                "\r\n",
                "<!-- Main Heading -->\r\n",
                "<h1 style=\"color: #004080; font-weight: bold; \r\n",
                "text-align: center; margin-top: 20px; font-size: 24px;\">\r\n",
                "Relationships between US Domestic AirCarriers and Airline Groups<br>\r\n",
                "<em style=\"font-style: italic; font-family: 'Courier New', Courier, monospace;\">(March 2024)</em>\r\n",
                "</h1>\r\n",
                ""
            ],
            "metadata": {
                "language": "sql",
                "azdata_cell_guid": "54d3e2ee-7100-4258-bfb4-72f2052884f6"
            },
            "attachments": {}
        },
        {
            "cell_type": "code",
            "source": [
                "-- 3. Table of Relationships betweeen Airline Carriers, Carrier Brands, and Marketing Airlne\r\n",
                "\r\n",
                "SELECT      \r\n",
                "    AirCarrier,  \r\n",
                "    CarrierBrand,\r\n",
                "    MarketingAirline                    \r\n",
                "FROM FlightDelays.dbo.AirlineAssociations\r\n",
                "ORDER BY CarrierBrand; "
            ],
            "metadata": {
                "language": "sql",
                "azdata_cell_guid": "e608c2f7-1875-49c5-987c-4778ecdd073d",
                "tags": [
                    "hide_input"
                ]
            },
            "outputs": [
                {
                    "output_type": "display_data",
                    "data": {
                        "text/html": "(22 rows affected)"
                    },
                    "metadata": {}
                },
                {
                    "output_type": "display_data",
                    "data": {
                        "text/html": "Total execution time: 00:00:00.004"
                    },
                    "metadata": {}
                },
                {
                    "output_type": "execute_result",
                    "metadata": {},
                    "execution_count": 9,
                    "data": {
                        "application/vnd.dataresource+json": {
                            "schema": {
                                "fields": [
                                    {
                                        "name": "AirCarrier"
                                    },
                                    {
                                        "name": "CarrierBrand"
                                    },
                                    {
                                        "name": "MarketingAirline"
                                    }
                                ]
                            },
                            "data": [
                                {
                                    "AirCarrier": "Alaska Airlines",
                                    "CarrierBrand": "Alaska Airlines",
                                    "MarketingAirline": "Alaska Airlines Group"
                                },
                                {
                                    "AirCarrier": "Horizon Air",
                                    "CarrierBrand": "Alaska Airlines",
                                    "MarketingAirline": "Alaska Airlines Group"
                                },
                                {
                                    "AirCarrier": "Allegiant Air",
                                    "CarrierBrand": "Allegiant Air",
                                    "MarketingAirline": "Allegiant Air"
                                },
                                {
                                    "AirCarrier": "American Airlines",
                                    "CarrierBrand": "American Airlines",
                                    "MarketingAirline": "American Airlines Group"
                                },
                                {
                                    "AirCarrier": "Republic Airline",
                                    "CarrierBrand": "American Eagle",
                                    "MarketingAirline": "American Airlines Group"
                                },
                                {
                                    "AirCarrier": "Envoy Air",
                                    "CarrierBrand": "American Eagle",
                                    "MarketingAirline": "American Airlines Group"
                                },
                                {
                                    "AirCarrier": "PSA Airlines",
                                    "CarrierBrand": "American Eagle",
                                    "MarketingAirline": "American Airlines Group"
                                },
                                {
                                    "AirCarrier": "Piedmont Airlines",
                                    "CarrierBrand": "American Eagle",
                                    "MarketingAirline": "American Airlines Group"
                                },
                                {
                                    "AirCarrier": "Mesa Airlines Inc.",
                                    "CarrierBrand": "American Eagle",
                                    "MarketingAirline": "American Airlines Group"
                                },
                                {
                                    "AirCarrier": "Delta Air Lines",
                                    "CarrierBrand": "Delta Air Lines",
                                    "MarketingAirline": "Delta Air Lines Group"
                                },
                                {
                                    "AirCarrier": "SkyWest Airlines Inc.",
                                    "CarrierBrand": "Delta Connection",
                                    "MarketingAirline": "Delta Air Lines Group"
                                },
                                {
                                    "AirCarrier": "Endeavor Air Inc.",
                                    "CarrierBrand": "Delta Connection",
                                    "MarketingAirline": "Delta Air Lines Group"
                                },
                                {
                                    "AirCarrier": "Frontier Airlines",
                                    "CarrierBrand": "Frontier Airlines",
                                    "MarketingAirline": "Frontier Airlines"
                                },
                                {
                                    "AirCarrier": "Hawaiian Airlines",
                                    "CarrierBrand": "Hawaiian Airlines",
                                    "MarketingAirline": "Hawaiian Airlines"
                                },
                                {
                                    "AirCarrier": "JetBlue Airways",
                                    "CarrierBrand": "JetBlue Airways",
                                    "MarketingAirline": "JetBlue Airways"
                                },
                                {
                                    "AirCarrier": "Southwest Airlines",
                                    "CarrierBrand": "Southwest Airlines",
                                    "MarketingAirline": "Southwest Airlines"
                                },
                                {
                                    "AirCarrier": "Spirit Airlines",
                                    "CarrierBrand": "Spirit Airlines",
                                    "MarketingAirline": "Spirit Airlines"
                                },
                                {
                                    "AirCarrier": "United Airlines",
                                    "CarrierBrand": "United Airlines",
                                    "MarketingAirline": "United Airlines Group"
                                },
                                {
                                    "AirCarrier": "SkyWest Airlines Inc.",
                                    "CarrierBrand": "United Express",
                                    "MarketingAirline": "United Airlines Group"
                                },
                                {
                                    "AirCarrier": "CommuteAir LLC",
                                    "CarrierBrand": "United Express",
                                    "MarketingAirline": "United Airlines Group"
                                },
                                {
                                    "AirCarrier": "Air Wisconsin Airlines Corp",
                                    "CarrierBrand": "United Express",
                                    "MarketingAirline": "United Airlines Group"
                                },
                                {
                                    "AirCarrier": "GoJet Airlines LLC",
                                    "CarrierBrand": "United Express",
                                    "MarketingAirline": "United Airlines Group"
                                }
                            ]
                        },
                        "text/html": [
                            "<table>",
                            "<tr><th>AirCarrier</th><th>CarrierBrand</th><th>MarketingAirline</th></tr>",
                            "<tr><td>Alaska Airlines</td><td>Alaska Airlines</td><td>Alaska Airlines Group</td></tr>",
                            "<tr><td>Horizon Air</td><td>Alaska Airlines</td><td>Alaska Airlines Group</td></tr>",
                            "<tr><td>Allegiant Air</td><td>Allegiant Air</td><td>Allegiant Air</td></tr>",
                            "<tr><td>American Airlines</td><td>American Airlines</td><td>American Airlines Group</td></tr>",
                            "<tr><td>Republic Airline</td><td>American Eagle</td><td>American Airlines Group</td></tr>",
                            "<tr><td>Envoy Air</td><td>American Eagle</td><td>American Airlines Group</td></tr>",
                            "<tr><td>PSA Airlines</td><td>American Eagle</td><td>American Airlines Group</td></tr>",
                            "<tr><td>Piedmont Airlines</td><td>American Eagle</td><td>American Airlines Group</td></tr>",
                            "<tr><td>Mesa Airlines Inc.</td><td>American Eagle</td><td>American Airlines Group</td></tr>",
                            "<tr><td>Delta Air Lines</td><td>Delta Air Lines</td><td>Delta Air Lines Group</td></tr>",
                            "<tr><td>SkyWest Airlines Inc.</td><td>Delta Connection</td><td>Delta Air Lines Group</td></tr>",
                            "<tr><td>Endeavor Air Inc.</td><td>Delta Connection</td><td>Delta Air Lines Group</td></tr>",
                            "<tr><td>Frontier Airlines</td><td>Frontier Airlines</td><td>Frontier Airlines</td></tr>",
                            "<tr><td>Hawaiian Airlines</td><td>Hawaiian Airlines</td><td>Hawaiian Airlines</td></tr>",
                            "<tr><td>JetBlue Airways</td><td>JetBlue Airways</td><td>JetBlue Airways</td></tr>",
                            "<tr><td>Southwest Airlines</td><td>Southwest Airlines</td><td>Southwest Airlines</td></tr>",
                            "<tr><td>Spirit Airlines</td><td>Spirit Airlines</td><td>Spirit Airlines</td></tr>",
                            "<tr><td>United Airlines</td><td>United Airlines</td><td>United Airlines Group</td></tr>",
                            "<tr><td>SkyWest Airlines Inc.</td><td>United Express</td><td>United Airlines Group</td></tr>",
                            "<tr><td>CommuteAir LLC</td><td>United Express</td><td>United Airlines Group</td></tr>",
                            "<tr><td>Air Wisconsin Airlines Corp</td><td>United Express</td><td>United Airlines Group</td></tr>",
                            "<tr><td>GoJet Airlines LLC</td><td>United Express</td><td>United Airlines Group</td></tr>",
                            "</table>"
                        ]
                    }
                }
            ],
            "execution_count": 9
        },
        {
            "cell_type": "markdown",
            "source": [
                "\r\n",
                "\r\n",
                ""
            ],
            "metadata": {
                "language": "sql",
                "azdata_cell_guid": "e25cc780-fa09-4187-b3e8-65ebe3ea122c"
            },
            "attachments": {}
        },
        {
            "cell_type": "markdown",
            "source": [
                "\r\n",
                "<!-- Section Container -->\r\n",
                "<div style=\"background-color: #f0f8ff; padding: 20px; border-radius: 8px; margin-bottom: 20px;\">\r\n",
                "\r\n",
                "<!-- Main Heading -->\r\n",
                "<h1 style=\"color: #004080; font-weight: bold; \r\n",
                "text-align: center; margin-top: 20px; font-size: 24px;\">\r\n",
                " On-Time Arrival Percentages by Airline Group<br>\r\n",
                "<em style=\"font-style: italic; font-family: 'Courier New', Courier, monospace;\">All US Airports(March 2024)</em>\r\n",
                "</h1>\r\n",
                ""
            ],
            "metadata": {
                "language": "sql",
                "azdata_cell_guid": "ba92da83-adce-4b4e-9f3e-89ff8d48da66"
            },
            "attachments": {}
        },
        {
            "cell_type": "code",
            "source": [
                "-- 4.  Bar Graph of Percentage of Average OnTime Arrivals to All US Airports by Marketing Airline Group\r\n",
                "\r\n",
                "\r\n",
                "-- QUERRY THE `AIRLINE METRICS` TABLE\r\n",
                "SELECT \r\n",
                "    MarketingAirline AS \"OnTime Flight Arrivals (%)\", \r\n",
                "    OnTimePercentage AS \"Marketing Airline Group\"\r\n",
                "FROM \r\n",
                "    FlightDelays.dbo.AirlineMetrics\r\n",
                "ORDER BY \r\n",
                "    OnTimePercentage DESC;\r\n",
                ""
            ],
            "metadata": {
                "language": "sql",
                "azdata_cell_guid": "06d28698-70c9-4386-8018-f97b65b0c5d4",
                "tags": [
                    "hide_input"
                ]
            },
            "outputs": [
                {
                    "output_type": "display_data",
                    "data": {
                        "text/html": "(10 rows affected)"
                    },
                    "metadata": {}
                },
                {
                    "output_type": "display_data",
                    "data": {
                        "text/html": "Total execution time: 00:00:00.007"
                    },
                    "metadata": {}
                },
                {
                    "output_type": "execute_result",
                    "metadata": {
                        "azdata_chartOptions": {
                            "type": "horizontalBar",
                            "dataDirection": "horizontal",
                            "columnsAsLabels": true,
                            "labelFirstColumn": true,
                            "legendPosition": "left",
                            "yAxisLabel": "",
                            "xAxisLabel": "Percentage OnTime Arrivals (March 2024)",
                            "xAxisMin": 60,
                            "xAxisMax": 90
                        }
                    },
                    "execution_count": 10,
                    "data": {
                        "application/vnd.dataresource+json": {
                            "schema": {
                                "fields": [
                                    {
                                        "name": "OnTime Flight Arrivals (%)"
                                    },
                                    {
                                        "name": "Marketing Airline Group"
                                    }
                                ]
                            },
                            "data": [
                                {
                                    "OnTime Flight Arrivals (%)": "Hawaiian Airlines",
                                    "Marketing Airline Group": "87.84"
                                },
                                {
                                    "OnTime Flight Arrivals (%)": "Delta Air Lines Group",
                                    "Marketing Airline Group": "84.15"
                                },
                                {
                                    "OnTime Flight Arrivals (%)": "United Airlines Group",
                                    "Marketing Airline Group": "82.92"
                                },
                                {
                                    "OnTime Flight Arrivals (%)": "Alaska Airlines Group",
                                    "Marketing Airline Group": "79.96"
                                },
                                {
                                    "OnTime Flight Arrivals (%)": "American Airlines Group",
                                    "Marketing Airline Group": "79.36"
                                },
                                {
                                    "OnTime Flight Arrivals (%)": "Southwest Airlines",
                                    "Marketing Airline Group": "77.67"
                                },
                                {
                                    "OnTime Flight Arrivals (%)": "Allegiant Air",
                                    "Marketing Airline Group": "76.67"
                                },
                                {
                                    "OnTime Flight Arrivals (%)": "Spirit Airlines",
                                    "Marketing Airline Group": "71.47"
                                },
                                {
                                    "OnTime Flight Arrivals (%)": "JetBlue Airways",
                                    "Marketing Airline Group": "70.11"
                                },
                                {
                                    "OnTime Flight Arrivals (%)": "Frontier Airlines",
                                    "Marketing Airline Group": "69.22"
                                }
                            ]
                        },
                        "text/html": [
                            "<table>",
                            "<tr><th>OnTime Flight Arrivals (%)</th><th>Marketing Airline Group</th></tr>",
                            "<tr><td>Hawaiian Airlines</td><td>87.84</td></tr>",
                            "<tr><td>Delta Air Lines Group</td><td>84.15</td></tr>",
                            "<tr><td>United Airlines Group</td><td>82.92</td></tr>",
                            "<tr><td>Alaska Airlines Group</td><td>79.96</td></tr>",
                            "<tr><td>American Airlines Group</td><td>79.36</td></tr>",
                            "<tr><td>Southwest Airlines</td><td>77.67</td></tr>",
                            "<tr><td>Allegiant Air</td><td>76.67</td></tr>",
                            "<tr><td>Spirit Airlines</td><td>71.47</td></tr>",
                            "<tr><td>JetBlue Airways</td><td>70.11</td></tr>",
                            "<tr><td>Frontier Airlines</td><td>69.22</td></tr>",
                            "</table>"
                        ]
                    }
                }
            ],
            "execution_count": 10
        },
        {
            "cell_type": "markdown",
            "source": [
                "<!-- Main Container for Analysis and Visualizations Heading -->\r\n",
                "<div style=\"background-color: #228B22; padding: 10px; border-radius: 8px; margin-bottom: 20px; text-align: center;\">\r\n",
                "<h2 style=\"color: #ffffff; font-weight: bold; font-size: 20px; margin: 0;\">B. Miami Metropolitan Area Airports (MIA, FLL, PBI)</h2>\r\n",
                "</div>\r\n",
                "\r\n",
                "<p style=\"color: #000000; font-size: 16px;\">\r\n",
                "This section focuses on the on-time performance of airlines operating in the Miami Metropolitan Area, comparing performance across major airports:\r\n",
                "</p>\r\n",
                "<ul style=\"color: #000000; font-size: 16px; list-style-type: disc; margin-left: 20px;\">\r\n",
                "<li>Fort Lauderdale-Hollywood International Airport (FLL)</li>\r\n",
                "<li>Miami International Airport (MIA)</li>\r\n",
                "<li>Palm Beach International Airport (PBI)</li>\r\n",
                "</ul>"
            ],
            "metadata": {
                "language": "sql",
                "azdata_cell_guid": "a83eb53e-6002-4aee-8f93-f3fde230503f"
            },
            "attachments": {}
        },
        {
            "cell_type": "markdown",
            "source": [
                "<!-- Section Container -->\r\n",
                "<div style=\"background-color: #f0f8ff; padding: 20px; border-radius: 8px; margin-bottom: 20px;\">\r\n",
                "\r\n",
                "<!-- Main Heading -->\r\n",
                "<h1 style=\"color: #004080; font-weight: bold; text-align: center; margin-top: 20px; font-size: 24px;\">\r\n",
                "    Total Flights, OnTime Flights, and Late Arrival Flights <br>  \r\n",
                "    <em style=\"font-style: italic; font-family: 'Courier New', Courier, monospace;\">By Miami Metropolitan Airports (MIA, FLL, PBI) <br>\r\n",
                "    <em style=\"font-style: italic; font-family: 'Courier New', Courier, monospace;\">\r\n",
                "       (March 2024)\r\n",
                "    </em>\r\n",
                "</h1>\r\n",
                "</div>\r\n",
                ""
            ],
            "metadata": {
                "language": "sql",
                "azdata_cell_guid": "2337e27c-2aba-4c79-8d7c-8508401411dc"
            },
            "attachments": {}
        },
        {
            "cell_type": "code",
            "source": [
                "-- 6.  Bar Graph Total,  OnTime, and Late Arrivals to Miami Metropolitan  Airports by Marketing Airline Group\r\n",
                "\r\n",
                "-- CALCULATE ON-TIME AND DELAYED FLIGHTS BY AIRPORT FOR THE MIAMI METROPOLITAN AREA'\r\n",
                "\r\n",
                "SELECT \r\n",
                "    -- Select the airport code\r\n",
                "    f.AirportCode AS Airport,\r\n",
                "\r\n",
                "    -- Calculate total flights\r\n",
                "    SUM(f.Count_Arrivals) AS TotalFlights,\r\n",
                "\r\n",
                "    -- Calculate on-time flights\r\n",
                "    SUM(f.Count_Arrivals - f.Count_ArrFlights_Delayed15PlusMin) AS OnTimeFlights,\r\n",
                "\r\n",
                "    -- Calculate delayed flights\r\n",
                "    SUM(f.Count_ArrFlights_Delayed15PlusMin) AS DelayedFlights\r\n",
                "FROM \r\n",
                "    FlightDelays.dbo.Flights f\r\n",
                "\r\n",
                "WHERE \r\n",
                "    -- Filter for Miami metropolitan area airports\r\n",
                "    f.AirportCode IN ('MIA', 'FLL', 'PBI') -- Miami, Fort Lauderdale, Palm Beach\r\n",
                "\r\n",
                "GROUP BY \r\n",
                "    -- Group by airport code (('MIA', 'FLL', 'PBI')\r\n",
                "    f.AirportCode\r\n",
                "\r\n",
                "ORDER BY \r\n",
                "    -- Order by total flights in descending order\r\n",
                "    SUM(f.Count_Arrivals) DESC;\r\n",
                ""
            ],
            "metadata": {
                "azdata_cell_guid": "f671085b-a802-497c-98e6-dc905b5f995b",
                "language": "sql",
                "tags": [
                    "hide_input"
                ]
            },
            "outputs": [
                {
                    "output_type": "display_data",
                    "data": {
                        "text/html": "(3 rows affected)"
                    },
                    "metadata": {}
                },
                {
                    "output_type": "display_data",
                    "data": {
                        "text/html": "Total execution time: 00:00:00.006"
                    },
                    "metadata": {}
                },
                {
                    "output_type": "execute_result",
                    "metadata": {
                        "azdata_chartOptions": {
                            "type": "bar",
                            "dataDirection": "horizontal",
                            "columnsAsLabels": true,
                            "labelFirstColumn": true,
                            "legendPosition": "top",
                            "yAxisLabel": "Flights in March 2024"
                        }
                    },
                    "execution_count": 11,
                    "data": {
                        "application/vnd.dataresource+json": {
                            "schema": {
                                "fields": [
                                    {
                                        "name": "Airport"
                                    },
                                    {
                                        "name": "TotalFlights"
                                    },
                                    {
                                        "name": "OnTimeFlights"
                                    },
                                    {
                                        "name": "DelayedFlights"
                                    }
                                ]
                            },
                            "data": [
                                {
                                    "Airport": "MIA",
                                    "TotalFlights": "10524",
                                    "OnTimeFlights": "7558",
                                    "DelayedFlights": "2966"
                                },
                                {
                                    "Airport": "FLL",
                                    "TotalFlights": "9232",
                                    "OnTimeFlights": "6268",
                                    "DelayedFlights": "2964"
                                },
                                {
                                    "Airport": "PBI",
                                    "TotalFlights": "3164",
                                    "OnTimeFlights": "2240",
                                    "DelayedFlights": "924"
                                }
                            ]
                        },
                        "text/html": [
                            "<table>",
                            "<tr><th>Airport</th><th>TotalFlights</th><th>OnTimeFlights</th><th>DelayedFlights</th></tr>",
                            "<tr><td>MIA</td><td>10524</td><td>7558</td><td>2966</td></tr>",
                            "<tr><td>FLL</td><td>9232</td><td>6268</td><td>2964</td></tr>",
                            "<tr><td>PBI</td><td>3164</td><td>2240</td><td>924</td></tr>",
                            "</table>"
                        ]
                    }
                }
            ],
            "execution_count": 11
        },
        {
            "cell_type": "markdown",
            "source": [
                "\r\n",
                "<!-- Section Container -->\r\n",
                "<div style=\"background-color: #f0f8ff; padding: 20px; border-radius: 8px; margin-bottom: 20px;\">\r\n",
                "\r\n",
                "<!-- Main Heading -->\r\n",
                "<h1 style=\"color: #004080; font-weight: bold; \r\n",
                "text-align: center; margin-top: 20px; font-size: 24px;\">\r\n",
                " On-Time Arrival Percentages by Airline Group<br>\r\n",
                "<em style=\"font-style: italic; font-family: 'Courier New', Courier, monospace;\">Miami Metropolitan Airports (MIA, FLL, PBI) <br> \r\n",
                "(March 2024)</em>\r\n",
                "</h1>\r\n",
                "\r\n",
                ""
            ],
            "metadata": {
                "azdata_cell_guid": "4f58de46-678f-4029-b202-b7a5be01f9b8"
            },
            "attachments": {}
        },
        {
            "cell_type": "code",
            "source": [
                "-- 7.  Bar Graph of Percentage of Average OnTime Arrivals to Miami Metropolitan  Airports by Marketing Airline Group\r\n",
                "\r\n",
                "SELECT \r\n",
                "    aa.MarketingAirline AS \"Marketing Airline Group\", \r\n",
                "    am.OnTimePercentage AS \"OnTime Flight Arrivals (%)\"\r\n",
                "\r\n",
                "-- Join the three tables as AirlineMetrics does not have a common key with Flights (for airport code)\r\n",
                "FROM \r\n",
                "    FlightDelays.dbo.AirlineMetrics am\r\n",
                "JOIN \r\n",
                "    FlightDelays.dbo.AirlineAssociations aa \r\n",
                "        ON am.MarketingAirline = aa.MarketingAirline\r\n",
                "JOIN \r\n",
                "    FlightDelays.dbo.Flights f \r\n",
                "        ON aa.AirlineCode = f.AirlineCode\r\n",
                "-- Filter \r\n",
                "WHERE \r\n",
                "    f.AirportCode IN ('MIA', 'FLL', 'PBI') -- Miami, Fort Lauderdale, Palm Beach\r\n",
                "    \r\n",
                "-- Group by marketing airline from Airline Associations and ontime percentage from Calculations Table\r\n",
                "GROUP BY \r\n",
                "    aa.MarketingAirline, \r\n",
                "    am.OnTimePercentage\r\n",
                "-- Order results by percentage of Arrival Performance descending\r\n",
                "ORDER BY \r\n",
                "    am.OnTimePercentage DESC;\r\n",
                "\r\n",
                ""
            ],
            "metadata": {
                "azdata_cell_guid": "2821a885-4198-4afe-ac54-89c2f69f85b9",
                "language": "sql",
                "tags": [
                    "hide_input"
                ]
            },
            "outputs": [
                {
                    "output_type": "display_data",
                    "data": {
                        "text/html": "(9 rows affected)"
                    },
                    "metadata": {}
                },
                {
                    "output_type": "display_data",
                    "data": {
                        "text/html": "Total execution time: 00:00:00.017"
                    },
                    "metadata": {}
                },
                {
                    "output_type": "execute_result",
                    "metadata": {
                        "azdata_chartOptions": {
                            "type": "horizontalBar",
                            "dataDirection": "horizontal",
                            "columnsAsLabels": true,
                            "labelFirstColumn": true,
                            "legendPosition": "left",
                            "xAxisLabel": "Percentage OnTime Arrivals (March 2024)",
                            "xAxisMin": 60,
                            "xAxisMax": 90
                        }
                    },
                    "execution_count": 12,
                    "data": {
                        "application/vnd.dataresource+json": {
                            "schema": {
                                "fields": [
                                    {
                                        "name": "Marketing Airline Group"
                                    },
                                    {
                                        "name": "OnTime Flight Arrivals (%)"
                                    }
                                ]
                            },
                            "data": [
                                {
                                    "Marketing Airline Group": "Delta Air Lines Group",
                                    "OnTime Flight Arrivals (%)": "84.15"
                                },
                                {
                                    "Marketing Airline Group": "United Airlines Group",
                                    "OnTime Flight Arrivals (%)": "82.92"
                                },
                                {
                                    "Marketing Airline Group": "Alaska Airlines Group",
                                    "OnTime Flight Arrivals (%)": "79.96"
                                },
                                {
                                    "Marketing Airline Group": "American Airlines Group",
                                    "OnTime Flight Arrivals (%)": "79.36"
                                },
                                {
                                    "Marketing Airline Group": "Southwest Airlines",
                                    "OnTime Flight Arrivals (%)": "77.67"
                                },
                                {
                                    "Marketing Airline Group": "Allegiant Air",
                                    "OnTime Flight Arrivals (%)": "76.67"
                                },
                                {
                                    "Marketing Airline Group": "Spirit Airlines",
                                    "OnTime Flight Arrivals (%)": "71.47"
                                },
                                {
                                    "Marketing Airline Group": "JetBlue Airways",
                                    "OnTime Flight Arrivals (%)": "70.11"
                                },
                                {
                                    "Marketing Airline Group": "Frontier Airlines",
                                    "OnTime Flight Arrivals (%)": "69.22"
                                }
                            ]
                        },
                        "text/html": [
                            "<table>",
                            "<tr><th>Marketing Airline Group</th><th>OnTime Flight Arrivals (%)</th></tr>",
                            "<tr><td>Delta Air Lines Group</td><td>84.15</td></tr>",
                            "<tr><td>United Airlines Group</td><td>82.92</td></tr>",
                            "<tr><td>Alaska Airlines Group</td><td>79.96</td></tr>",
                            "<tr><td>American Airlines Group</td><td>79.36</td></tr>",
                            "<tr><td>Southwest Airlines</td><td>77.67</td></tr>",
                            "<tr><td>Allegiant Air</td><td>76.67</td></tr>",
                            "<tr><td>Spirit Airlines</td><td>71.47</td></tr>",
                            "<tr><td>JetBlue Airways</td><td>70.11</td></tr>",
                            "<tr><td>Frontier Airlines</td><td>69.22</td></tr>",
                            "</table>"
                        ]
                    }
                }
            ],
            "execution_count": 12
        },
        {
            "cell_type": "markdown",
            "source": [
                "<!-- Main Container for Analysis and Visualizations Heading -->\r\n",
                "<div style=\"background-color: #228B22; padding: 10px; border-radius: 8px; margin-bottom: 20px; text-align: center;\">\r\n",
                "<h2 style=\"color: #ffffff; font-weight: bold; font-size: 20px; margin: 0;\">C.  Miami International Airport (MIA)</h2>\r\n",
                "</div>\r\n",
                "\r\n",
                "\r\n",
                "<p style=\"color: #000000; font-size: 16px;\">\r\n",
                "This section focuses on the on-time performance of airlines operating specifically at Miami International Airport.\r\n",
                "</p>\r\n",
                "\r\n",
                ""
            ],
            "metadata": {
                "azdata_cell_guid": "4b99cd6a-719c-4423-b12c-a6887eecc1fe"
            },
            "attachments": {}
        },
        {
            "cell_type": "markdown",
            "source": [
                "`\r\n",
                "<!-- Section Container -->\r\n",
                "<div style=\"background-color: #f0f8ff; padding: 20px; border-radius: 8px; margin-bottom: 20px;\">\r\n",
                "\r\n",
                "<!-- Main Heading -->\r\n",
                "<h1 style=\"color: #004080; font-weight: bold; \r\n",
                "text-align: center; margin-top: 20px; font-size: 24px;\">\r\n",
                "Arriving Flights into Miami International Airport By Individual Air Carrier <br>\r\n",
                " <em style=\"font-style: italic; font-family: 'Courier New', Courier, monospace;\">Total &  Average Per Day <br> (March 2024)</em>\r\n",
                "</h1>\r\n",
                "`\r\n",
                "`"
            ],
            "metadata": {
                "language": "sql",
                "azdata_cell_guid": "b74c8d66-9063-4210-9295-c65b245418cf"
            },
            "attachments": {}
        },
        {
            "cell_type": "code",
            "source": [
                "-- 9.  Table of Total Flights by Air Carrier (March 2024)\r\n",
                "\r\n",
                "WITH CarrierTotals AS (\r\n",
                "    SELECT \r\n",
                "        aa.MarketingAirline AS Airline,\r\n",
                "        aa.CarrierBrand AS 'Carrier Brand',\r\n",
                "        f.AirlineName AS 'Air Carrier',\r\n",
                "        SUM(f.Count_Arrivals) AS 'Total Arrivals',\r\n",
                "        ROUND(SUM(f.Count_Arrivals) / 31.0, 0) AS 'Average Per Day'\r\n",
                "    FROM \r\n",
                "        FlightDelays.dbo.Flights f\r\n",
                "    JOIN \r\n",
                "        FlightDelays.dbo.AirlineAssociations aa \r\n",
                "        ON f.AirlineCode = aa.AirlineCode\r\n",
                "    WHERE \r\n",
                "        f.AirportCode = 'MIA'\r\n",
                "    GROUP BY \r\n",
                "        aa.MarketingAirline, \r\n",
                "        aa.CarrierBrand, \r\n",
                "        f.AirlineName\r\n",
                ")\r\n",
                "SELECT \r\n",
                "    Airline,\r\n",
                "    [Carrier Brand],\r\n",
                "    [Air Carrier],\r\n",
                "    FORMAT([Total Arrivals], 'N0') AS [Total Arrivals],\r\n",
                "    FORMAT([Average Per Day], 'N0') AS [Average Per Day]\r\n",
                "FROM \r\n",
                "    CarrierTotals\r\n",
                "ORDER BY \r\n",
                "     Airline,\r\n",
                "    [Total Arrivals] DESC,\r\n",
                "    [Carrier Brand];\r\n",
                ""
            ],
            "metadata": {
                "language": "sql",
                "azdata_cell_guid": "6354b226-cf3a-4136-8cb2-cfc331cca885",
                "tags": [
                    "hide_input"
                ]
            },
            "outputs": [
                {
                    "output_type": "display_data",
                    "data": {
                        "text/html": "(10 rows affected)"
                    },
                    "metadata": {}
                },
                {
                    "output_type": "display_data",
                    "data": {
                        "text/html": "Total execution time: 00:00:00.009"
                    },
                    "metadata": {}
                },
                {
                    "output_type": "execute_result",
                    "metadata": {},
                    "execution_count": 13,
                    "data": {
                        "application/vnd.dataresource+json": {
                            "schema": {
                                "fields": [
                                    {
                                        "name": "Airline"
                                    },
                                    {
                                        "name": "Carrier Brand"
                                    },
                                    {
                                        "name": "Air Carrier"
                                    },
                                    {
                                        "name": "Total Arrivals"
                                    },
                                    {
                                        "name": "Average Per Day"
                                    }
                                ]
                            },
                            "data": [
                                {
                                    "Airline": "Alaska Airlines Group",
                                    "Carrier Brand": "Alaska Airlines",
                                    "Air Carrier": "Alaska Airlines",
                                    "Total Arrivals": "62",
                                    "Average Per Day": "2"
                                },
                                {
                                    "Airline": "American Airlines Group",
                                    "Carrier Brand": "American Eagle",
                                    "Air Carrier": "Republic Airline (American Airlines)",
                                    "Total Arrivals": "93",
                                    "Average Per Day": "3"
                                },
                                {
                                    "Airline": "American Airlines Group",
                                    "Carrier Brand": "American Airlines",
                                    "Air Carrier": "American Airlines",
                                    "Total Arrivals": "5,235",
                                    "Average Per Day": "169"
                                },
                                {
                                    "Airline": "American Airlines Group",
                                    "Carrier Brand": "American Eagle",
                                    "Air Carrier": "Envoy Air (American Airlines)",
                                    "Total Arrivals": "1,386",
                                    "Average Per Day": "45"
                                },
                                {
                                    "Airline": "Delta Air Lines Group",
                                    "Carrier Brand": "Delta Air Lines",
                                    "Air Carrier": "Delta Air Lines",
                                    "Total Arrivals": "1,036",
                                    "Average Per Day": "33"
                                },
                                {
                                    "Airline": "Frontier Airlines",
                                    "Carrier Brand": "Frontier Airlines",
                                    "Air Carrier": "Frontier Airlines",
                                    "Total Arrivals": "394",
                                    "Average Per Day": "13"
                                },
                                {
                                    "Airline": "JetBlue Airways",
                                    "Carrier Brand": "JetBlue Airways",
                                    "Air Carrier": "JetBlue Airways",
                                    "Total Arrivals": "253",
                                    "Average Per Day": "8"
                                },
                                {
                                    "Airline": "Southwest Airlines",
                                    "Carrier Brand": "Southwest Airlines",
                                    "Air Carrier": "Southwest Airlines",
                                    "Total Arrivals": "690",
                                    "Average Per Day": "22"
                                },
                                {
                                    "Airline": "Spirit Airlines",
                                    "Carrier Brand": "Spirit Airlines",
                                    "Air Carrier": "Spirit Airlines",
                                    "Total Arrivals": "667",
                                    "Average Per Day": "22"
                                },
                                {
                                    "Airline": "United Airlines Group",
                                    "Carrier Brand": "United Airlines",
                                    "Air Carrier": "United Air Lines",
                                    "Total Arrivals": "708",
                                    "Average Per Day": "23"
                                }
                            ]
                        },
                        "text/html": [
                            "<table>",
                            "<tr><th>Airline</th><th>Carrier Brand</th><th>Air Carrier</th><th>Total Arrivals</th><th>Average Per Day</th></tr>",
                            "<tr><td>Alaska Airlines Group</td><td>Alaska Airlines</td><td>Alaska Airlines</td><td>62</td><td>2</td></tr>",
                            "<tr><td>American Airlines Group</td><td>American Eagle</td><td>Republic Airline (American Airlines)</td><td>93</td><td>3</td></tr>",
                            "<tr><td>American Airlines Group</td><td>American Airlines</td><td>American Airlines</td><td>5,235</td><td>169</td></tr>",
                            "<tr><td>American Airlines Group</td><td>American Eagle</td><td>Envoy Air (American Airlines)</td><td>1,386</td><td>45</td></tr>",
                            "<tr><td>Delta Air Lines Group</td><td>Delta Air Lines</td><td>Delta Air Lines</td><td>1,036</td><td>33</td></tr>",
                            "<tr><td>Frontier Airlines</td><td>Frontier Airlines</td><td>Frontier Airlines</td><td>394</td><td>13</td></tr>",
                            "<tr><td>JetBlue Airways</td><td>JetBlue Airways</td><td>JetBlue Airways</td><td>253</td><td>8</td></tr>",
                            "<tr><td>Southwest Airlines</td><td>Southwest Airlines</td><td>Southwest Airlines</td><td>690</td><td>22</td></tr>",
                            "<tr><td>Spirit Airlines</td><td>Spirit Airlines</td><td>Spirit Airlines</td><td>667</td><td>22</td></tr>",
                            "<tr><td>United Airlines Group</td><td>United Airlines</td><td>United Air Lines</td><td>708</td><td>23</td></tr>",
                            "</table>"
                        ]
                    }
                }
            ],
            "execution_count": 13
        },
        {
            "cell_type": "markdown",
            "source": [
                "`\r\n",
                "<!-- Section Container -->\r\n",
                "<div style=\"background-color: #f0f8ff; padding: 20px; border-radius: 8px; margin-bottom: 20px;\">\r\n",
                "\r\n",
                "<!-- Main Heading -->\r\n",
                "<h1 style=\"color: #004080; font-weight: bold; \r\n",
                "text-align: center; margin-top: 20px; font-size: 24px;\">\r\n",
                "Volume Proportons of Arriving Flights into MIA By Airline Group <br>\r\n",
                " <em style=\"font-style: italic; font-family: 'Courier New', Courier, monospace;\">Total, Average Per Day, Proportion of Total Flights <br> (March 2024)</em>\r\n",
                "</h1>\r\n",
                "`"
            ],
            "metadata": {
                "language": "sql",
                "azdata_cell_guid": "e4656530-e9ef-423e-9107-c0bf643402be"
            },
            "attachments": {}
        },
        {
            "cell_type": "code",
            "source": [
                "--8.  Donut Chart of Total Arrival Flights to MIA with Average Per Day and Proportion by Major Carrier (March 2024)\r\n",
                "\r\n",
                "WITH TotalFlights AS (\r\n",
                "    SELECT \r\n",
                "        -- Select major carrier\r\n",
                "        aa.MarketingAirline AS MajorCarrier,\r\n",
                "        \r\n",
                "        -- Calculate total flights to MIA for each major carrier\r\n",
                "        SUM(f.Count_Arrivals) AS TotalFlights,\r\n",
                "        \r\n",
                "        -- Calculate the proportion of total flights to MIA for each major carrier\r\n",
                "        ROUND((SUM(f.Count_Arrivals) * 100.0 / (SELECT SUM(Count_Arrivals) FROM FlightDelays.dbo.Flights WHERE AirportCode = 'MIA')), 2) AS Proportion,\r\n",
                "        \r\n",
                "        -- Calculate the average per day for each major carrier\r\n",
                "        ROUND(SUM(f.Count_Arrivals) / 31.0, 0) AS AveragePerDay\r\n",
                "    FROM \r\n",
                "        FlightDelays.dbo.Flights f\r\n",
                "    JOIN \r\n",
                "        FlightDelays.dbo.AirlineAssociations aa \r\n",
                "        ON f.AirlineCode = aa.AirlineCode\r\n",
                "    WHERE \r\n",
                "        -- Filter for Miami International Airport (MIA)\r\n",
                "        f.AirportCode = 'MIA'\r\n",
                "    GROUP BY \r\n",
                "        -- Group by major carrier\r\n",
                "        aa.MarketingAirline\r\n",
                ")\r\n",
                "SELECT \r\n",
                "    MajorCarrier,\r\n",
                "    TotalFlights,\r\n",
                "    AveragePerDay,\r\n",
                "    Proportion\r\n",
                "\r\n",
                "FROM \r\n",
                "    TotalFlights\r\n",
                "ORDER BY \r\n",
                "    -- Order by total flights in descending order\r\n",
                "    TotalFlights DESC;\r\n",
                ""
            ],
            "metadata": {
                "language": "sql",
                "azdata_cell_guid": "cb32952f-703c-461d-b844-91158bd53bb3",
                "tags": [
                    "hide_input"
                ]
            },
            "outputs": [
                {
                    "output_type": "display_data",
                    "data": {
                        "text/html": "(8 rows affected)"
                    },
                    "metadata": {}
                },
                {
                    "output_type": "display_data",
                    "data": {
                        "text/html": "Total execution time: 00:00:00.008"
                    },
                    "metadata": {}
                },
                {
                    "output_type": "execute_result",
                    "metadata": {
                        "azdata_chartOptions": {
                            "type": "doughnut",
                            "dataDirection": "vertical",
                            "columnsAsLabels": true,
                            "labelFirstColumn": true,
                            "legendPosition": "left"
                        }
                    },
                    "execution_count": 14,
                    "data": {
                        "application/vnd.dataresource+json": {
                            "schema": {
                                "fields": [
                                    {
                                        "name": "MajorCarrier"
                                    },
                                    {
                                        "name": "TotalFlights"
                                    },
                                    {
                                        "name": "AveragePerDay"
                                    },
                                    {
                                        "name": "Proportion"
                                    }
                                ]
                            },
                            "data": [
                                {
                                    "MajorCarrier": "American Airlines Group",
                                    "TotalFlights": "6714",
                                    "AveragePerDay": "217",
                                    "Proportion": "63.8"
                                },
                                {
                                    "MajorCarrier": "Delta Air Lines Group",
                                    "TotalFlights": "1036",
                                    "AveragePerDay": "33",
                                    "Proportion": "9.84"
                                },
                                {
                                    "MajorCarrier": "United Airlines Group",
                                    "TotalFlights": "708",
                                    "AveragePerDay": "23",
                                    "Proportion": "6.73"
                                },
                                {
                                    "MajorCarrier": "Southwest Airlines",
                                    "TotalFlights": "690",
                                    "AveragePerDay": "22",
                                    "Proportion": "6.56"
                                },
                                {
                                    "MajorCarrier": "Spirit Airlines",
                                    "TotalFlights": "667",
                                    "AveragePerDay": "22",
                                    "Proportion": "6.34"
                                },
                                {
                                    "MajorCarrier": "Frontier Airlines",
                                    "TotalFlights": "394",
                                    "AveragePerDay": "13",
                                    "Proportion": "3.74"
                                },
                                {
                                    "MajorCarrier": "JetBlue Airways",
                                    "TotalFlights": "253",
                                    "AveragePerDay": "8",
                                    "Proportion": "2.4"
                                },
                                {
                                    "MajorCarrier": "Alaska Airlines Group",
                                    "TotalFlights": "62",
                                    "AveragePerDay": "2",
                                    "Proportion": "0.59"
                                }
                            ]
                        },
                        "text/html": [
                            "<table>",
                            "<tr><th>MajorCarrier</th><th>TotalFlights</th><th>AveragePerDay</th><th>Proportion</th></tr>",
                            "<tr><td>American Airlines Group</td><td>6714</td><td>217</td><td>63.8</td></tr>",
                            "<tr><td>Delta Air Lines Group</td><td>1036</td><td>33</td><td>9.84</td></tr>",
                            "<tr><td>United Airlines Group</td><td>708</td><td>23</td><td>6.73</td></tr>",
                            "<tr><td>Southwest Airlines</td><td>690</td><td>22</td><td>6.56</td></tr>",
                            "<tr><td>Spirit Airlines</td><td>667</td><td>22</td><td>6.34</td></tr>",
                            "<tr><td>Frontier Airlines</td><td>394</td><td>13</td><td>3.74</td></tr>",
                            "<tr><td>JetBlue Airways</td><td>253</td><td>8</td><td>2.4</td></tr>",
                            "<tr><td>Alaska Airlines Group</td><td>62</td><td>2</td><td>0.59</td></tr>",
                            "</table>"
                        ]
                    }
                }
            ],
            "execution_count": 14
        },
        {
            "cell_type": "markdown",
            "source": [
                "`<!-- Section Container -->\r\n",
                "<div style=\"background-color: #f0f8ff; padding: 20px; border-radius: 8px; margin-bottom: 20px;\">\r\n",
                "\r\n",
                "<!-- Main Heading -->\r\n",
                "<h1 style=\"color: #004080; font-weight: bold; text-align: center; margin-top: 20px; font-size: 24px;\">\r\n",
                "    On-Time Arrival Percentages by Airline<br>\r\n",
                "    <em style=\"font-style: italic; font-family: 'Courier New', Courier, monospace;\">\r\n",
                "        MIA - Miami International Airport<br>(March 2024)\r\n",
                "    </em>\r\n",
                "</h1>\r\n",
                "</div>\r\n",
                ""
            ],
            "metadata": {
                "language": "sql",
                "azdata_cell_guid": "6ed9e69d-a5a1-4d3f-ace4-c20b08dc21e3"
            },
            "attachments": {}
        },
        {
            "cell_type": "code",
            "source": [
                "-- 10. Bar Graph of OnTime Arrivals by Airlines to MIA (March 2024)\r\n",
                "\r\n",
                "-- CALCULATE ON-TIME PERCENTAGE BY MARKETING AIRLINE FOR MIAMI INTERNATIONAL AIRPORT\r\n",
                "\r\n",
                "SELECT \r\n",
                "    -- Select marketing airline\r\n",
                "    aa.MarketingAirline,\r\n",
                "\r\n",
                "    -- Calculate and format the on-time percentage\r\n",
                "    CAST(\r\n",
                "        (\r\n",
                "            /* Calculate on-time flights percentage */\r\n",
                "            SUM(f.Count_Arrivals - f.Count_ArrFlights_Delayed15PlusMin) * 100.0 \r\n",
                "            / \r\n",
                "            /* Calculate total arrivals */\r\n",
                "            SUM(f.Count_Arrivals)\r\n",
                "        ) \r\n",
                "        /* Convert to a decimal with 5 total digits and 2 decimal places */\r\n",
                "        AS DECIMAL(5, 2)\r\n",
                "    ) AS \"Airline\"\r\n",
                "FROM \r\n",
                "    FlightDelays.dbo.Flights f\r\n",
                "\r\n",
                "JOIN \r\n",
                "    FlightDelays.dbo.AirlineAssociations aa \r\n",
                "    ON f.AirlineCode = aa.AirlineCode\r\n",
                "\r\n",
                "WHERE \r\n",
                "    -- Filter for Miami International Airport (MIA)\r\n",
                "    f.AirportCode = 'MIA'\r\n",
                "\r\n",
                "GROUP BY \r\n",
                "    -- Group by marketing airline\r\n",
                "    aa.MarketingAirline\r\n",
                "\r\n",
                "ORDER BY \r\n",
                "    -- Order by on-time percentage in descending order\r\n",
                "    \"Airline\" DESC;\r\n",
                "\r\n",
                ""
            ],
            "metadata": {
                "azdata_cell_guid": "15031771-f21c-4b5b-b760-98f42bbe4765",
                "language": "sql",
                "tags": [
                    "hide_input"
                ]
            },
            "outputs": [
                {
                    "output_type": "display_data",
                    "data": {
                        "text/html": "(8 rows affected)"
                    },
                    "metadata": {}
                },
                {
                    "output_type": "display_data",
                    "data": {
                        "text/html": "Total execution time: 00:00:00.005"
                    },
                    "metadata": {}
                },
                {
                    "output_type": "execute_result",
                    "metadata": {
                        "azdata_chartOptions": {
                            "type": "horizontalBar",
                            "dataDirection": "horizontal",
                            "columnsAsLabels": true,
                            "labelFirstColumn": true,
                            "legendPosition": "left",
                            "xAxisMin": 60,
                            "xAxisMax": 80
                        }
                    },
                    "execution_count": 15,
                    "data": {
                        "application/vnd.dataresource+json": {
                            "schema": {
                                "fields": [
                                    {
                                        "name": "MarketingAirline"
                                    },
                                    {
                                        "name": "Airline"
                                    }
                                ]
                            },
                            "data": [
                                {
                                    "MarketingAirline": "American Airlines Group",
                                    "Airline": "74.07"
                                },
                                {
                                    "MarketingAirline": "Delta Air Lines Group",
                                    "Airline": "70.27"
                                },
                                {
                                    "MarketingAirline": "Southwest Airlines",
                                    "Airline": "68.84"
                                },
                                {
                                    "MarketingAirline": "United Airlines Group",
                                    "Airline": "68.08"
                                },
                                {
                                    "MarketingAirline": "Spirit Airlines",
                                    "Airline": "67.17"
                                },
                                {
                                    "MarketingAirline": "JetBlue Airways",
                                    "Airline": "66.01"
                                },
                                {
                                    "MarketingAirline": "Frontier Airlines",
                                    "Airline": "62.69"
                                },
                                {
                                    "MarketingAirline": "Alaska Airlines Group",
                                    "Airline": "61.29"
                                }
                            ]
                        },
                        "text/html": [
                            "<table>",
                            "<tr><th>MarketingAirline</th><th>Airline</th></tr>",
                            "<tr><td>American Airlines Group</td><td>74.07</td></tr>",
                            "<tr><td>Delta Air Lines Group</td><td>70.27</td></tr>",
                            "<tr><td>Southwest Airlines</td><td>68.84</td></tr>",
                            "<tr><td>United Airlines Group</td><td>68.08</td></tr>",
                            "<tr><td>Spirit Airlines</td><td>67.17</td></tr>",
                            "<tr><td>JetBlue Airways</td><td>66.01</td></tr>",
                            "<tr><td>Frontier Airlines</td><td>62.69</td></tr>",
                            "<tr><td>Alaska Airlines Group</td><td>61.29</td></tr>",
                            "</table>"
                        ]
                    }
                }
            ],
            "execution_count": 15
        },
        {
            "cell_type": "markdown",
            "source": [
                "`<!-- Section Container -->\r\n",
                "<div style=\"background-color: #f0f8ff; padding: 20px; border-radius: 8px; margin-bottom: 20px;\">\r\n",
                "\r\n",
                "<!-- Main Heading -->\r\n",
                "<h1 style=\"color: #004080; font-weight: bold; text-align: center; margin-top: 20px; font-size: 24px;\">\r\n",
                "    On-Time Arrival Percentages by Air Carrier<br>\r\n",
                "    <em style=\"font-style: italic; font-family: 'Courier New', Courier, monospace;\">\r\n",
                "        MIA - Miami International Airport<br>(March 2024)\r\n",
                "    </em>\r\n",
                "</h1>\r\n",
                "</div>\r\n",
                ""
            ],
            "metadata": {
                "language": "sql",
                "azdata_cell_guid": "d2cbdb29-a1ff-4af7-9eb7-29f3a320f2d1"
            },
            "attachments": {}
        },
        {
            "cell_type": "code",
            "source": [
                "-- Table of Total Flights Miami Airport and Average Per Day by Air Carrier (March 2024)\r\n",
                "\r\n",
                "-- CALCULATE ON-TIME PERCENTAGE BY CARRIER FOR MIAMI INTERNATIONAL AIRPORT\r\n",
                "\r\n",
                "SELECT \r\n",
                "    -- Select air carrier\r\n",
                "    f.AirlineName AS 'Air Carrier',\r\n",
                "\r\n",
                "    -- Calculate and format the on-time percentage\r\n",
                "    CAST(\r\n",
                "        (\r\n",
                "            /* Calculate on-time flights percentage */\r\n",
                "            SUM(f.Count_Arrivals - f.Count_ArrFlights_Delayed15PlusMin) * 100.0 \r\n",
                "            / \r\n",
                "            /* Calculate total arrivals */\r\n",
                "            SUM(f.Count_Arrivals)\r\n",
                "        ) \r\n",
                "        /* Convert to a decimal with 5 total digits and 2 decimal places */\r\n",
                "        AS DECIMAL(5, 2)\r\n",
                "    ) AS \"Individual Air Carrier\"\r\n",
                "FROM \r\n",
                "    FlightDelays.dbo.Flights f\r\n",
                "\r\n",
                "JOIN \r\n",
                "    FlightDelays.dbo.AirlineAssociations aa \r\n",
                "    ON f.AirlineCode = aa.AirlineCode\r\n",
                "\r\n",
                "WHERE \r\n",
                "    -- Filter for Miami International Airport (MIA)\r\n",
                "    f.AirportCode = 'MIA'\r\n",
                "\r\n",
                "GROUP BY \r\n",
                "    -- Group by marketing airline and air carrier\r\n",
                "    aa.MarketingAirline, f.AirlineName\r\n",
                "\r\n",
                "ORDER BY \r\n",
                "    -- Order by marketing airline and on-time percentage in descending order\r\n",
                "    aa.MarketingAirline, \"Individual Air Carrier\" DESC;\r\n",
                "\r\n",
                ""
            ],
            "metadata": {
                "language": "sql",
                "azdata_cell_guid": "4e271d6f-b6e3-4746-a01a-721bb2aad427",
                "tags": []
            },
            "outputs": [
                {
                    "output_type": "display_data",
                    "data": {
                        "text/html": "(10 rows affected)"
                    },
                    "metadata": {}
                },
                {
                    "output_type": "display_data",
                    "data": {
                        "text/html": "Total execution time: 00:00:00.010"
                    },
                    "metadata": {}
                },
                {
                    "output_type": "execute_result",
                    "metadata": {
                        "azdata_chartOptions": {
                            "type": "horizontalBar",
                            "dataDirection": "horizontal",
                            "columnsAsLabels": true,
                            "labelFirstColumn": true,
                            "legendPosition": "left",
                            "xAxisMin": 60
                        }
                    },
                    "execution_count": 16,
                    "data": {
                        "application/vnd.dataresource+json": {
                            "schema": {
                                "fields": [
                                    {
                                        "name": "Air Carrier"
                                    },
                                    {
                                        "name": "Individual Air Carrier"
                                    }
                                ]
                            },
                            "data": [
                                {
                                    "Air Carrier": "Alaska Airlines",
                                    "Individual Air Carrier": "61.29"
                                },
                                {
                                    "Air Carrier": "Envoy Air (American Airlines)",
                                    "Individual Air Carrier": "76.98"
                                },
                                {
                                    "Air Carrier": "American Airlines",
                                    "Individual Air Carrier": "73.39"
                                },
                                {
                                    "Air Carrier": "Republic Airline (American Airlines)",
                                    "Individual Air Carrier": "68.82"
                                },
                                {
                                    "Air Carrier": "Delta Air Lines",
                                    "Individual Air Carrier": "70.27"
                                },
                                {
                                    "Air Carrier": "Frontier Airlines",
                                    "Individual Air Carrier": "62.69"
                                },
                                {
                                    "Air Carrier": "JetBlue Airways",
                                    "Individual Air Carrier": "66.01"
                                },
                                {
                                    "Air Carrier": "Southwest Airlines",
                                    "Individual Air Carrier": "68.84"
                                },
                                {
                                    "Air Carrier": "Spirit Airlines",
                                    "Individual Air Carrier": "67.17"
                                },
                                {
                                    "Air Carrier": "United Air Lines",
                                    "Individual Air Carrier": "68.08"
                                }
                            ]
                        },
                        "text/html": [
                            "<table>",
                            "<tr><th>Air Carrier</th><th>Individual Air Carrier</th></tr>",
                            "<tr><td>Alaska Airlines</td><td>61.29</td></tr>",
                            "<tr><td>Envoy Air (American Airlines)</td><td>76.98</td></tr>",
                            "<tr><td>American Airlines</td><td>73.39</td></tr>",
                            "<tr><td>Republic Airline (American Airlines)</td><td>68.82</td></tr>",
                            "<tr><td>Delta Air Lines</td><td>70.27</td></tr>",
                            "<tr><td>Frontier Airlines</td><td>62.69</td></tr>",
                            "<tr><td>JetBlue Airways</td><td>66.01</td></tr>",
                            "<tr><td>Southwest Airlines</td><td>68.84</td></tr>",
                            "<tr><td>Spirit Airlines</td><td>67.17</td></tr>",
                            "<tr><td>United Air Lines</td><td>68.08</td></tr>",
                            "</table>"
                        ]
                    }
                }
            ],
            "execution_count": 16
        }
    ]
}